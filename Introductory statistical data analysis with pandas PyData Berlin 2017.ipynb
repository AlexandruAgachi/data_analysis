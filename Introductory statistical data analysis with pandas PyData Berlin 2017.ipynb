{
 "cells": [
  {
   "cell_type": "code",
   "execution_count": 376,
   "metadata": {
    "collapsed": true
   },
   "outputs": [],
   "source": [
    "#recommend installing Anaconda for ease:\n",
    "#https://www.continuum.io/downloads\n",
    "#certain packages i.e. seaborn, do not come with the standard installation. A simple search for\n",
    "#how to 'install seaborn with anaconda' will easily find the installation instructions.\n",
    "#i.e. in this case:\n",
    "#http://seaborn.pydata.org/installing.html\n",
    "#conda install seaborn"
   ]
  },
  {
   "cell_type": "code",
   "execution_count": 538,
   "metadata": {
    "collapsed": true
   },
   "outputs": [],
   "source": [
    "#Alexandru Agachi\n",
    "#m.a.agachi@gmail.com"
   ]
  },
  {
   "cell_type": "code",
   "execution_count": null,
   "metadata": {
    "collapsed": true
   },
   "outputs": [],
   "source": [
    "#Why"
   ]
  },
  {
   "cell_type": "code",
   "execution_count": null,
   "metadata": {
    "collapsed": true
   },
   "outputs": [],
   "source": [
    "#Why statistics"
   ]
  },
  {
   "cell_type": "code",
   "execution_count": 516,
   "metadata": {
    "collapsed": true
   },
   "outputs": [],
   "source": [
    "#Why focus on data\n",
    "#\"Better to be in an expanding world and not quite in exactly the right field, than to be in a contracting world where\n",
    "#people's worst behavior comes out.\" Eric Weinstein"
   ]
  },
  {
   "cell_type": "code",
   "execution_count": 599,
   "metadata": {
    "collapsed": true
   },
   "outputs": [],
   "source": [
    "#Why healthcare\n",
    "#Ripe for data analysis\n",
    "#30% of world's data\n",
    "#\"The biomedical sciences have been the pillar of the health care system for a long time now. The new system will have \n",
    "#two equal pillars — the biomedical sciences and the data sciences.\" Dr Scott Zeger"
   ]
  },
  {
   "cell_type": "code",
   "execution_count": 601,
   "metadata": {
    "collapsed": true
   },
   "outputs": [],
   "source": [
    "#Roadmap\n",
    "#Blueprint for statistical data exploration"
   ]
  },
  {
   "cell_type": "code",
   "execution_count": 3,
   "metadata": {
    "collapsed": false
   },
   "outputs": [
    {
     "name": "stderr",
     "output_type": "stream",
     "text": [
      "//anaconda/lib/python3.6/site-packages/sklearn/cross_validation.py:44: DeprecationWarning: This module was deprecated in version 0.18 in favor of the model_selection module into which all the refactored classes and functions are moved. Also note that the interface of the new CV iterators are different from that of this module. This module will be removed in 0.20.\n",
      "  \"This module will be removed in 0.20.\", DeprecationWarning)\n"
     ]
    }
   ],
   "source": [
    "#import the packages we will use\n",
    "import pandas as pd\n",
    "import numpy as np\n",
    "import seaborn as sns\n",
    "import matplotlib.pyplot as plt\n",
    "#use simplest tool available\n",
    "import statsmodels.formula.api as smf\n",
    "import statsmodels.stats.multicomp as multi\n",
    "import statsmodels.api as sm\n",
    "import scipy.stats\n",
    "from sklearn.cross_validation import train_test_split\n",
    "from sklearn.tree import DecisionTreeClassifier\n",
    "from sklearn.metrics import classification_report\n",
    "import sklearn.metrics\n",
    "from sklearn import datasets\n",
    "from sklearn.ensemble import ExtraTreesClassifier\n",
    "from sklearn.ensemble import RandomForestClassifier\n",
    "#from sklearn import preprocessing\n",
    "#from sklearn.linear_model import LassoLarsCV\n",
    "#from sklearn.cluster import KMeans\n",
    "%matplotlib inline\n",
    "sns.set(style=\"whitegrid\", color_codes=True)\n",
    "#bugs"
   ]
  },
  {
   "cell_type": "code",
   "execution_count": 39,
   "metadata": {
    "collapsed": true
   },
   "outputs": [],
   "source": [
    "#All credit for the data, and our many thanks, go to the principal investigators who collected this data \n",
    "#and made it available\n",
    "\n",
    "#1. Hungarian Institute of Cardiology. Budapest: Andras Janosi, M.D.\n",
    "#2. University Hospital, Zurich, Switzerland: William Steinbrunn, M.D.\n",
    "#3. University Hospital, Basel, Switzerland: Matthias Pfisterer, M.D.\n",
    "#4. V.A. Medical Center, Long Beach and Cleveland Clinic Foundation: Robert Detrano, M.D., Ph.D."
   ]
  },
  {
   "cell_type": "code",
   "execution_count": 4,
   "metadata": {
    "collapsed": false
   },
   "outputs": [
    {
     "name": "stdout",
     "output_type": "stream",
     "text": [
      "[Errno 2] No such file or directory: 'Downloads/Heart disease dataset'\n",
      "/Users/aa/Downloads/Heart disease dataset\n"
     ]
    }
   ],
   "source": [
    "#http://archive.ics.uci.edu/ml/machine-learning-databases/heart-disease/\n",
    "cd Downloads/Heart disease dataset"
   ]
  },
  {
   "cell_type": "code",
   "execution_count": 602,
   "metadata": {
    "collapsed": true
   },
   "outputs": [],
   "source": [
    "#Data management is an integral part of your research process\n",
    "#Choices you make here will influence your entire study"
   ]
  },
  {
   "cell_type": "code",
   "execution_count": 20,
   "metadata": {
    "collapsed": false
   },
   "outputs": [],
   "source": [
    "cleveland = pd.read_csv('processed.cleveland.data.txt', header=None)"
   ]
  },
  {
   "cell_type": "code",
   "execution_count": 93,
   "metadata": {
    "collapsed": false
   },
   "outputs": [
    {
     "data": {
      "text/html": [
       "<div>\n",
       "<table border=\"1\" class=\"dataframe\">\n",
       "  <thead>\n",
       "    <tr style=\"text-align: right;\">\n",
       "      <th></th>\n",
       "      <th>0</th>\n",
       "      <th>1</th>\n",
       "      <th>2</th>\n",
       "      <th>3</th>\n",
       "      <th>4</th>\n",
       "      <th>5</th>\n",
       "      <th>6</th>\n",
       "      <th>7</th>\n",
       "      <th>8</th>\n",
       "      <th>9</th>\n",
       "      <th>10</th>\n",
       "      <th>11</th>\n",
       "      <th>12</th>\n",
       "      <th>13</th>\n",
       "    </tr>\n",
       "  </thead>\n",
       "  <tbody>\n",
       "    <tr>\n",
       "      <th>0</th>\n",
       "      <td>63.0</td>\n",
       "      <td>1.0</td>\n",
       "      <td>1.0</td>\n",
       "      <td>145.0</td>\n",
       "      <td>233.0</td>\n",
       "      <td>1.0</td>\n",
       "      <td>2.0</td>\n",
       "      <td>150.0</td>\n",
       "      <td>0.0</td>\n",
       "      <td>2.3</td>\n",
       "      <td>3.0</td>\n",
       "      <td>0.0</td>\n",
       "      <td>6.0</td>\n",
       "      <td>0</td>\n",
       "    </tr>\n",
       "    <tr>\n",
       "      <th>1</th>\n",
       "      <td>67.0</td>\n",
       "      <td>1.0</td>\n",
       "      <td>4.0</td>\n",
       "      <td>160.0</td>\n",
       "      <td>286.0</td>\n",
       "      <td>0.0</td>\n",
       "      <td>2.0</td>\n",
       "      <td>108.0</td>\n",
       "      <td>1.0</td>\n",
       "      <td>1.5</td>\n",
       "      <td>2.0</td>\n",
       "      <td>3.0</td>\n",
       "      <td>3.0</td>\n",
       "      <td>2</td>\n",
       "    </tr>\n",
       "    <tr>\n",
       "      <th>2</th>\n",
       "      <td>67.0</td>\n",
       "      <td>1.0</td>\n",
       "      <td>4.0</td>\n",
       "      <td>120.0</td>\n",
       "      <td>229.0</td>\n",
       "      <td>0.0</td>\n",
       "      <td>2.0</td>\n",
       "      <td>129.0</td>\n",
       "      <td>1.0</td>\n",
       "      <td>2.6</td>\n",
       "      <td>2.0</td>\n",
       "      <td>2.0</td>\n",
       "      <td>7.0</td>\n",
       "      <td>1</td>\n",
       "    </tr>\n",
       "    <tr>\n",
       "      <th>3</th>\n",
       "      <td>37.0</td>\n",
       "      <td>1.0</td>\n",
       "      <td>3.0</td>\n",
       "      <td>130.0</td>\n",
       "      <td>250.0</td>\n",
       "      <td>0.0</td>\n",
       "      <td>0.0</td>\n",
       "      <td>187.0</td>\n",
       "      <td>0.0</td>\n",
       "      <td>3.5</td>\n",
       "      <td>3.0</td>\n",
       "      <td>0.0</td>\n",
       "      <td>3.0</td>\n",
       "      <td>0</td>\n",
       "    </tr>\n",
       "    <tr>\n",
       "      <th>4</th>\n",
       "      <td>41.0</td>\n",
       "      <td>0.0</td>\n",
       "      <td>2.0</td>\n",
       "      <td>130.0</td>\n",
       "      <td>204.0</td>\n",
       "      <td>0.0</td>\n",
       "      <td>2.0</td>\n",
       "      <td>172.0</td>\n",
       "      <td>0.0</td>\n",
       "      <td>1.4</td>\n",
       "      <td>1.0</td>\n",
       "      <td>0.0</td>\n",
       "      <td>3.0</td>\n",
       "      <td>0</td>\n",
       "    </tr>\n",
       "    <tr>\n",
       "      <th>5</th>\n",
       "      <td>56.0</td>\n",
       "      <td>1.0</td>\n",
       "      <td>2.0</td>\n",
       "      <td>120.0</td>\n",
       "      <td>236.0</td>\n",
       "      <td>0.0</td>\n",
       "      <td>0.0</td>\n",
       "      <td>178.0</td>\n",
       "      <td>0.0</td>\n",
       "      <td>0.8</td>\n",
       "      <td>1.0</td>\n",
       "      <td>0.0</td>\n",
       "      <td>3.0</td>\n",
       "      <td>0</td>\n",
       "    </tr>\n",
       "    <tr>\n",
       "      <th>6</th>\n",
       "      <td>62.0</td>\n",
       "      <td>0.0</td>\n",
       "      <td>4.0</td>\n",
       "      <td>140.0</td>\n",
       "      <td>268.0</td>\n",
       "      <td>0.0</td>\n",
       "      <td>2.0</td>\n",
       "      <td>160.0</td>\n",
       "      <td>0.0</td>\n",
       "      <td>3.6</td>\n",
       "      <td>3.0</td>\n",
       "      <td>2.0</td>\n",
       "      <td>3.0</td>\n",
       "      <td>3</td>\n",
       "    </tr>\n",
       "    <tr>\n",
       "      <th>7</th>\n",
       "      <td>57.0</td>\n",
       "      <td>0.0</td>\n",
       "      <td>4.0</td>\n",
       "      <td>120.0</td>\n",
       "      <td>354.0</td>\n",
       "      <td>0.0</td>\n",
       "      <td>0.0</td>\n",
       "      <td>163.0</td>\n",
       "      <td>1.0</td>\n",
       "      <td>0.6</td>\n",
       "      <td>1.0</td>\n",
       "      <td>0.0</td>\n",
       "      <td>3.0</td>\n",
       "      <td>0</td>\n",
       "    </tr>\n",
       "    <tr>\n",
       "      <th>8</th>\n",
       "      <td>63.0</td>\n",
       "      <td>1.0</td>\n",
       "      <td>4.0</td>\n",
       "      <td>130.0</td>\n",
       "      <td>254.0</td>\n",
       "      <td>0.0</td>\n",
       "      <td>2.0</td>\n",
       "      <td>147.0</td>\n",
       "      <td>0.0</td>\n",
       "      <td>1.4</td>\n",
       "      <td>2.0</td>\n",
       "      <td>1.0</td>\n",
       "      <td>7.0</td>\n",
       "      <td>2</td>\n",
       "    </tr>\n",
       "    <tr>\n",
       "      <th>9</th>\n",
       "      <td>53.0</td>\n",
       "      <td>1.0</td>\n",
       "      <td>4.0</td>\n",
       "      <td>140.0</td>\n",
       "      <td>203.0</td>\n",
       "      <td>1.0</td>\n",
       "      <td>2.0</td>\n",
       "      <td>155.0</td>\n",
       "      <td>1.0</td>\n",
       "      <td>3.1</td>\n",
       "      <td>3.0</td>\n",
       "      <td>0.0</td>\n",
       "      <td>7.0</td>\n",
       "      <td>1</td>\n",
       "    </tr>\n",
       "  </tbody>\n",
       "</table>\n",
       "</div>"
      ],
      "text/plain": [
       "     0    1    2      3      4    5    6      7    8    9    10   11   12  13\n",
       "0  63.0  1.0  1.0  145.0  233.0  1.0  2.0  150.0  0.0  2.3  3.0  0.0  6.0   0\n",
       "1  67.0  1.0  4.0  160.0  286.0  0.0  2.0  108.0  1.0  1.5  2.0  3.0  3.0   2\n",
       "2  67.0  1.0  4.0  120.0  229.0  0.0  2.0  129.0  1.0  2.6  2.0  2.0  7.0   1\n",
       "3  37.0  1.0  3.0  130.0  250.0  0.0  0.0  187.0  0.0  3.5  3.0  0.0  3.0   0\n",
       "4  41.0  0.0  2.0  130.0  204.0  0.0  2.0  172.0  0.0  1.4  1.0  0.0  3.0   0\n",
       "5  56.0  1.0  2.0  120.0  236.0  0.0  0.0  178.0  0.0  0.8  1.0  0.0  3.0   0\n",
       "6  62.0  0.0  4.0  140.0  268.0  0.0  2.0  160.0  0.0  3.6  3.0  2.0  3.0   3\n",
       "7  57.0  0.0  4.0  120.0  354.0  0.0  0.0  163.0  1.0  0.6  1.0  0.0  3.0   0\n",
       "8  63.0  1.0  4.0  130.0  254.0  0.0  2.0  147.0  0.0  1.4  2.0  1.0  7.0   2\n",
       "9  53.0  1.0  4.0  140.0  203.0  1.0  2.0  155.0  1.0  3.1  3.0  0.0  7.0   1"
      ]
     },
     "execution_count": 93,
     "metadata": {},
     "output_type": "execute_result"
    }
   ],
   "source": [
    "cleveland.head(10)"
   ]
  },
  {
   "cell_type": "code",
   "execution_count": 25,
   "metadata": {
    "collapsed": true
   },
   "outputs": [],
   "source": [
    "hungary = pd.read_csv('processed.hungarian.data.txt', header=None)"
   ]
  },
  {
   "cell_type": "code",
   "execution_count": 26,
   "metadata": {
    "collapsed": false
   },
   "outputs": [
    {
     "data": {
      "text/html": [
       "<div>\n",
       "<table border=\"1\" class=\"dataframe\">\n",
       "  <thead>\n",
       "    <tr style=\"text-align: right;\">\n",
       "      <th></th>\n",
       "      <th>0</th>\n",
       "      <th>1</th>\n",
       "      <th>2</th>\n",
       "      <th>3</th>\n",
       "      <th>4</th>\n",
       "      <th>5</th>\n",
       "      <th>6</th>\n",
       "      <th>7</th>\n",
       "      <th>8</th>\n",
       "      <th>9</th>\n",
       "      <th>10</th>\n",
       "      <th>11</th>\n",
       "      <th>12</th>\n",
       "      <th>13</th>\n",
       "    </tr>\n",
       "  </thead>\n",
       "  <tbody>\n",
       "    <tr>\n",
       "      <th>0</th>\n",
       "      <td>28</td>\n",
       "      <td>1</td>\n",
       "      <td>2</td>\n",
       "      <td>130</td>\n",
       "      <td>132</td>\n",
       "      <td>0</td>\n",
       "      <td>2</td>\n",
       "      <td>185</td>\n",
       "      <td>0</td>\n",
       "      <td>0.0</td>\n",
       "      <td>?</td>\n",
       "      <td>?</td>\n",
       "      <td>?</td>\n",
       "      <td>0</td>\n",
       "    </tr>\n",
       "    <tr>\n",
       "      <th>1</th>\n",
       "      <td>29</td>\n",
       "      <td>1</td>\n",
       "      <td>2</td>\n",
       "      <td>120</td>\n",
       "      <td>243</td>\n",
       "      <td>0</td>\n",
       "      <td>0</td>\n",
       "      <td>160</td>\n",
       "      <td>0</td>\n",
       "      <td>0.0</td>\n",
       "      <td>?</td>\n",
       "      <td>?</td>\n",
       "      <td>?</td>\n",
       "      <td>0</td>\n",
       "    </tr>\n",
       "    <tr>\n",
       "      <th>2</th>\n",
       "      <td>29</td>\n",
       "      <td>1</td>\n",
       "      <td>2</td>\n",
       "      <td>140</td>\n",
       "      <td>?</td>\n",
       "      <td>0</td>\n",
       "      <td>0</td>\n",
       "      <td>170</td>\n",
       "      <td>0</td>\n",
       "      <td>0.0</td>\n",
       "      <td>?</td>\n",
       "      <td>?</td>\n",
       "      <td>?</td>\n",
       "      <td>0</td>\n",
       "    </tr>\n",
       "    <tr>\n",
       "      <th>3</th>\n",
       "      <td>30</td>\n",
       "      <td>0</td>\n",
       "      <td>1</td>\n",
       "      <td>170</td>\n",
       "      <td>237</td>\n",
       "      <td>0</td>\n",
       "      <td>1</td>\n",
       "      <td>170</td>\n",
       "      <td>0</td>\n",
       "      <td>0.0</td>\n",
       "      <td>?</td>\n",
       "      <td>?</td>\n",
       "      <td>6</td>\n",
       "      <td>0</td>\n",
       "    </tr>\n",
       "    <tr>\n",
       "      <th>4</th>\n",
       "      <td>31</td>\n",
       "      <td>0</td>\n",
       "      <td>2</td>\n",
       "      <td>100</td>\n",
       "      <td>219</td>\n",
       "      <td>0</td>\n",
       "      <td>1</td>\n",
       "      <td>150</td>\n",
       "      <td>0</td>\n",
       "      <td>0.0</td>\n",
       "      <td>?</td>\n",
       "      <td>?</td>\n",
       "      <td>?</td>\n",
       "      <td>0</td>\n",
       "    </tr>\n",
       "    <tr>\n",
       "      <th>5</th>\n",
       "      <td>32</td>\n",
       "      <td>0</td>\n",
       "      <td>2</td>\n",
       "      <td>105</td>\n",
       "      <td>198</td>\n",
       "      <td>0</td>\n",
       "      <td>0</td>\n",
       "      <td>165</td>\n",
       "      <td>0</td>\n",
       "      <td>0.0</td>\n",
       "      <td>?</td>\n",
       "      <td>?</td>\n",
       "      <td>?</td>\n",
       "      <td>0</td>\n",
       "    </tr>\n",
       "    <tr>\n",
       "      <th>6</th>\n",
       "      <td>32</td>\n",
       "      <td>1</td>\n",
       "      <td>2</td>\n",
       "      <td>110</td>\n",
       "      <td>225</td>\n",
       "      <td>0</td>\n",
       "      <td>0</td>\n",
       "      <td>184</td>\n",
       "      <td>0</td>\n",
       "      <td>0.0</td>\n",
       "      <td>?</td>\n",
       "      <td>?</td>\n",
       "      <td>?</td>\n",
       "      <td>0</td>\n",
       "    </tr>\n",
       "    <tr>\n",
       "      <th>7</th>\n",
       "      <td>32</td>\n",
       "      <td>1</td>\n",
       "      <td>2</td>\n",
       "      <td>125</td>\n",
       "      <td>254</td>\n",
       "      <td>0</td>\n",
       "      <td>0</td>\n",
       "      <td>155</td>\n",
       "      <td>0</td>\n",
       "      <td>0.0</td>\n",
       "      <td>?</td>\n",
       "      <td>?</td>\n",
       "      <td>?</td>\n",
       "      <td>0</td>\n",
       "    </tr>\n",
       "    <tr>\n",
       "      <th>8</th>\n",
       "      <td>33</td>\n",
       "      <td>1</td>\n",
       "      <td>3</td>\n",
       "      <td>120</td>\n",
       "      <td>298</td>\n",
       "      <td>0</td>\n",
       "      <td>0</td>\n",
       "      <td>185</td>\n",
       "      <td>0</td>\n",
       "      <td>0.0</td>\n",
       "      <td>?</td>\n",
       "      <td>?</td>\n",
       "      <td>?</td>\n",
       "      <td>0</td>\n",
       "    </tr>\n",
       "    <tr>\n",
       "      <th>9</th>\n",
       "      <td>34</td>\n",
       "      <td>0</td>\n",
       "      <td>2</td>\n",
       "      <td>130</td>\n",
       "      <td>161</td>\n",
       "      <td>0</td>\n",
       "      <td>0</td>\n",
       "      <td>190</td>\n",
       "      <td>0</td>\n",
       "      <td>0.0</td>\n",
       "      <td>?</td>\n",
       "      <td>?</td>\n",
       "      <td>?</td>\n",
       "      <td>0</td>\n",
       "    </tr>\n",
       "  </tbody>\n",
       "</table>\n",
       "</div>"
      ],
      "text/plain": [
       "   0   1   2    3    4  5  6    7  8    9  10 11 12  13\n",
       "0  28   1   2  130  132  0  2  185  0  0.0  ?  ?  ?   0\n",
       "1  29   1   2  120  243  0  0  160  0  0.0  ?  ?  ?   0\n",
       "2  29   1   2  140    ?  0  0  170  0  0.0  ?  ?  ?   0\n",
       "3  30   0   1  170  237  0  1  170  0  0.0  ?  ?  6   0\n",
       "4  31   0   2  100  219  0  1  150  0  0.0  ?  ?  ?   0\n",
       "5  32   0   2  105  198  0  0  165  0  0.0  ?  ?  ?   0\n",
       "6  32   1   2  110  225  0  0  184  0  0.0  ?  ?  ?   0\n",
       "7  32   1   2  125  254  0  0  155  0  0.0  ?  ?  ?   0\n",
       "8  33   1   3  120  298  0  0  185  0  0.0  ?  ?  ?   0\n",
       "9  34   0   2  130  161  0  0  190  0  0.0  ?  ?  ?   0"
      ]
     },
     "execution_count": 26,
     "metadata": {},
     "output_type": "execute_result"
    }
   ],
   "source": [
    "hungary.head(10)"
   ]
  },
  {
   "cell_type": "code",
   "execution_count": 27,
   "metadata": {
    "collapsed": true
   },
   "outputs": [],
   "source": [
    "switzerland = pd.read_csv('processed.switzerland.data.txt', header=None)"
   ]
  },
  {
   "cell_type": "code",
   "execution_count": 28,
   "metadata": {
    "collapsed": false
   },
   "outputs": [
    {
     "data": {
      "text/html": [
       "<div>\n",
       "<table border=\"1\" class=\"dataframe\">\n",
       "  <thead>\n",
       "    <tr style=\"text-align: right;\">\n",
       "      <th></th>\n",
       "      <th>0</th>\n",
       "      <th>1</th>\n",
       "      <th>2</th>\n",
       "      <th>3</th>\n",
       "      <th>4</th>\n",
       "      <th>5</th>\n",
       "      <th>6</th>\n",
       "      <th>7</th>\n",
       "      <th>8</th>\n",
       "      <th>9</th>\n",
       "      <th>10</th>\n",
       "      <th>11</th>\n",
       "      <th>12</th>\n",
       "      <th>13</th>\n",
       "    </tr>\n",
       "  </thead>\n",
       "  <tbody>\n",
       "    <tr>\n",
       "      <th>0</th>\n",
       "      <td>32</td>\n",
       "      <td>1</td>\n",
       "      <td>1</td>\n",
       "      <td>95</td>\n",
       "      <td>0</td>\n",
       "      <td>?</td>\n",
       "      <td>0</td>\n",
       "      <td>127</td>\n",
       "      <td>0</td>\n",
       "      <td>.7</td>\n",
       "      <td>1</td>\n",
       "      <td>?</td>\n",
       "      <td>?</td>\n",
       "      <td>1</td>\n",
       "    </tr>\n",
       "    <tr>\n",
       "      <th>1</th>\n",
       "      <td>34</td>\n",
       "      <td>1</td>\n",
       "      <td>4</td>\n",
       "      <td>115</td>\n",
       "      <td>0</td>\n",
       "      <td>?</td>\n",
       "      <td>?</td>\n",
       "      <td>154</td>\n",
       "      <td>0</td>\n",
       "      <td>.2</td>\n",
       "      <td>1</td>\n",
       "      <td>?</td>\n",
       "      <td>?</td>\n",
       "      <td>1</td>\n",
       "    </tr>\n",
       "    <tr>\n",
       "      <th>2</th>\n",
       "      <td>35</td>\n",
       "      <td>1</td>\n",
       "      <td>4</td>\n",
       "      <td>?</td>\n",
       "      <td>0</td>\n",
       "      <td>?</td>\n",
       "      <td>0</td>\n",
       "      <td>130</td>\n",
       "      <td>1</td>\n",
       "      <td>?</td>\n",
       "      <td>?</td>\n",
       "      <td>?</td>\n",
       "      <td>7</td>\n",
       "      <td>3</td>\n",
       "    </tr>\n",
       "    <tr>\n",
       "      <th>3</th>\n",
       "      <td>36</td>\n",
       "      <td>1</td>\n",
       "      <td>4</td>\n",
       "      <td>110</td>\n",
       "      <td>0</td>\n",
       "      <td>?</td>\n",
       "      <td>0</td>\n",
       "      <td>125</td>\n",
       "      <td>1</td>\n",
       "      <td>1</td>\n",
       "      <td>2</td>\n",
       "      <td>?</td>\n",
       "      <td>6</td>\n",
       "      <td>1</td>\n",
       "    </tr>\n",
       "    <tr>\n",
       "      <th>4</th>\n",
       "      <td>38</td>\n",
       "      <td>0</td>\n",
       "      <td>4</td>\n",
       "      <td>105</td>\n",
       "      <td>0</td>\n",
       "      <td>?</td>\n",
       "      <td>0</td>\n",
       "      <td>166</td>\n",
       "      <td>0</td>\n",
       "      <td>2.8</td>\n",
       "      <td>1</td>\n",
       "      <td>?</td>\n",
       "      <td>?</td>\n",
       "      <td>2</td>\n",
       "    </tr>\n",
       "    <tr>\n",
       "      <th>5</th>\n",
       "      <td>38</td>\n",
       "      <td>0</td>\n",
       "      <td>4</td>\n",
       "      <td>110</td>\n",
       "      <td>0</td>\n",
       "      <td>0</td>\n",
       "      <td>0</td>\n",
       "      <td>156</td>\n",
       "      <td>0</td>\n",
       "      <td>0</td>\n",
       "      <td>2</td>\n",
       "      <td>?</td>\n",
       "      <td>3</td>\n",
       "      <td>1</td>\n",
       "    </tr>\n",
       "    <tr>\n",
       "      <th>6</th>\n",
       "      <td>38</td>\n",
       "      <td>1</td>\n",
       "      <td>3</td>\n",
       "      <td>100</td>\n",
       "      <td>0</td>\n",
       "      <td>?</td>\n",
       "      <td>0</td>\n",
       "      <td>179</td>\n",
       "      <td>0</td>\n",
       "      <td>-1.1</td>\n",
       "      <td>1</td>\n",
       "      <td>?</td>\n",
       "      <td>?</td>\n",
       "      <td>0</td>\n",
       "    </tr>\n",
       "    <tr>\n",
       "      <th>7</th>\n",
       "      <td>38</td>\n",
       "      <td>1</td>\n",
       "      <td>3</td>\n",
       "      <td>115</td>\n",
       "      <td>0</td>\n",
       "      <td>0</td>\n",
       "      <td>0</td>\n",
       "      <td>128</td>\n",
       "      <td>1</td>\n",
       "      <td>0</td>\n",
       "      <td>2</td>\n",
       "      <td>?</td>\n",
       "      <td>7</td>\n",
       "      <td>1</td>\n",
       "    </tr>\n",
       "    <tr>\n",
       "      <th>8</th>\n",
       "      <td>38</td>\n",
       "      <td>1</td>\n",
       "      <td>4</td>\n",
       "      <td>135</td>\n",
       "      <td>0</td>\n",
       "      <td>?</td>\n",
       "      <td>0</td>\n",
       "      <td>150</td>\n",
       "      <td>0</td>\n",
       "      <td>0</td>\n",
       "      <td>?</td>\n",
       "      <td>?</td>\n",
       "      <td>3</td>\n",
       "      <td>2</td>\n",
       "    </tr>\n",
       "    <tr>\n",
       "      <th>9</th>\n",
       "      <td>38</td>\n",
       "      <td>1</td>\n",
       "      <td>4</td>\n",
       "      <td>150</td>\n",
       "      <td>0</td>\n",
       "      <td>?</td>\n",
       "      <td>0</td>\n",
       "      <td>120</td>\n",
       "      <td>1</td>\n",
       "      <td>?</td>\n",
       "      <td>?</td>\n",
       "      <td>?</td>\n",
       "      <td>3</td>\n",
       "      <td>1</td>\n",
       "    </tr>\n",
       "  </tbody>\n",
       "</table>\n",
       "</div>"
      ],
      "text/plain": [
       "   0   1   2    3   4  5  6    7  8     9  10 11 12  13\n",
       "0  32   1   1   95   0  ?  0  127  0    .7  1  ?  ?   1\n",
       "1  34   1   4  115   0  ?  ?  154  0    .2  1  ?  ?   1\n",
       "2  35   1   4    ?   0  ?  0  130  1     ?  ?  ?  7   3\n",
       "3  36   1   4  110   0  ?  0  125  1     1  2  ?  6   1\n",
       "4  38   0   4  105   0  ?  0  166  0   2.8  1  ?  ?   2\n",
       "5  38   0   4  110   0  0  0  156  0     0  2  ?  3   1\n",
       "6  38   1   3  100   0  ?  0  179  0  -1.1  1  ?  ?   0\n",
       "7  38   1   3  115   0  0  0  128  1     0  2  ?  7   1\n",
       "8  38   1   4  135   0  ?  0  150  0     0  ?  ?  3   2\n",
       "9  38   1   4  150   0  ?  0  120  1     ?  ?  ?  3   1"
      ]
     },
     "execution_count": 28,
     "metadata": {},
     "output_type": "execute_result"
    }
   ],
   "source": [
    "switzerland.head(10)"
   ]
  },
  {
   "cell_type": "code",
   "execution_count": 30,
   "metadata": {
    "collapsed": true
   },
   "outputs": [],
   "source": [
    "va = pd.read_csv('processed.va.data.txt', header=None)"
   ]
  },
  {
   "cell_type": "code",
   "execution_count": 31,
   "metadata": {
    "collapsed": false
   },
   "outputs": [
    {
     "data": {
      "text/html": [
       "<div>\n",
       "<table border=\"1\" class=\"dataframe\">\n",
       "  <thead>\n",
       "    <tr style=\"text-align: right;\">\n",
       "      <th></th>\n",
       "      <th>0</th>\n",
       "      <th>1</th>\n",
       "      <th>2</th>\n",
       "      <th>3</th>\n",
       "      <th>4</th>\n",
       "      <th>5</th>\n",
       "      <th>6</th>\n",
       "      <th>7</th>\n",
       "      <th>8</th>\n",
       "      <th>9</th>\n",
       "      <th>10</th>\n",
       "      <th>11</th>\n",
       "      <th>12</th>\n",
       "      <th>13</th>\n",
       "    </tr>\n",
       "  </thead>\n",
       "  <tbody>\n",
       "    <tr>\n",
       "      <th>0</th>\n",
       "      <td>63</td>\n",
       "      <td>1</td>\n",
       "      <td>4</td>\n",
       "      <td>140</td>\n",
       "      <td>260</td>\n",
       "      <td>0</td>\n",
       "      <td>1</td>\n",
       "      <td>112</td>\n",
       "      <td>1</td>\n",
       "      <td>3</td>\n",
       "      <td>2</td>\n",
       "      <td>?</td>\n",
       "      <td>?</td>\n",
       "      <td>2</td>\n",
       "    </tr>\n",
       "    <tr>\n",
       "      <th>1</th>\n",
       "      <td>44</td>\n",
       "      <td>1</td>\n",
       "      <td>4</td>\n",
       "      <td>130</td>\n",
       "      <td>209</td>\n",
       "      <td>0</td>\n",
       "      <td>1</td>\n",
       "      <td>127</td>\n",
       "      <td>0</td>\n",
       "      <td>0</td>\n",
       "      <td>?</td>\n",
       "      <td>?</td>\n",
       "      <td>?</td>\n",
       "      <td>0</td>\n",
       "    </tr>\n",
       "    <tr>\n",
       "      <th>2</th>\n",
       "      <td>60</td>\n",
       "      <td>1</td>\n",
       "      <td>4</td>\n",
       "      <td>132</td>\n",
       "      <td>218</td>\n",
       "      <td>0</td>\n",
       "      <td>1</td>\n",
       "      <td>140</td>\n",
       "      <td>1</td>\n",
       "      <td>1.5</td>\n",
       "      <td>3</td>\n",
       "      <td>?</td>\n",
       "      <td>?</td>\n",
       "      <td>2</td>\n",
       "    </tr>\n",
       "    <tr>\n",
       "      <th>3</th>\n",
       "      <td>55</td>\n",
       "      <td>1</td>\n",
       "      <td>4</td>\n",
       "      <td>142</td>\n",
       "      <td>228</td>\n",
       "      <td>0</td>\n",
       "      <td>1</td>\n",
       "      <td>149</td>\n",
       "      <td>1</td>\n",
       "      <td>2.5</td>\n",
       "      <td>1</td>\n",
       "      <td>?</td>\n",
       "      <td>?</td>\n",
       "      <td>1</td>\n",
       "    </tr>\n",
       "    <tr>\n",
       "      <th>4</th>\n",
       "      <td>66</td>\n",
       "      <td>1</td>\n",
       "      <td>3</td>\n",
       "      <td>110</td>\n",
       "      <td>213</td>\n",
       "      <td>1</td>\n",
       "      <td>2</td>\n",
       "      <td>99</td>\n",
       "      <td>1</td>\n",
       "      <td>1.3</td>\n",
       "      <td>2</td>\n",
       "      <td>?</td>\n",
       "      <td>?</td>\n",
       "      <td>0</td>\n",
       "    </tr>\n",
       "    <tr>\n",
       "      <th>5</th>\n",
       "      <td>66</td>\n",
       "      <td>1</td>\n",
       "      <td>3</td>\n",
       "      <td>120</td>\n",
       "      <td>0</td>\n",
       "      <td>0</td>\n",
       "      <td>1</td>\n",
       "      <td>120</td>\n",
       "      <td>0</td>\n",
       "      <td>-0.5</td>\n",
       "      <td>1</td>\n",
       "      <td>?</td>\n",
       "      <td>?</td>\n",
       "      <td>0</td>\n",
       "    </tr>\n",
       "    <tr>\n",
       "      <th>6</th>\n",
       "      <td>65</td>\n",
       "      <td>1</td>\n",
       "      <td>4</td>\n",
       "      <td>150</td>\n",
       "      <td>236</td>\n",
       "      <td>1</td>\n",
       "      <td>1</td>\n",
       "      <td>105</td>\n",
       "      <td>1</td>\n",
       "      <td>0</td>\n",
       "      <td>?</td>\n",
       "      <td>?</td>\n",
       "      <td>?</td>\n",
       "      <td>3</td>\n",
       "    </tr>\n",
       "    <tr>\n",
       "      <th>7</th>\n",
       "      <td>60</td>\n",
       "      <td>1</td>\n",
       "      <td>3</td>\n",
       "      <td>180</td>\n",
       "      <td>0</td>\n",
       "      <td>0</td>\n",
       "      <td>1</td>\n",
       "      <td>140</td>\n",
       "      <td>1</td>\n",
       "      <td>1.5</td>\n",
       "      <td>2</td>\n",
       "      <td>?</td>\n",
       "      <td>?</td>\n",
       "      <td>0</td>\n",
       "    </tr>\n",
       "    <tr>\n",
       "      <th>8</th>\n",
       "      <td>60</td>\n",
       "      <td>1</td>\n",
       "      <td>3</td>\n",
       "      <td>120</td>\n",
       "      <td>0</td>\n",
       "      <td>?</td>\n",
       "      <td>0</td>\n",
       "      <td>141</td>\n",
       "      <td>1</td>\n",
       "      <td>2</td>\n",
       "      <td>1</td>\n",
       "      <td>?</td>\n",
       "      <td>?</td>\n",
       "      <td>3</td>\n",
       "    </tr>\n",
       "    <tr>\n",
       "      <th>9</th>\n",
       "      <td>60</td>\n",
       "      <td>1</td>\n",
       "      <td>2</td>\n",
       "      <td>160</td>\n",
       "      <td>267</td>\n",
       "      <td>1</td>\n",
       "      <td>1</td>\n",
       "      <td>157</td>\n",
       "      <td>0</td>\n",
       "      <td>0.5</td>\n",
       "      <td>2</td>\n",
       "      <td>?</td>\n",
       "      <td>?</td>\n",
       "      <td>1</td>\n",
       "    </tr>\n",
       "  </tbody>\n",
       "</table>\n",
       "</div>"
      ],
      "text/plain": [
       "   0   1   2    3    4  5   6    7  8     9  10 11 12  13\n",
       "0  63   1   4  140  260  0   1  112  1     3  2  ?  ?   2\n",
       "1  44   1   4  130  209  0   1  127  0     0  ?  ?  ?   0\n",
       "2  60   1   4  132  218  0   1  140  1   1.5  3  ?  ?   2\n",
       "3  55   1   4  142  228  0   1  149  1   2.5  1  ?  ?   1\n",
       "4  66   1   3  110  213  1   2   99  1   1.3  2  ?  ?   0\n",
       "5  66   1   3  120    0  0   1  120  0  -0.5  1  ?  ?   0\n",
       "6  65   1   4  150  236  1   1  105  1     0  ?  ?  ?   3\n",
       "7  60   1   3  180    0  0   1  140  1   1.5  2  ?  ?   0\n",
       "8  60   1   3  120    0  ?   0  141  1     2  1  ?  ?   3\n",
       "9  60   1   2  160  267  1   1  157  0   0.5  2  ?  ?   1"
      ]
     },
     "execution_count": 31,
     "metadata": {},
     "output_type": "execute_result"
    }
   ],
   "source": [
    "va.head(10)"
   ]
  },
  {
   "cell_type": "code",
   "execution_count": 377,
   "metadata": {
    "collapsed": false
   },
   "outputs": [],
   "source": [
    "#va.replace('?', np.NaN)"
   ]
  },
  {
   "cell_type": "code",
   "execution_count": 37,
   "metadata": {
    "collapsed": false
   },
   "outputs": [],
   "source": [
    "df = pd.concat([cleveland, hungary, va, switzerland])"
   ]
  },
  {
   "cell_type": "code",
   "execution_count": 38,
   "metadata": {
    "collapsed": false
   },
   "outputs": [
    {
     "data": {
      "text/html": [
       "<div>\n",
       "<table border=\"1\" class=\"dataframe\">\n",
       "  <thead>\n",
       "    <tr style=\"text-align: right;\">\n",
       "      <th></th>\n",
       "      <th>0</th>\n",
       "      <th>1</th>\n",
       "      <th>2</th>\n",
       "      <th>3</th>\n",
       "      <th>4</th>\n",
       "      <th>5</th>\n",
       "      <th>6</th>\n",
       "      <th>7</th>\n",
       "      <th>8</th>\n",
       "      <th>9</th>\n",
       "      <th>10</th>\n",
       "      <th>11</th>\n",
       "      <th>12</th>\n",
       "      <th>13</th>\n",
       "    </tr>\n",
       "  </thead>\n",
       "  <tbody>\n",
       "    <tr>\n",
       "      <th>0</th>\n",
       "      <td>63.0</td>\n",
       "      <td>1.0</td>\n",
       "      <td>1.0</td>\n",
       "      <td>145</td>\n",
       "      <td>233</td>\n",
       "      <td>1</td>\n",
       "      <td>2</td>\n",
       "      <td>150</td>\n",
       "      <td>0</td>\n",
       "      <td>2.3</td>\n",
       "      <td>3</td>\n",
       "      <td>0.0</td>\n",
       "      <td>6.0</td>\n",
       "      <td>0</td>\n",
       "    </tr>\n",
       "    <tr>\n",
       "      <th>1</th>\n",
       "      <td>67.0</td>\n",
       "      <td>1.0</td>\n",
       "      <td>4.0</td>\n",
       "      <td>160</td>\n",
       "      <td>286</td>\n",
       "      <td>0</td>\n",
       "      <td>2</td>\n",
       "      <td>108</td>\n",
       "      <td>1</td>\n",
       "      <td>1.5</td>\n",
       "      <td>2</td>\n",
       "      <td>3.0</td>\n",
       "      <td>3.0</td>\n",
       "      <td>2</td>\n",
       "    </tr>\n",
       "    <tr>\n",
       "      <th>2</th>\n",
       "      <td>67.0</td>\n",
       "      <td>1.0</td>\n",
       "      <td>4.0</td>\n",
       "      <td>120</td>\n",
       "      <td>229</td>\n",
       "      <td>0</td>\n",
       "      <td>2</td>\n",
       "      <td>129</td>\n",
       "      <td>1</td>\n",
       "      <td>2.6</td>\n",
       "      <td>2</td>\n",
       "      <td>2.0</td>\n",
       "      <td>7.0</td>\n",
       "      <td>1</td>\n",
       "    </tr>\n",
       "    <tr>\n",
       "      <th>3</th>\n",
       "      <td>37.0</td>\n",
       "      <td>1.0</td>\n",
       "      <td>3.0</td>\n",
       "      <td>130</td>\n",
       "      <td>250</td>\n",
       "      <td>0</td>\n",
       "      <td>0</td>\n",
       "      <td>187</td>\n",
       "      <td>0</td>\n",
       "      <td>3.5</td>\n",
       "      <td>3</td>\n",
       "      <td>0.0</td>\n",
       "      <td>3.0</td>\n",
       "      <td>0</td>\n",
       "    </tr>\n",
       "    <tr>\n",
       "      <th>4</th>\n",
       "      <td>41.0</td>\n",
       "      <td>0.0</td>\n",
       "      <td>2.0</td>\n",
       "      <td>130</td>\n",
       "      <td>204</td>\n",
       "      <td>0</td>\n",
       "      <td>2</td>\n",
       "      <td>172</td>\n",
       "      <td>0</td>\n",
       "      <td>1.4</td>\n",
       "      <td>1</td>\n",
       "      <td>0.0</td>\n",
       "      <td>3.0</td>\n",
       "      <td>0</td>\n",
       "    </tr>\n",
       "    <tr>\n",
       "      <th>5</th>\n",
       "      <td>56.0</td>\n",
       "      <td>1.0</td>\n",
       "      <td>2.0</td>\n",
       "      <td>120</td>\n",
       "      <td>236</td>\n",
       "      <td>0</td>\n",
       "      <td>0</td>\n",
       "      <td>178</td>\n",
       "      <td>0</td>\n",
       "      <td>0.8</td>\n",
       "      <td>1</td>\n",
       "      <td>0.0</td>\n",
       "      <td>3.0</td>\n",
       "      <td>0</td>\n",
       "    </tr>\n",
       "    <tr>\n",
       "      <th>6</th>\n",
       "      <td>62.0</td>\n",
       "      <td>0.0</td>\n",
       "      <td>4.0</td>\n",
       "      <td>140</td>\n",
       "      <td>268</td>\n",
       "      <td>0</td>\n",
       "      <td>2</td>\n",
       "      <td>160</td>\n",
       "      <td>0</td>\n",
       "      <td>3.6</td>\n",
       "      <td>3</td>\n",
       "      <td>2.0</td>\n",
       "      <td>3.0</td>\n",
       "      <td>3</td>\n",
       "    </tr>\n",
       "    <tr>\n",
       "      <th>7</th>\n",
       "      <td>57.0</td>\n",
       "      <td>0.0</td>\n",
       "      <td>4.0</td>\n",
       "      <td>120</td>\n",
       "      <td>354</td>\n",
       "      <td>0</td>\n",
       "      <td>0</td>\n",
       "      <td>163</td>\n",
       "      <td>1</td>\n",
       "      <td>0.6</td>\n",
       "      <td>1</td>\n",
       "      <td>0.0</td>\n",
       "      <td>3.0</td>\n",
       "      <td>0</td>\n",
       "    </tr>\n",
       "    <tr>\n",
       "      <th>8</th>\n",
       "      <td>63.0</td>\n",
       "      <td>1.0</td>\n",
       "      <td>4.0</td>\n",
       "      <td>130</td>\n",
       "      <td>254</td>\n",
       "      <td>0</td>\n",
       "      <td>2</td>\n",
       "      <td>147</td>\n",
       "      <td>0</td>\n",
       "      <td>1.4</td>\n",
       "      <td>2</td>\n",
       "      <td>1.0</td>\n",
       "      <td>7.0</td>\n",
       "      <td>2</td>\n",
       "    </tr>\n",
       "    <tr>\n",
       "      <th>9</th>\n",
       "      <td>53.0</td>\n",
       "      <td>1.0</td>\n",
       "      <td>4.0</td>\n",
       "      <td>140</td>\n",
       "      <td>203</td>\n",
       "      <td>1</td>\n",
       "      <td>2</td>\n",
       "      <td>155</td>\n",
       "      <td>1</td>\n",
       "      <td>3.1</td>\n",
       "      <td>3</td>\n",
       "      <td>0.0</td>\n",
       "      <td>7.0</td>\n",
       "      <td>1</td>\n",
       "    </tr>\n",
       "    <tr>\n",
       "      <th>10</th>\n",
       "      <td>57.0</td>\n",
       "      <td>1.0</td>\n",
       "      <td>4.0</td>\n",
       "      <td>140</td>\n",
       "      <td>192</td>\n",
       "      <td>0</td>\n",
       "      <td>0</td>\n",
       "      <td>148</td>\n",
       "      <td>0</td>\n",
       "      <td>0.4</td>\n",
       "      <td>2</td>\n",
       "      <td>0.0</td>\n",
       "      <td>6.0</td>\n",
       "      <td>0</td>\n",
       "    </tr>\n",
       "    <tr>\n",
       "      <th>11</th>\n",
       "      <td>56.0</td>\n",
       "      <td>0.0</td>\n",
       "      <td>2.0</td>\n",
       "      <td>140</td>\n",
       "      <td>294</td>\n",
       "      <td>0</td>\n",
       "      <td>2</td>\n",
       "      <td>153</td>\n",
       "      <td>0</td>\n",
       "      <td>1.3</td>\n",
       "      <td>2</td>\n",
       "      <td>0.0</td>\n",
       "      <td>3.0</td>\n",
       "      <td>0</td>\n",
       "    </tr>\n",
       "    <tr>\n",
       "      <th>12</th>\n",
       "      <td>56.0</td>\n",
       "      <td>1.0</td>\n",
       "      <td>3.0</td>\n",
       "      <td>130</td>\n",
       "      <td>256</td>\n",
       "      <td>1</td>\n",
       "      <td>2</td>\n",
       "      <td>142</td>\n",
       "      <td>1</td>\n",
       "      <td>0.6</td>\n",
       "      <td>2</td>\n",
       "      <td>1.0</td>\n",
       "      <td>6.0</td>\n",
       "      <td>2</td>\n",
       "    </tr>\n",
       "    <tr>\n",
       "      <th>13</th>\n",
       "      <td>44.0</td>\n",
       "      <td>1.0</td>\n",
       "      <td>2.0</td>\n",
       "      <td>120</td>\n",
       "      <td>263</td>\n",
       "      <td>0</td>\n",
       "      <td>0</td>\n",
       "      <td>173</td>\n",
       "      <td>0</td>\n",
       "      <td>0</td>\n",
       "      <td>1</td>\n",
       "      <td>0.0</td>\n",
       "      <td>7.0</td>\n",
       "      <td>0</td>\n",
       "    </tr>\n",
       "    <tr>\n",
       "      <th>14</th>\n",
       "      <td>52.0</td>\n",
       "      <td>1.0</td>\n",
       "      <td>3.0</td>\n",
       "      <td>172</td>\n",
       "      <td>199</td>\n",
       "      <td>1</td>\n",
       "      <td>0</td>\n",
       "      <td>162</td>\n",
       "      <td>0</td>\n",
       "      <td>0.5</td>\n",
       "      <td>1</td>\n",
       "      <td>0.0</td>\n",
       "      <td>7.0</td>\n",
       "      <td>0</td>\n",
       "    </tr>\n",
       "    <tr>\n",
       "      <th>15</th>\n",
       "      <td>57.0</td>\n",
       "      <td>1.0</td>\n",
       "      <td>3.0</td>\n",
       "      <td>150</td>\n",
       "      <td>168</td>\n",
       "      <td>0</td>\n",
       "      <td>0</td>\n",
       "      <td>174</td>\n",
       "      <td>0</td>\n",
       "      <td>1.6</td>\n",
       "      <td>1</td>\n",
       "      <td>0.0</td>\n",
       "      <td>3.0</td>\n",
       "      <td>0</td>\n",
       "    </tr>\n",
       "    <tr>\n",
       "      <th>16</th>\n",
       "      <td>48.0</td>\n",
       "      <td>1.0</td>\n",
       "      <td>2.0</td>\n",
       "      <td>110</td>\n",
       "      <td>229</td>\n",
       "      <td>0</td>\n",
       "      <td>0</td>\n",
       "      <td>168</td>\n",
       "      <td>0</td>\n",
       "      <td>1</td>\n",
       "      <td>3</td>\n",
       "      <td>0.0</td>\n",
       "      <td>7.0</td>\n",
       "      <td>1</td>\n",
       "    </tr>\n",
       "    <tr>\n",
       "      <th>17</th>\n",
       "      <td>54.0</td>\n",
       "      <td>1.0</td>\n",
       "      <td>4.0</td>\n",
       "      <td>140</td>\n",
       "      <td>239</td>\n",
       "      <td>0</td>\n",
       "      <td>0</td>\n",
       "      <td>160</td>\n",
       "      <td>0</td>\n",
       "      <td>1.2</td>\n",
       "      <td>1</td>\n",
       "      <td>0.0</td>\n",
       "      <td>3.0</td>\n",
       "      <td>0</td>\n",
       "    </tr>\n",
       "    <tr>\n",
       "      <th>18</th>\n",
       "      <td>48.0</td>\n",
       "      <td>0.0</td>\n",
       "      <td>3.0</td>\n",
       "      <td>130</td>\n",
       "      <td>275</td>\n",
       "      <td>0</td>\n",
       "      <td>0</td>\n",
       "      <td>139</td>\n",
       "      <td>0</td>\n",
       "      <td>0.2</td>\n",
       "      <td>1</td>\n",
       "      <td>0.0</td>\n",
       "      <td>3.0</td>\n",
       "      <td>0</td>\n",
       "    </tr>\n",
       "    <tr>\n",
       "      <th>19</th>\n",
       "      <td>49.0</td>\n",
       "      <td>1.0</td>\n",
       "      <td>2.0</td>\n",
       "      <td>130</td>\n",
       "      <td>266</td>\n",
       "      <td>0</td>\n",
       "      <td>0</td>\n",
       "      <td>171</td>\n",
       "      <td>0</td>\n",
       "      <td>0.6</td>\n",
       "      <td>1</td>\n",
       "      <td>0.0</td>\n",
       "      <td>3.0</td>\n",
       "      <td>0</td>\n",
       "    </tr>\n",
       "    <tr>\n",
       "      <th>20</th>\n",
       "      <td>64.0</td>\n",
       "      <td>1.0</td>\n",
       "      <td>1.0</td>\n",
       "      <td>110</td>\n",
       "      <td>211</td>\n",
       "      <td>0</td>\n",
       "      <td>2</td>\n",
       "      <td>144</td>\n",
       "      <td>1</td>\n",
       "      <td>1.8</td>\n",
       "      <td>2</td>\n",
       "      <td>0.0</td>\n",
       "      <td>3.0</td>\n",
       "      <td>0</td>\n",
       "    </tr>\n",
       "    <tr>\n",
       "      <th>21</th>\n",
       "      <td>58.0</td>\n",
       "      <td>0.0</td>\n",
       "      <td>1.0</td>\n",
       "      <td>150</td>\n",
       "      <td>283</td>\n",
       "      <td>1</td>\n",
       "      <td>2</td>\n",
       "      <td>162</td>\n",
       "      <td>0</td>\n",
       "      <td>1</td>\n",
       "      <td>1</td>\n",
       "      <td>0.0</td>\n",
       "      <td>3.0</td>\n",
       "      <td>0</td>\n",
       "    </tr>\n",
       "    <tr>\n",
       "      <th>22</th>\n",
       "      <td>58.0</td>\n",
       "      <td>1.0</td>\n",
       "      <td>2.0</td>\n",
       "      <td>120</td>\n",
       "      <td>284</td>\n",
       "      <td>0</td>\n",
       "      <td>2</td>\n",
       "      <td>160</td>\n",
       "      <td>0</td>\n",
       "      <td>1.8</td>\n",
       "      <td>2</td>\n",
       "      <td>0.0</td>\n",
       "      <td>3.0</td>\n",
       "      <td>1</td>\n",
       "    </tr>\n",
       "    <tr>\n",
       "      <th>23</th>\n",
       "      <td>58.0</td>\n",
       "      <td>1.0</td>\n",
       "      <td>3.0</td>\n",
       "      <td>132</td>\n",
       "      <td>224</td>\n",
       "      <td>0</td>\n",
       "      <td>2</td>\n",
       "      <td>173</td>\n",
       "      <td>0</td>\n",
       "      <td>3.2</td>\n",
       "      <td>1</td>\n",
       "      <td>2.0</td>\n",
       "      <td>7.0</td>\n",
       "      <td>3</td>\n",
       "    </tr>\n",
       "    <tr>\n",
       "      <th>24</th>\n",
       "      <td>60.0</td>\n",
       "      <td>1.0</td>\n",
       "      <td>4.0</td>\n",
       "      <td>130</td>\n",
       "      <td>206</td>\n",
       "      <td>0</td>\n",
       "      <td>2</td>\n",
       "      <td>132</td>\n",
       "      <td>1</td>\n",
       "      <td>2.4</td>\n",
       "      <td>2</td>\n",
       "      <td>2.0</td>\n",
       "      <td>7.0</td>\n",
       "      <td>4</td>\n",
       "    </tr>\n",
       "    <tr>\n",
       "      <th>25</th>\n",
       "      <td>50.0</td>\n",
       "      <td>0.0</td>\n",
       "      <td>3.0</td>\n",
       "      <td>120</td>\n",
       "      <td>219</td>\n",
       "      <td>0</td>\n",
       "      <td>0</td>\n",
       "      <td>158</td>\n",
       "      <td>0</td>\n",
       "      <td>1.6</td>\n",
       "      <td>2</td>\n",
       "      <td>0.0</td>\n",
       "      <td>3.0</td>\n",
       "      <td>0</td>\n",
       "    </tr>\n",
       "    <tr>\n",
       "      <th>26</th>\n",
       "      <td>58.0</td>\n",
       "      <td>0.0</td>\n",
       "      <td>3.0</td>\n",
       "      <td>120</td>\n",
       "      <td>340</td>\n",
       "      <td>0</td>\n",
       "      <td>0</td>\n",
       "      <td>172</td>\n",
       "      <td>0</td>\n",
       "      <td>0</td>\n",
       "      <td>1</td>\n",
       "      <td>0.0</td>\n",
       "      <td>3.0</td>\n",
       "      <td>0</td>\n",
       "    </tr>\n",
       "    <tr>\n",
       "      <th>27</th>\n",
       "      <td>66.0</td>\n",
       "      <td>0.0</td>\n",
       "      <td>1.0</td>\n",
       "      <td>150</td>\n",
       "      <td>226</td>\n",
       "      <td>0</td>\n",
       "      <td>0</td>\n",
       "      <td>114</td>\n",
       "      <td>0</td>\n",
       "      <td>2.6</td>\n",
       "      <td>3</td>\n",
       "      <td>0.0</td>\n",
       "      <td>3.0</td>\n",
       "      <td>0</td>\n",
       "    </tr>\n",
       "    <tr>\n",
       "      <th>28</th>\n",
       "      <td>43.0</td>\n",
       "      <td>1.0</td>\n",
       "      <td>4.0</td>\n",
       "      <td>150</td>\n",
       "      <td>247</td>\n",
       "      <td>0</td>\n",
       "      <td>0</td>\n",
       "      <td>171</td>\n",
       "      <td>0</td>\n",
       "      <td>1.5</td>\n",
       "      <td>1</td>\n",
       "      <td>0.0</td>\n",
       "      <td>3.0</td>\n",
       "      <td>0</td>\n",
       "    </tr>\n",
       "    <tr>\n",
       "      <th>29</th>\n",
       "      <td>40.0</td>\n",
       "      <td>1.0</td>\n",
       "      <td>4.0</td>\n",
       "      <td>110</td>\n",
       "      <td>167</td>\n",
       "      <td>0</td>\n",
       "      <td>2</td>\n",
       "      <td>114</td>\n",
       "      <td>1</td>\n",
       "      <td>2</td>\n",
       "      <td>2</td>\n",
       "      <td>0.0</td>\n",
       "      <td>7.0</td>\n",
       "      <td>3</td>\n",
       "    </tr>\n",
       "    <tr>\n",
       "      <th>...</th>\n",
       "      <td>...</td>\n",
       "      <td>...</td>\n",
       "      <td>...</td>\n",
       "      <td>...</td>\n",
       "      <td>...</td>\n",
       "      <td>...</td>\n",
       "      <td>...</td>\n",
       "      <td>...</td>\n",
       "      <td>...</td>\n",
       "      <td>...</td>\n",
       "      <td>...</td>\n",
       "      <td>...</td>\n",
       "      <td>...</td>\n",
       "      <td>...</td>\n",
       "    </tr>\n",
       "    <tr>\n",
       "      <th>93</th>\n",
       "      <td>62.0</td>\n",
       "      <td>0.0</td>\n",
       "      <td>4.0</td>\n",
       "      <td>120</td>\n",
       "      <td>0</td>\n",
       "      <td>?</td>\n",
       "      <td>1</td>\n",
       "      <td>123</td>\n",
       "      <td>1</td>\n",
       "      <td>1.7</td>\n",
       "      <td>3</td>\n",
       "      <td>?</td>\n",
       "      <td>?</td>\n",
       "      <td>1</td>\n",
       "    </tr>\n",
       "    <tr>\n",
       "      <th>94</th>\n",
       "      <td>62.0</td>\n",
       "      <td>1.0</td>\n",
       "      <td>1.0</td>\n",
       "      <td>120</td>\n",
       "      <td>0</td>\n",
       "      <td>?</td>\n",
       "      <td>2</td>\n",
       "      <td>134</td>\n",
       "      <td>0</td>\n",
       "      <td>-.8</td>\n",
       "      <td>2</td>\n",
       "      <td>2</td>\n",
       "      <td>?</td>\n",
       "      <td>1</td>\n",
       "    </tr>\n",
       "    <tr>\n",
       "      <th>95</th>\n",
       "      <td>62.0</td>\n",
       "      <td>1.0</td>\n",
       "      <td>3.0</td>\n",
       "      <td>160</td>\n",
       "      <td>0</td>\n",
       "      <td>0</td>\n",
       "      <td>0</td>\n",
       "      <td>72</td>\n",
       "      <td>1</td>\n",
       "      <td>0</td>\n",
       "      <td>2</td>\n",
       "      <td>?</td>\n",
       "      <td>3</td>\n",
       "      <td>3</td>\n",
       "    </tr>\n",
       "    <tr>\n",
       "      <th>96</th>\n",
       "      <td>62.0</td>\n",
       "      <td>1.0</td>\n",
       "      <td>4.0</td>\n",
       "      <td>115</td>\n",
       "      <td>0</td>\n",
       "      <td>?</td>\n",
       "      <td>0</td>\n",
       "      <td>128</td>\n",
       "      <td>1</td>\n",
       "      <td>2.5</td>\n",
       "      <td>3</td>\n",
       "      <td>?</td>\n",
       "      <td>?</td>\n",
       "      <td>2</td>\n",
       "    </tr>\n",
       "    <tr>\n",
       "      <th>97</th>\n",
       "      <td>62.0</td>\n",
       "      <td>1.0</td>\n",
       "      <td>4.0</td>\n",
       "      <td>115</td>\n",
       "      <td>0</td>\n",
       "      <td>?</td>\n",
       "      <td>0</td>\n",
       "      <td>72</td>\n",
       "      <td>1</td>\n",
       "      <td>-.5</td>\n",
       "      <td>2</td>\n",
       "      <td>?</td>\n",
       "      <td>3</td>\n",
       "      <td>1</td>\n",
       "    </tr>\n",
       "    <tr>\n",
       "      <th>98</th>\n",
       "      <td>62.0</td>\n",
       "      <td>1.0</td>\n",
       "      <td>4.0</td>\n",
       "      <td>150</td>\n",
       "      <td>0</td>\n",
       "      <td>?</td>\n",
       "      <td>1</td>\n",
       "      <td>78</td>\n",
       "      <td>0</td>\n",
       "      <td>2</td>\n",
       "      <td>2</td>\n",
       "      <td>?</td>\n",
       "      <td>7</td>\n",
       "      <td>3</td>\n",
       "    </tr>\n",
       "    <tr>\n",
       "      <th>99</th>\n",
       "      <td>63.0</td>\n",
       "      <td>1.0</td>\n",
       "      <td>4.0</td>\n",
       "      <td>100</td>\n",
       "      <td>0</td>\n",
       "      <td>?</td>\n",
       "      <td>0</td>\n",
       "      <td>109</td>\n",
       "      <td>0</td>\n",
       "      <td>-.9</td>\n",
       "      <td>2</td>\n",
       "      <td>?</td>\n",
       "      <td>?</td>\n",
       "      <td>1</td>\n",
       "    </tr>\n",
       "    <tr>\n",
       "      <th>100</th>\n",
       "      <td>63.0</td>\n",
       "      <td>1.0</td>\n",
       "      <td>4.0</td>\n",
       "      <td>140</td>\n",
       "      <td>0</td>\n",
       "      <td>?</td>\n",
       "      <td>2</td>\n",
       "      <td>149</td>\n",
       "      <td>0</td>\n",
       "      <td>2</td>\n",
       "      <td>1</td>\n",
       "      <td>?</td>\n",
       "      <td>?</td>\n",
       "      <td>2</td>\n",
       "    </tr>\n",
       "    <tr>\n",
       "      <th>101</th>\n",
       "      <td>63.0</td>\n",
       "      <td>1.0</td>\n",
       "      <td>4.0</td>\n",
       "      <td>150</td>\n",
       "      <td>0</td>\n",
       "      <td>0</td>\n",
       "      <td>0</td>\n",
       "      <td>86</td>\n",
       "      <td>1</td>\n",
       "      <td>2</td>\n",
       "      <td>2</td>\n",
       "      <td>?</td>\n",
       "      <td>?</td>\n",
       "      <td>3</td>\n",
       "    </tr>\n",
       "    <tr>\n",
       "      <th>102</th>\n",
       "      <td>63.0</td>\n",
       "      <td>1.0</td>\n",
       "      <td>4.0</td>\n",
       "      <td>150</td>\n",
       "      <td>0</td>\n",
       "      <td>?</td>\n",
       "      <td>1</td>\n",
       "      <td>154</td>\n",
       "      <td>0</td>\n",
       "      <td>3.7</td>\n",
       "      <td>1</td>\n",
       "      <td>?</td>\n",
       "      <td>?</td>\n",
       "      <td>3</td>\n",
       "    </tr>\n",
       "    <tr>\n",
       "      <th>103</th>\n",
       "      <td>63.0</td>\n",
       "      <td>1.0</td>\n",
       "      <td>4.0</td>\n",
       "      <td>185</td>\n",
       "      <td>0</td>\n",
       "      <td>0</td>\n",
       "      <td>0</td>\n",
       "      <td>98</td>\n",
       "      <td>1</td>\n",
       "      <td>0</td>\n",
       "      <td>1</td>\n",
       "      <td>?</td>\n",
       "      <td>7</td>\n",
       "      <td>1</td>\n",
       "    </tr>\n",
       "    <tr>\n",
       "      <th>104</th>\n",
       "      <td>64.0</td>\n",
       "      <td>0.0</td>\n",
       "      <td>4.0</td>\n",
       "      <td>200</td>\n",
       "      <td>0</td>\n",
       "      <td>0</td>\n",
       "      <td>0</td>\n",
       "      <td>140</td>\n",
       "      <td>1</td>\n",
       "      <td>1</td>\n",
       "      <td>2</td>\n",
       "      <td>?</td>\n",
       "      <td>3</td>\n",
       "      <td>3</td>\n",
       "    </tr>\n",
       "    <tr>\n",
       "      <th>105</th>\n",
       "      <td>64.0</td>\n",
       "      <td>0.0</td>\n",
       "      <td>4.0</td>\n",
       "      <td>95</td>\n",
       "      <td>0</td>\n",
       "      <td>?</td>\n",
       "      <td>0</td>\n",
       "      <td>145</td>\n",
       "      <td>0</td>\n",
       "      <td>1.1</td>\n",
       "      <td>3</td>\n",
       "      <td>?</td>\n",
       "      <td>?</td>\n",
       "      <td>1</td>\n",
       "    </tr>\n",
       "    <tr>\n",
       "      <th>106</th>\n",
       "      <td>64.0</td>\n",
       "      <td>1.0</td>\n",
       "      <td>4.0</td>\n",
       "      <td>110</td>\n",
       "      <td>0</td>\n",
       "      <td>?</td>\n",
       "      <td>0</td>\n",
       "      <td>114</td>\n",
       "      <td>1</td>\n",
       "      <td>1.3</td>\n",
       "      <td>3</td>\n",
       "      <td>?</td>\n",
       "      <td>?</td>\n",
       "      <td>1</td>\n",
       "    </tr>\n",
       "    <tr>\n",
       "      <th>107</th>\n",
       "      <td>65.0</td>\n",
       "      <td>1.0</td>\n",
       "      <td>4.0</td>\n",
       "      <td>115</td>\n",
       "      <td>0</td>\n",
       "      <td>0</td>\n",
       "      <td>0</td>\n",
       "      <td>93</td>\n",
       "      <td>1</td>\n",
       "      <td>0</td>\n",
       "      <td>2</td>\n",
       "      <td>?</td>\n",
       "      <td>7</td>\n",
       "      <td>1</td>\n",
       "    </tr>\n",
       "    <tr>\n",
       "      <th>108</th>\n",
       "      <td>65.0</td>\n",
       "      <td>1.0</td>\n",
       "      <td>4.0</td>\n",
       "      <td>145</td>\n",
       "      <td>0</td>\n",
       "      <td>?</td>\n",
       "      <td>1</td>\n",
       "      <td>67</td>\n",
       "      <td>0</td>\n",
       "      <td>?</td>\n",
       "      <td>?</td>\n",
       "      <td>?</td>\n",
       "      <td>6</td>\n",
       "      <td>3</td>\n",
       "    </tr>\n",
       "    <tr>\n",
       "      <th>109</th>\n",
       "      <td>65.0</td>\n",
       "      <td>1.0</td>\n",
       "      <td>4.0</td>\n",
       "      <td>155</td>\n",
       "      <td>0</td>\n",
       "      <td>?</td>\n",
       "      <td>0</td>\n",
       "      <td>154</td>\n",
       "      <td>0</td>\n",
       "      <td>1</td>\n",
       "      <td>1</td>\n",
       "      <td>?</td>\n",
       "      <td>?</td>\n",
       "      <td>0</td>\n",
       "    </tr>\n",
       "    <tr>\n",
       "      <th>110</th>\n",
       "      <td>65.0</td>\n",
       "      <td>1.0</td>\n",
       "      <td>4.0</td>\n",
       "      <td>160</td>\n",
       "      <td>0</td>\n",
       "      <td>1</td>\n",
       "      <td>1</td>\n",
       "      <td>122</td>\n",
       "      <td>0</td>\n",
       "      <td>?</td>\n",
       "      <td>?</td>\n",
       "      <td>?</td>\n",
       "      <td>7</td>\n",
       "      <td>3</td>\n",
       "    </tr>\n",
       "    <tr>\n",
       "      <th>111</th>\n",
       "      <td>66.0</td>\n",
       "      <td>0.0</td>\n",
       "      <td>4.0</td>\n",
       "      <td>155</td>\n",
       "      <td>0</td>\n",
       "      <td>?</td>\n",
       "      <td>0</td>\n",
       "      <td>90</td>\n",
       "      <td>0</td>\n",
       "      <td>0</td>\n",
       "      <td>?</td>\n",
       "      <td>?</td>\n",
       "      <td>7</td>\n",
       "      <td>1</td>\n",
       "    </tr>\n",
       "    <tr>\n",
       "      <th>112</th>\n",
       "      <td>66.0</td>\n",
       "      <td>1.0</td>\n",
       "      <td>4.0</td>\n",
       "      <td>150</td>\n",
       "      <td>0</td>\n",
       "      <td>0</td>\n",
       "      <td>0</td>\n",
       "      <td>108</td>\n",
       "      <td>1</td>\n",
       "      <td>2</td>\n",
       "      <td>2</td>\n",
       "      <td>?</td>\n",
       "      <td>7</td>\n",
       "      <td>3</td>\n",
       "    </tr>\n",
       "    <tr>\n",
       "      <th>113</th>\n",
       "      <td>67.0</td>\n",
       "      <td>1.0</td>\n",
       "      <td>1.0</td>\n",
       "      <td>145</td>\n",
       "      <td>0</td>\n",
       "      <td>0</td>\n",
       "      <td>2</td>\n",
       "      <td>125</td>\n",
       "      <td>0</td>\n",
       "      <td>0</td>\n",
       "      <td>2</td>\n",
       "      <td>?</td>\n",
       "      <td>3</td>\n",
       "      <td>2</td>\n",
       "    </tr>\n",
       "    <tr>\n",
       "      <th>114</th>\n",
       "      <td>68.0</td>\n",
       "      <td>1.0</td>\n",
       "      <td>4.0</td>\n",
       "      <td>135</td>\n",
       "      <td>0</td>\n",
       "      <td>0</td>\n",
       "      <td>1</td>\n",
       "      <td>120</td>\n",
       "      <td>1</td>\n",
       "      <td>0</td>\n",
       "      <td>1</td>\n",
       "      <td>?</td>\n",
       "      <td>7</td>\n",
       "      <td>3</td>\n",
       "    </tr>\n",
       "    <tr>\n",
       "      <th>115</th>\n",
       "      <td>68.0</td>\n",
       "      <td>1.0</td>\n",
       "      <td>4.0</td>\n",
       "      <td>145</td>\n",
       "      <td>0</td>\n",
       "      <td>?</td>\n",
       "      <td>0</td>\n",
       "      <td>136</td>\n",
       "      <td>0</td>\n",
       "      <td>1.8</td>\n",
       "      <td>1</td>\n",
       "      <td>?</td>\n",
       "      <td>?</td>\n",
       "      <td>1</td>\n",
       "    </tr>\n",
       "    <tr>\n",
       "      <th>116</th>\n",
       "      <td>69.0</td>\n",
       "      <td>1.0</td>\n",
       "      <td>4.0</td>\n",
       "      <td>135</td>\n",
       "      <td>0</td>\n",
       "      <td>0</td>\n",
       "      <td>0</td>\n",
       "      <td>130</td>\n",
       "      <td>0</td>\n",
       "      <td>0</td>\n",
       "      <td>2</td>\n",
       "      <td>?</td>\n",
       "      <td>6</td>\n",
       "      <td>1</td>\n",
       "    </tr>\n",
       "    <tr>\n",
       "      <th>117</th>\n",
       "      <td>69.0</td>\n",
       "      <td>1.0</td>\n",
       "      <td>4.0</td>\n",
       "      <td>?</td>\n",
       "      <td>0</td>\n",
       "      <td>0</td>\n",
       "      <td>1</td>\n",
       "      <td>?</td>\n",
       "      <td>?</td>\n",
       "      <td>?</td>\n",
       "      <td>?</td>\n",
       "      <td>?</td>\n",
       "      <td>7</td>\n",
       "      <td>3</td>\n",
       "    </tr>\n",
       "    <tr>\n",
       "      <th>118</th>\n",
       "      <td>70.0</td>\n",
       "      <td>1.0</td>\n",
       "      <td>4.0</td>\n",
       "      <td>115</td>\n",
       "      <td>0</td>\n",
       "      <td>0</td>\n",
       "      <td>1</td>\n",
       "      <td>92</td>\n",
       "      <td>1</td>\n",
       "      <td>0</td>\n",
       "      <td>2</td>\n",
       "      <td>?</td>\n",
       "      <td>7</td>\n",
       "      <td>1</td>\n",
       "    </tr>\n",
       "    <tr>\n",
       "      <th>119</th>\n",
       "      <td>70.0</td>\n",
       "      <td>1.0</td>\n",
       "      <td>4.0</td>\n",
       "      <td>140</td>\n",
       "      <td>0</td>\n",
       "      <td>1</td>\n",
       "      <td>0</td>\n",
       "      <td>157</td>\n",
       "      <td>1</td>\n",
       "      <td>2</td>\n",
       "      <td>2</td>\n",
       "      <td>?</td>\n",
       "      <td>7</td>\n",
       "      <td>3</td>\n",
       "    </tr>\n",
       "    <tr>\n",
       "      <th>120</th>\n",
       "      <td>72.0</td>\n",
       "      <td>1.0</td>\n",
       "      <td>3.0</td>\n",
       "      <td>160</td>\n",
       "      <td>0</td>\n",
       "      <td>?</td>\n",
       "      <td>2</td>\n",
       "      <td>114</td>\n",
       "      <td>0</td>\n",
       "      <td>1.6</td>\n",
       "      <td>2</td>\n",
       "      <td>2</td>\n",
       "      <td>?</td>\n",
       "      <td>0</td>\n",
       "    </tr>\n",
       "    <tr>\n",
       "      <th>121</th>\n",
       "      <td>73.0</td>\n",
       "      <td>0.0</td>\n",
       "      <td>3.0</td>\n",
       "      <td>160</td>\n",
       "      <td>0</td>\n",
       "      <td>0</td>\n",
       "      <td>1</td>\n",
       "      <td>121</td>\n",
       "      <td>0</td>\n",
       "      <td>0</td>\n",
       "      <td>1</td>\n",
       "      <td>?</td>\n",
       "      <td>3</td>\n",
       "      <td>1</td>\n",
       "    </tr>\n",
       "    <tr>\n",
       "      <th>122</th>\n",
       "      <td>74.0</td>\n",
       "      <td>1.0</td>\n",
       "      <td>2.0</td>\n",
       "      <td>145</td>\n",
       "      <td>0</td>\n",
       "      <td>?</td>\n",
       "      <td>1</td>\n",
       "      <td>123</td>\n",
       "      <td>0</td>\n",
       "      <td>1.3</td>\n",
       "      <td>1</td>\n",
       "      <td>?</td>\n",
       "      <td>?</td>\n",
       "      <td>1</td>\n",
       "    </tr>\n",
       "  </tbody>\n",
       "</table>\n",
       "<p>920 rows × 14 columns</p>\n",
       "</div>"
      ],
      "text/plain": [
       "       0    1    2    3    4  5  6    7  8    9  10   11   12  13\n",
       "0    63.0  1.0  1.0  145  233  1  2  150  0  2.3  3  0.0  6.0   0\n",
       "1    67.0  1.0  4.0  160  286  0  2  108  1  1.5  2  3.0  3.0   2\n",
       "2    67.0  1.0  4.0  120  229  0  2  129  1  2.6  2  2.0  7.0   1\n",
       "3    37.0  1.0  3.0  130  250  0  0  187  0  3.5  3  0.0  3.0   0\n",
       "4    41.0  0.0  2.0  130  204  0  2  172  0  1.4  1  0.0  3.0   0\n",
       "5    56.0  1.0  2.0  120  236  0  0  178  0  0.8  1  0.0  3.0   0\n",
       "6    62.0  0.0  4.0  140  268  0  2  160  0  3.6  3  2.0  3.0   3\n",
       "7    57.0  0.0  4.0  120  354  0  0  163  1  0.6  1  0.0  3.0   0\n",
       "8    63.0  1.0  4.0  130  254  0  2  147  0  1.4  2  1.0  7.0   2\n",
       "9    53.0  1.0  4.0  140  203  1  2  155  1  3.1  3  0.0  7.0   1\n",
       "10   57.0  1.0  4.0  140  192  0  0  148  0  0.4  2  0.0  6.0   0\n",
       "11   56.0  0.0  2.0  140  294  0  2  153  0  1.3  2  0.0  3.0   0\n",
       "12   56.0  1.0  3.0  130  256  1  2  142  1  0.6  2  1.0  6.0   2\n",
       "13   44.0  1.0  2.0  120  263  0  0  173  0    0  1  0.0  7.0   0\n",
       "14   52.0  1.0  3.0  172  199  1  0  162  0  0.5  1  0.0  7.0   0\n",
       "15   57.0  1.0  3.0  150  168  0  0  174  0  1.6  1  0.0  3.0   0\n",
       "16   48.0  1.0  2.0  110  229  0  0  168  0    1  3  0.0  7.0   1\n",
       "17   54.0  1.0  4.0  140  239  0  0  160  0  1.2  1  0.0  3.0   0\n",
       "18   48.0  0.0  3.0  130  275  0  0  139  0  0.2  1  0.0  3.0   0\n",
       "19   49.0  1.0  2.0  130  266  0  0  171  0  0.6  1  0.0  3.0   0\n",
       "20   64.0  1.0  1.0  110  211  0  2  144  1  1.8  2  0.0  3.0   0\n",
       "21   58.0  0.0  1.0  150  283  1  2  162  0    1  1  0.0  3.0   0\n",
       "22   58.0  1.0  2.0  120  284  0  2  160  0  1.8  2  0.0  3.0   1\n",
       "23   58.0  1.0  3.0  132  224  0  2  173  0  3.2  1  2.0  7.0   3\n",
       "24   60.0  1.0  4.0  130  206  0  2  132  1  2.4  2  2.0  7.0   4\n",
       "25   50.0  0.0  3.0  120  219  0  0  158  0  1.6  2  0.0  3.0   0\n",
       "26   58.0  0.0  3.0  120  340  0  0  172  0    0  1  0.0  3.0   0\n",
       "27   66.0  0.0  1.0  150  226  0  0  114  0  2.6  3  0.0  3.0   0\n",
       "28   43.0  1.0  4.0  150  247  0  0  171  0  1.5  1  0.0  3.0   0\n",
       "29   40.0  1.0  4.0  110  167  0  2  114  1    2  2  0.0  7.0   3\n",
       "..    ...  ...  ...  ...  ... .. ..  ... ..  ... ..  ...  ...  ..\n",
       "93   62.0  0.0  4.0  120    0  ?  1  123  1  1.7  3    ?    ?   1\n",
       "94   62.0  1.0  1.0  120    0  ?  2  134  0  -.8  2    2    ?   1\n",
       "95   62.0  1.0  3.0  160    0  0  0   72  1    0  2    ?    3   3\n",
       "96   62.0  1.0  4.0  115    0  ?  0  128  1  2.5  3    ?    ?   2\n",
       "97   62.0  1.0  4.0  115    0  ?  0   72  1  -.5  2    ?    3   1\n",
       "98   62.0  1.0  4.0  150    0  ?  1   78  0    2  2    ?    7   3\n",
       "99   63.0  1.0  4.0  100    0  ?  0  109  0  -.9  2    ?    ?   1\n",
       "100  63.0  1.0  4.0  140    0  ?  2  149  0    2  1    ?    ?   2\n",
       "101  63.0  1.0  4.0  150    0  0  0   86  1    2  2    ?    ?   3\n",
       "102  63.0  1.0  4.0  150    0  ?  1  154  0  3.7  1    ?    ?   3\n",
       "103  63.0  1.0  4.0  185    0  0  0   98  1    0  1    ?    7   1\n",
       "104  64.0  0.0  4.0  200    0  0  0  140  1    1  2    ?    3   3\n",
       "105  64.0  0.0  4.0   95    0  ?  0  145  0  1.1  3    ?    ?   1\n",
       "106  64.0  1.0  4.0  110    0  ?  0  114  1  1.3  3    ?    ?   1\n",
       "107  65.0  1.0  4.0  115    0  0  0   93  1    0  2    ?    7   1\n",
       "108  65.0  1.0  4.0  145    0  ?  1   67  0    ?  ?    ?    6   3\n",
       "109  65.0  1.0  4.0  155    0  ?  0  154  0    1  1    ?    ?   0\n",
       "110  65.0  1.0  4.0  160    0  1  1  122  0    ?  ?    ?    7   3\n",
       "111  66.0  0.0  4.0  155    0  ?  0   90  0    0  ?    ?    7   1\n",
       "112  66.0  1.0  4.0  150    0  0  0  108  1    2  2    ?    7   3\n",
       "113  67.0  1.0  1.0  145    0  0  2  125  0    0  2    ?    3   2\n",
       "114  68.0  1.0  4.0  135    0  0  1  120  1    0  1    ?    7   3\n",
       "115  68.0  1.0  4.0  145    0  ?  0  136  0  1.8  1    ?    ?   1\n",
       "116  69.0  1.0  4.0  135    0  0  0  130  0    0  2    ?    6   1\n",
       "117  69.0  1.0  4.0    ?    0  0  1    ?  ?    ?  ?    ?    7   3\n",
       "118  70.0  1.0  4.0  115    0  0  1   92  1    0  2    ?    7   1\n",
       "119  70.0  1.0  4.0  140    0  1  0  157  1    2  2    ?    7   3\n",
       "120  72.0  1.0  3.0  160    0  ?  2  114  0  1.6  2    2    ?   0\n",
       "121  73.0  0.0  3.0  160    0  0  1  121  0    0  1    ?    3   1\n",
       "122  74.0  1.0  2.0  145    0  ?  1  123  0  1.3  1    ?    ?   1\n",
       "\n",
       "[920 rows x 14 columns]"
      ]
     },
     "execution_count": 38,
     "metadata": {},
     "output_type": "execute_result"
    }
   ],
   "source": [
    "df"
   ]
  },
  {
   "cell_type": "code",
   "execution_count": 57,
   "metadata": {
    "collapsed": false
   },
   "outputs": [],
   "source": [
    "#we rename all columns to make them more legible\n",
    "df.columns = ['age', 'sex', 'chest_pain', 'rest_bp', 'cholesterol', 'fasting_bs', 'rest_ecg', 'max_heart_rate', 'exercise_angina', 'st_depression', 'slope', 'fluoroscopy',\n",
    "             'defect', 'diagnosis']"
   ]
  },
  {
   "cell_type": "code",
   "execution_count": 58,
   "metadata": {
    "collapsed": false
   },
   "outputs": [
    {
     "data": {
      "text/html": [
       "<div>\n",
       "<table border=\"1\" class=\"dataframe\">\n",
       "  <thead>\n",
       "    <tr style=\"text-align: right;\">\n",
       "      <th></th>\n",
       "      <th>age</th>\n",
       "      <th>sex</th>\n",
       "      <th>chest_pain</th>\n",
       "      <th>rest_bp</th>\n",
       "      <th>cholesterol</th>\n",
       "      <th>fasting_bs</th>\n",
       "      <th>rest_ecg</th>\n",
       "      <th>max_heart_rate</th>\n",
       "      <th>exercise_angina</th>\n",
       "      <th>st_depression</th>\n",
       "      <th>slope</th>\n",
       "      <th>fluoroscopy</th>\n",
       "      <th>defect</th>\n",
       "      <th>diagnosis</th>\n",
       "    </tr>\n",
       "  </thead>\n",
       "  <tbody>\n",
       "    <tr>\n",
       "      <th>0</th>\n",
       "      <td>63.0</td>\n",
       "      <td>1.0</td>\n",
       "      <td>1.0</td>\n",
       "      <td>145.0</td>\n",
       "      <td>233.0</td>\n",
       "      <td>1.0</td>\n",
       "      <td>2.0</td>\n",
       "      <td>150.0</td>\n",
       "      <td>0.0</td>\n",
       "      <td>2.3</td>\n",
       "      <td>3.0</td>\n",
       "      <td>0.0</td>\n",
       "      <td>6.0</td>\n",
       "      <td>0</td>\n",
       "    </tr>\n",
       "    <tr>\n",
       "      <th>1</th>\n",
       "      <td>67.0</td>\n",
       "      <td>1.0</td>\n",
       "      <td>4.0</td>\n",
       "      <td>160.0</td>\n",
       "      <td>286.0</td>\n",
       "      <td>0.0</td>\n",
       "      <td>2.0</td>\n",
       "      <td>108.0</td>\n",
       "      <td>1.0</td>\n",
       "      <td>1.5</td>\n",
       "      <td>2.0</td>\n",
       "      <td>3.0</td>\n",
       "      <td>3.0</td>\n",
       "      <td>2</td>\n",
       "    </tr>\n",
       "    <tr>\n",
       "      <th>2</th>\n",
       "      <td>67.0</td>\n",
       "      <td>1.0</td>\n",
       "      <td>4.0</td>\n",
       "      <td>120.0</td>\n",
       "      <td>229.0</td>\n",
       "      <td>0.0</td>\n",
       "      <td>2.0</td>\n",
       "      <td>129.0</td>\n",
       "      <td>1.0</td>\n",
       "      <td>2.6</td>\n",
       "      <td>2.0</td>\n",
       "      <td>2.0</td>\n",
       "      <td>7.0</td>\n",
       "      <td>1</td>\n",
       "    </tr>\n",
       "    <tr>\n",
       "      <th>3</th>\n",
       "      <td>37.0</td>\n",
       "      <td>1.0</td>\n",
       "      <td>3.0</td>\n",
       "      <td>130.0</td>\n",
       "      <td>250.0</td>\n",
       "      <td>0.0</td>\n",
       "      <td>0.0</td>\n",
       "      <td>187.0</td>\n",
       "      <td>0.0</td>\n",
       "      <td>3.5</td>\n",
       "      <td>3.0</td>\n",
       "      <td>0.0</td>\n",
       "      <td>3.0</td>\n",
       "      <td>0</td>\n",
       "    </tr>\n",
       "    <tr>\n",
       "      <th>4</th>\n",
       "      <td>41.0</td>\n",
       "      <td>0.0</td>\n",
       "      <td>2.0</td>\n",
       "      <td>130.0</td>\n",
       "      <td>204.0</td>\n",
       "      <td>0.0</td>\n",
       "      <td>2.0</td>\n",
       "      <td>172.0</td>\n",
       "      <td>0.0</td>\n",
       "      <td>1.4</td>\n",
       "      <td>1.0</td>\n",
       "      <td>0.0</td>\n",
       "      <td>3.0</td>\n",
       "      <td>0</td>\n",
       "    </tr>\n",
       "    <tr>\n",
       "      <th>5</th>\n",
       "      <td>56.0</td>\n",
       "      <td>1.0</td>\n",
       "      <td>2.0</td>\n",
       "      <td>120.0</td>\n",
       "      <td>236.0</td>\n",
       "      <td>0.0</td>\n",
       "      <td>0.0</td>\n",
       "      <td>178.0</td>\n",
       "      <td>0.0</td>\n",
       "      <td>0.8</td>\n",
       "      <td>1.0</td>\n",
       "      <td>0.0</td>\n",
       "      <td>3.0</td>\n",
       "      <td>0</td>\n",
       "    </tr>\n",
       "    <tr>\n",
       "      <th>6</th>\n",
       "      <td>62.0</td>\n",
       "      <td>0.0</td>\n",
       "      <td>4.0</td>\n",
       "      <td>140.0</td>\n",
       "      <td>268.0</td>\n",
       "      <td>0.0</td>\n",
       "      <td>2.0</td>\n",
       "      <td>160.0</td>\n",
       "      <td>0.0</td>\n",
       "      <td>3.6</td>\n",
       "      <td>3.0</td>\n",
       "      <td>2.0</td>\n",
       "      <td>3.0</td>\n",
       "      <td>3</td>\n",
       "    </tr>\n",
       "    <tr>\n",
       "      <th>7</th>\n",
       "      <td>57.0</td>\n",
       "      <td>0.0</td>\n",
       "      <td>4.0</td>\n",
       "      <td>120.0</td>\n",
       "      <td>354.0</td>\n",
       "      <td>0.0</td>\n",
       "      <td>0.0</td>\n",
       "      <td>163.0</td>\n",
       "      <td>1.0</td>\n",
       "      <td>0.6</td>\n",
       "      <td>1.0</td>\n",
       "      <td>0.0</td>\n",
       "      <td>3.0</td>\n",
       "      <td>0</td>\n",
       "    </tr>\n",
       "    <tr>\n",
       "      <th>8</th>\n",
       "      <td>63.0</td>\n",
       "      <td>1.0</td>\n",
       "      <td>4.0</td>\n",
       "      <td>130.0</td>\n",
       "      <td>254.0</td>\n",
       "      <td>0.0</td>\n",
       "      <td>2.0</td>\n",
       "      <td>147.0</td>\n",
       "      <td>0.0</td>\n",
       "      <td>1.4</td>\n",
       "      <td>2.0</td>\n",
       "      <td>1.0</td>\n",
       "      <td>7.0</td>\n",
       "      <td>2</td>\n",
       "    </tr>\n",
       "    <tr>\n",
       "      <th>9</th>\n",
       "      <td>53.0</td>\n",
       "      <td>1.0</td>\n",
       "      <td>4.0</td>\n",
       "      <td>140.0</td>\n",
       "      <td>203.0</td>\n",
       "      <td>1.0</td>\n",
       "      <td>2.0</td>\n",
       "      <td>155.0</td>\n",
       "      <td>1.0</td>\n",
       "      <td>3.1</td>\n",
       "      <td>3.0</td>\n",
       "      <td>0.0</td>\n",
       "      <td>7.0</td>\n",
       "      <td>1</td>\n",
       "    </tr>\n",
       "    <tr>\n",
       "      <th>10</th>\n",
       "      <td>57.0</td>\n",
       "      <td>1.0</td>\n",
       "      <td>4.0</td>\n",
       "      <td>140.0</td>\n",
       "      <td>192.0</td>\n",
       "      <td>0.0</td>\n",
       "      <td>0.0</td>\n",
       "      <td>148.0</td>\n",
       "      <td>0.0</td>\n",
       "      <td>0.4</td>\n",
       "      <td>2.0</td>\n",
       "      <td>0.0</td>\n",
       "      <td>6.0</td>\n",
       "      <td>0</td>\n",
       "    </tr>\n",
       "    <tr>\n",
       "      <th>11</th>\n",
       "      <td>56.0</td>\n",
       "      <td>0.0</td>\n",
       "      <td>2.0</td>\n",
       "      <td>140.0</td>\n",
       "      <td>294.0</td>\n",
       "      <td>0.0</td>\n",
       "      <td>2.0</td>\n",
       "      <td>153.0</td>\n",
       "      <td>0.0</td>\n",
       "      <td>1.3</td>\n",
       "      <td>2.0</td>\n",
       "      <td>0.0</td>\n",
       "      <td>3.0</td>\n",
       "      <td>0</td>\n",
       "    </tr>\n",
       "    <tr>\n",
       "      <th>12</th>\n",
       "      <td>56.0</td>\n",
       "      <td>1.0</td>\n",
       "      <td>3.0</td>\n",
       "      <td>130.0</td>\n",
       "      <td>256.0</td>\n",
       "      <td>1.0</td>\n",
       "      <td>2.0</td>\n",
       "      <td>142.0</td>\n",
       "      <td>1.0</td>\n",
       "      <td>0.6</td>\n",
       "      <td>2.0</td>\n",
       "      <td>1.0</td>\n",
       "      <td>6.0</td>\n",
       "      <td>2</td>\n",
       "    </tr>\n",
       "    <tr>\n",
       "      <th>13</th>\n",
       "      <td>44.0</td>\n",
       "      <td>1.0</td>\n",
       "      <td>2.0</td>\n",
       "      <td>120.0</td>\n",
       "      <td>263.0</td>\n",
       "      <td>0.0</td>\n",
       "      <td>0.0</td>\n",
       "      <td>173.0</td>\n",
       "      <td>0.0</td>\n",
       "      <td>0.0</td>\n",
       "      <td>1.0</td>\n",
       "      <td>0.0</td>\n",
       "      <td>7.0</td>\n",
       "      <td>0</td>\n",
       "    </tr>\n",
       "    <tr>\n",
       "      <th>14</th>\n",
       "      <td>52.0</td>\n",
       "      <td>1.0</td>\n",
       "      <td>3.0</td>\n",
       "      <td>172.0</td>\n",
       "      <td>199.0</td>\n",
       "      <td>1.0</td>\n",
       "      <td>0.0</td>\n",
       "      <td>162.0</td>\n",
       "      <td>0.0</td>\n",
       "      <td>0.5</td>\n",
       "      <td>1.0</td>\n",
       "      <td>0.0</td>\n",
       "      <td>7.0</td>\n",
       "      <td>0</td>\n",
       "    </tr>\n",
       "    <tr>\n",
       "      <th>15</th>\n",
       "      <td>57.0</td>\n",
       "      <td>1.0</td>\n",
       "      <td>3.0</td>\n",
       "      <td>150.0</td>\n",
       "      <td>168.0</td>\n",
       "      <td>0.0</td>\n",
       "      <td>0.0</td>\n",
       "      <td>174.0</td>\n",
       "      <td>0.0</td>\n",
       "      <td>1.6</td>\n",
       "      <td>1.0</td>\n",
       "      <td>0.0</td>\n",
       "      <td>3.0</td>\n",
       "      <td>0</td>\n",
       "    </tr>\n",
       "    <tr>\n",
       "      <th>16</th>\n",
       "      <td>48.0</td>\n",
       "      <td>1.0</td>\n",
       "      <td>2.0</td>\n",
       "      <td>110.0</td>\n",
       "      <td>229.0</td>\n",
       "      <td>0.0</td>\n",
       "      <td>0.0</td>\n",
       "      <td>168.0</td>\n",
       "      <td>0.0</td>\n",
       "      <td>1.0</td>\n",
       "      <td>3.0</td>\n",
       "      <td>0.0</td>\n",
       "      <td>7.0</td>\n",
       "      <td>1</td>\n",
       "    </tr>\n",
       "    <tr>\n",
       "      <th>17</th>\n",
       "      <td>54.0</td>\n",
       "      <td>1.0</td>\n",
       "      <td>4.0</td>\n",
       "      <td>140.0</td>\n",
       "      <td>239.0</td>\n",
       "      <td>0.0</td>\n",
       "      <td>0.0</td>\n",
       "      <td>160.0</td>\n",
       "      <td>0.0</td>\n",
       "      <td>1.2</td>\n",
       "      <td>1.0</td>\n",
       "      <td>0.0</td>\n",
       "      <td>3.0</td>\n",
       "      <td>0</td>\n",
       "    </tr>\n",
       "    <tr>\n",
       "      <th>18</th>\n",
       "      <td>48.0</td>\n",
       "      <td>0.0</td>\n",
       "      <td>3.0</td>\n",
       "      <td>130.0</td>\n",
       "      <td>275.0</td>\n",
       "      <td>0.0</td>\n",
       "      <td>0.0</td>\n",
       "      <td>139.0</td>\n",
       "      <td>0.0</td>\n",
       "      <td>0.2</td>\n",
       "      <td>1.0</td>\n",
       "      <td>0.0</td>\n",
       "      <td>3.0</td>\n",
       "      <td>0</td>\n",
       "    </tr>\n",
       "    <tr>\n",
       "      <th>19</th>\n",
       "      <td>49.0</td>\n",
       "      <td>1.0</td>\n",
       "      <td>2.0</td>\n",
       "      <td>130.0</td>\n",
       "      <td>266.0</td>\n",
       "      <td>0.0</td>\n",
       "      <td>0.0</td>\n",
       "      <td>171.0</td>\n",
       "      <td>0.0</td>\n",
       "      <td>0.6</td>\n",
       "      <td>1.0</td>\n",
       "      <td>0.0</td>\n",
       "      <td>3.0</td>\n",
       "      <td>0</td>\n",
       "    </tr>\n",
       "    <tr>\n",
       "      <th>20</th>\n",
       "      <td>64.0</td>\n",
       "      <td>1.0</td>\n",
       "      <td>1.0</td>\n",
       "      <td>110.0</td>\n",
       "      <td>211.0</td>\n",
       "      <td>0.0</td>\n",
       "      <td>2.0</td>\n",
       "      <td>144.0</td>\n",
       "      <td>1.0</td>\n",
       "      <td>1.8</td>\n",
       "      <td>2.0</td>\n",
       "      <td>0.0</td>\n",
       "      <td>3.0</td>\n",
       "      <td>0</td>\n",
       "    </tr>\n",
       "    <tr>\n",
       "      <th>21</th>\n",
       "      <td>58.0</td>\n",
       "      <td>0.0</td>\n",
       "      <td>1.0</td>\n",
       "      <td>150.0</td>\n",
       "      <td>283.0</td>\n",
       "      <td>1.0</td>\n",
       "      <td>2.0</td>\n",
       "      <td>162.0</td>\n",
       "      <td>0.0</td>\n",
       "      <td>1.0</td>\n",
       "      <td>1.0</td>\n",
       "      <td>0.0</td>\n",
       "      <td>3.0</td>\n",
       "      <td>0</td>\n",
       "    </tr>\n",
       "    <tr>\n",
       "      <th>22</th>\n",
       "      <td>58.0</td>\n",
       "      <td>1.0</td>\n",
       "      <td>2.0</td>\n",
       "      <td>120.0</td>\n",
       "      <td>284.0</td>\n",
       "      <td>0.0</td>\n",
       "      <td>2.0</td>\n",
       "      <td>160.0</td>\n",
       "      <td>0.0</td>\n",
       "      <td>1.8</td>\n",
       "      <td>2.0</td>\n",
       "      <td>0.0</td>\n",
       "      <td>3.0</td>\n",
       "      <td>1</td>\n",
       "    </tr>\n",
       "    <tr>\n",
       "      <th>23</th>\n",
       "      <td>58.0</td>\n",
       "      <td>1.0</td>\n",
       "      <td>3.0</td>\n",
       "      <td>132.0</td>\n",
       "      <td>224.0</td>\n",
       "      <td>0.0</td>\n",
       "      <td>2.0</td>\n",
       "      <td>173.0</td>\n",
       "      <td>0.0</td>\n",
       "      <td>3.2</td>\n",
       "      <td>1.0</td>\n",
       "      <td>2.0</td>\n",
       "      <td>7.0</td>\n",
       "      <td>3</td>\n",
       "    </tr>\n",
       "    <tr>\n",
       "      <th>24</th>\n",
       "      <td>60.0</td>\n",
       "      <td>1.0</td>\n",
       "      <td>4.0</td>\n",
       "      <td>130.0</td>\n",
       "      <td>206.0</td>\n",
       "      <td>0.0</td>\n",
       "      <td>2.0</td>\n",
       "      <td>132.0</td>\n",
       "      <td>1.0</td>\n",
       "      <td>2.4</td>\n",
       "      <td>2.0</td>\n",
       "      <td>2.0</td>\n",
       "      <td>7.0</td>\n",
       "      <td>4</td>\n",
       "    </tr>\n",
       "    <tr>\n",
       "      <th>25</th>\n",
       "      <td>50.0</td>\n",
       "      <td>0.0</td>\n",
       "      <td>3.0</td>\n",
       "      <td>120.0</td>\n",
       "      <td>219.0</td>\n",
       "      <td>0.0</td>\n",
       "      <td>0.0</td>\n",
       "      <td>158.0</td>\n",
       "      <td>0.0</td>\n",
       "      <td>1.6</td>\n",
       "      <td>2.0</td>\n",
       "      <td>0.0</td>\n",
       "      <td>3.0</td>\n",
       "      <td>0</td>\n",
       "    </tr>\n",
       "    <tr>\n",
       "      <th>26</th>\n",
       "      <td>58.0</td>\n",
       "      <td>0.0</td>\n",
       "      <td>3.0</td>\n",
       "      <td>120.0</td>\n",
       "      <td>340.0</td>\n",
       "      <td>0.0</td>\n",
       "      <td>0.0</td>\n",
       "      <td>172.0</td>\n",
       "      <td>0.0</td>\n",
       "      <td>0.0</td>\n",
       "      <td>1.0</td>\n",
       "      <td>0.0</td>\n",
       "      <td>3.0</td>\n",
       "      <td>0</td>\n",
       "    </tr>\n",
       "    <tr>\n",
       "      <th>27</th>\n",
       "      <td>66.0</td>\n",
       "      <td>0.0</td>\n",
       "      <td>1.0</td>\n",
       "      <td>150.0</td>\n",
       "      <td>226.0</td>\n",
       "      <td>0.0</td>\n",
       "      <td>0.0</td>\n",
       "      <td>114.0</td>\n",
       "      <td>0.0</td>\n",
       "      <td>2.6</td>\n",
       "      <td>3.0</td>\n",
       "      <td>0.0</td>\n",
       "      <td>3.0</td>\n",
       "      <td>0</td>\n",
       "    </tr>\n",
       "    <tr>\n",
       "      <th>28</th>\n",
       "      <td>43.0</td>\n",
       "      <td>1.0</td>\n",
       "      <td>4.0</td>\n",
       "      <td>150.0</td>\n",
       "      <td>247.0</td>\n",
       "      <td>0.0</td>\n",
       "      <td>0.0</td>\n",
       "      <td>171.0</td>\n",
       "      <td>0.0</td>\n",
       "      <td>1.5</td>\n",
       "      <td>1.0</td>\n",
       "      <td>0.0</td>\n",
       "      <td>3.0</td>\n",
       "      <td>0</td>\n",
       "    </tr>\n",
       "    <tr>\n",
       "      <th>29</th>\n",
       "      <td>40.0</td>\n",
       "      <td>1.0</td>\n",
       "      <td>4.0</td>\n",
       "      <td>110.0</td>\n",
       "      <td>167.0</td>\n",
       "      <td>0.0</td>\n",
       "      <td>2.0</td>\n",
       "      <td>114.0</td>\n",
       "      <td>1.0</td>\n",
       "      <td>2.0</td>\n",
       "      <td>2.0</td>\n",
       "      <td>0.0</td>\n",
       "      <td>7.0</td>\n",
       "      <td>3</td>\n",
       "    </tr>\n",
       "    <tr>\n",
       "      <th>...</th>\n",
       "      <td>...</td>\n",
       "      <td>...</td>\n",
       "      <td>...</td>\n",
       "      <td>...</td>\n",
       "      <td>...</td>\n",
       "      <td>...</td>\n",
       "      <td>...</td>\n",
       "      <td>...</td>\n",
       "      <td>...</td>\n",
       "      <td>...</td>\n",
       "      <td>...</td>\n",
       "      <td>...</td>\n",
       "      <td>...</td>\n",
       "      <td>...</td>\n",
       "    </tr>\n",
       "    <tr>\n",
       "      <th>93</th>\n",
       "      <td>62.0</td>\n",
       "      <td>0.0</td>\n",
       "      <td>4.0</td>\n",
       "      <td>120.0</td>\n",
       "      <td>0.0</td>\n",
       "      <td>NaN</td>\n",
       "      <td>1.0</td>\n",
       "      <td>123.0</td>\n",
       "      <td>1.0</td>\n",
       "      <td>1.7</td>\n",
       "      <td>3.0</td>\n",
       "      <td>NaN</td>\n",
       "      <td>NaN</td>\n",
       "      <td>1</td>\n",
       "    </tr>\n",
       "    <tr>\n",
       "      <th>94</th>\n",
       "      <td>62.0</td>\n",
       "      <td>1.0</td>\n",
       "      <td>1.0</td>\n",
       "      <td>120.0</td>\n",
       "      <td>0.0</td>\n",
       "      <td>NaN</td>\n",
       "      <td>2.0</td>\n",
       "      <td>134.0</td>\n",
       "      <td>0.0</td>\n",
       "      <td>-0.8</td>\n",
       "      <td>2.0</td>\n",
       "      <td>2.0</td>\n",
       "      <td>NaN</td>\n",
       "      <td>1</td>\n",
       "    </tr>\n",
       "    <tr>\n",
       "      <th>95</th>\n",
       "      <td>62.0</td>\n",
       "      <td>1.0</td>\n",
       "      <td>3.0</td>\n",
       "      <td>160.0</td>\n",
       "      <td>0.0</td>\n",
       "      <td>0.0</td>\n",
       "      <td>0.0</td>\n",
       "      <td>72.0</td>\n",
       "      <td>1.0</td>\n",
       "      <td>0.0</td>\n",
       "      <td>2.0</td>\n",
       "      <td>NaN</td>\n",
       "      <td>3.0</td>\n",
       "      <td>3</td>\n",
       "    </tr>\n",
       "    <tr>\n",
       "      <th>96</th>\n",
       "      <td>62.0</td>\n",
       "      <td>1.0</td>\n",
       "      <td>4.0</td>\n",
       "      <td>115.0</td>\n",
       "      <td>0.0</td>\n",
       "      <td>NaN</td>\n",
       "      <td>0.0</td>\n",
       "      <td>128.0</td>\n",
       "      <td>1.0</td>\n",
       "      <td>2.5</td>\n",
       "      <td>3.0</td>\n",
       "      <td>NaN</td>\n",
       "      <td>NaN</td>\n",
       "      <td>2</td>\n",
       "    </tr>\n",
       "    <tr>\n",
       "      <th>97</th>\n",
       "      <td>62.0</td>\n",
       "      <td>1.0</td>\n",
       "      <td>4.0</td>\n",
       "      <td>115.0</td>\n",
       "      <td>0.0</td>\n",
       "      <td>NaN</td>\n",
       "      <td>0.0</td>\n",
       "      <td>72.0</td>\n",
       "      <td>1.0</td>\n",
       "      <td>-0.5</td>\n",
       "      <td>2.0</td>\n",
       "      <td>NaN</td>\n",
       "      <td>3.0</td>\n",
       "      <td>1</td>\n",
       "    </tr>\n",
       "    <tr>\n",
       "      <th>98</th>\n",
       "      <td>62.0</td>\n",
       "      <td>1.0</td>\n",
       "      <td>4.0</td>\n",
       "      <td>150.0</td>\n",
       "      <td>0.0</td>\n",
       "      <td>NaN</td>\n",
       "      <td>1.0</td>\n",
       "      <td>78.0</td>\n",
       "      <td>0.0</td>\n",
       "      <td>2.0</td>\n",
       "      <td>2.0</td>\n",
       "      <td>NaN</td>\n",
       "      <td>7.0</td>\n",
       "      <td>3</td>\n",
       "    </tr>\n",
       "    <tr>\n",
       "      <th>99</th>\n",
       "      <td>63.0</td>\n",
       "      <td>1.0</td>\n",
       "      <td>4.0</td>\n",
       "      <td>100.0</td>\n",
       "      <td>0.0</td>\n",
       "      <td>NaN</td>\n",
       "      <td>0.0</td>\n",
       "      <td>109.0</td>\n",
       "      <td>0.0</td>\n",
       "      <td>-0.9</td>\n",
       "      <td>2.0</td>\n",
       "      <td>NaN</td>\n",
       "      <td>NaN</td>\n",
       "      <td>1</td>\n",
       "    </tr>\n",
       "    <tr>\n",
       "      <th>100</th>\n",
       "      <td>63.0</td>\n",
       "      <td>1.0</td>\n",
       "      <td>4.0</td>\n",
       "      <td>140.0</td>\n",
       "      <td>0.0</td>\n",
       "      <td>NaN</td>\n",
       "      <td>2.0</td>\n",
       "      <td>149.0</td>\n",
       "      <td>0.0</td>\n",
       "      <td>2.0</td>\n",
       "      <td>1.0</td>\n",
       "      <td>NaN</td>\n",
       "      <td>NaN</td>\n",
       "      <td>2</td>\n",
       "    </tr>\n",
       "    <tr>\n",
       "      <th>101</th>\n",
       "      <td>63.0</td>\n",
       "      <td>1.0</td>\n",
       "      <td>4.0</td>\n",
       "      <td>150.0</td>\n",
       "      <td>0.0</td>\n",
       "      <td>0.0</td>\n",
       "      <td>0.0</td>\n",
       "      <td>86.0</td>\n",
       "      <td>1.0</td>\n",
       "      <td>2.0</td>\n",
       "      <td>2.0</td>\n",
       "      <td>NaN</td>\n",
       "      <td>NaN</td>\n",
       "      <td>3</td>\n",
       "    </tr>\n",
       "    <tr>\n",
       "      <th>102</th>\n",
       "      <td>63.0</td>\n",
       "      <td>1.0</td>\n",
       "      <td>4.0</td>\n",
       "      <td>150.0</td>\n",
       "      <td>0.0</td>\n",
       "      <td>NaN</td>\n",
       "      <td>1.0</td>\n",
       "      <td>154.0</td>\n",
       "      <td>0.0</td>\n",
       "      <td>3.7</td>\n",
       "      <td>1.0</td>\n",
       "      <td>NaN</td>\n",
       "      <td>NaN</td>\n",
       "      <td>3</td>\n",
       "    </tr>\n",
       "    <tr>\n",
       "      <th>103</th>\n",
       "      <td>63.0</td>\n",
       "      <td>1.0</td>\n",
       "      <td>4.0</td>\n",
       "      <td>185.0</td>\n",
       "      <td>0.0</td>\n",
       "      <td>0.0</td>\n",
       "      <td>0.0</td>\n",
       "      <td>98.0</td>\n",
       "      <td>1.0</td>\n",
       "      <td>0.0</td>\n",
       "      <td>1.0</td>\n",
       "      <td>NaN</td>\n",
       "      <td>7.0</td>\n",
       "      <td>1</td>\n",
       "    </tr>\n",
       "    <tr>\n",
       "      <th>104</th>\n",
       "      <td>64.0</td>\n",
       "      <td>0.0</td>\n",
       "      <td>4.0</td>\n",
       "      <td>200.0</td>\n",
       "      <td>0.0</td>\n",
       "      <td>0.0</td>\n",
       "      <td>0.0</td>\n",
       "      <td>140.0</td>\n",
       "      <td>1.0</td>\n",
       "      <td>1.0</td>\n",
       "      <td>2.0</td>\n",
       "      <td>NaN</td>\n",
       "      <td>3.0</td>\n",
       "      <td>3</td>\n",
       "    </tr>\n",
       "    <tr>\n",
       "      <th>105</th>\n",
       "      <td>64.0</td>\n",
       "      <td>0.0</td>\n",
       "      <td>4.0</td>\n",
       "      <td>95.0</td>\n",
       "      <td>0.0</td>\n",
       "      <td>NaN</td>\n",
       "      <td>0.0</td>\n",
       "      <td>145.0</td>\n",
       "      <td>0.0</td>\n",
       "      <td>1.1</td>\n",
       "      <td>3.0</td>\n",
       "      <td>NaN</td>\n",
       "      <td>NaN</td>\n",
       "      <td>1</td>\n",
       "    </tr>\n",
       "    <tr>\n",
       "      <th>106</th>\n",
       "      <td>64.0</td>\n",
       "      <td>1.0</td>\n",
       "      <td>4.0</td>\n",
       "      <td>110.0</td>\n",
       "      <td>0.0</td>\n",
       "      <td>NaN</td>\n",
       "      <td>0.0</td>\n",
       "      <td>114.0</td>\n",
       "      <td>1.0</td>\n",
       "      <td>1.3</td>\n",
       "      <td>3.0</td>\n",
       "      <td>NaN</td>\n",
       "      <td>NaN</td>\n",
       "      <td>1</td>\n",
       "    </tr>\n",
       "    <tr>\n",
       "      <th>107</th>\n",
       "      <td>65.0</td>\n",
       "      <td>1.0</td>\n",
       "      <td>4.0</td>\n",
       "      <td>115.0</td>\n",
       "      <td>0.0</td>\n",
       "      <td>0.0</td>\n",
       "      <td>0.0</td>\n",
       "      <td>93.0</td>\n",
       "      <td>1.0</td>\n",
       "      <td>0.0</td>\n",
       "      <td>2.0</td>\n",
       "      <td>NaN</td>\n",
       "      <td>7.0</td>\n",
       "      <td>1</td>\n",
       "    </tr>\n",
       "    <tr>\n",
       "      <th>108</th>\n",
       "      <td>65.0</td>\n",
       "      <td>1.0</td>\n",
       "      <td>4.0</td>\n",
       "      <td>145.0</td>\n",
       "      <td>0.0</td>\n",
       "      <td>NaN</td>\n",
       "      <td>1.0</td>\n",
       "      <td>67.0</td>\n",
       "      <td>0.0</td>\n",
       "      <td>NaN</td>\n",
       "      <td>NaN</td>\n",
       "      <td>NaN</td>\n",
       "      <td>6.0</td>\n",
       "      <td>3</td>\n",
       "    </tr>\n",
       "    <tr>\n",
       "      <th>109</th>\n",
       "      <td>65.0</td>\n",
       "      <td>1.0</td>\n",
       "      <td>4.0</td>\n",
       "      <td>155.0</td>\n",
       "      <td>0.0</td>\n",
       "      <td>NaN</td>\n",
       "      <td>0.0</td>\n",
       "      <td>154.0</td>\n",
       "      <td>0.0</td>\n",
       "      <td>1.0</td>\n",
       "      <td>1.0</td>\n",
       "      <td>NaN</td>\n",
       "      <td>NaN</td>\n",
       "      <td>0</td>\n",
       "    </tr>\n",
       "    <tr>\n",
       "      <th>110</th>\n",
       "      <td>65.0</td>\n",
       "      <td>1.0</td>\n",
       "      <td>4.0</td>\n",
       "      <td>160.0</td>\n",
       "      <td>0.0</td>\n",
       "      <td>1.0</td>\n",
       "      <td>1.0</td>\n",
       "      <td>122.0</td>\n",
       "      <td>0.0</td>\n",
       "      <td>NaN</td>\n",
       "      <td>NaN</td>\n",
       "      <td>NaN</td>\n",
       "      <td>7.0</td>\n",
       "      <td>3</td>\n",
       "    </tr>\n",
       "    <tr>\n",
       "      <th>111</th>\n",
       "      <td>66.0</td>\n",
       "      <td>0.0</td>\n",
       "      <td>4.0</td>\n",
       "      <td>155.0</td>\n",
       "      <td>0.0</td>\n",
       "      <td>NaN</td>\n",
       "      <td>0.0</td>\n",
       "      <td>90.0</td>\n",
       "      <td>0.0</td>\n",
       "      <td>0.0</td>\n",
       "      <td>NaN</td>\n",
       "      <td>NaN</td>\n",
       "      <td>7.0</td>\n",
       "      <td>1</td>\n",
       "    </tr>\n",
       "    <tr>\n",
       "      <th>112</th>\n",
       "      <td>66.0</td>\n",
       "      <td>1.0</td>\n",
       "      <td>4.0</td>\n",
       "      <td>150.0</td>\n",
       "      <td>0.0</td>\n",
       "      <td>0.0</td>\n",
       "      <td>0.0</td>\n",
       "      <td>108.0</td>\n",
       "      <td>1.0</td>\n",
       "      <td>2.0</td>\n",
       "      <td>2.0</td>\n",
       "      <td>NaN</td>\n",
       "      <td>7.0</td>\n",
       "      <td>3</td>\n",
       "    </tr>\n",
       "    <tr>\n",
       "      <th>113</th>\n",
       "      <td>67.0</td>\n",
       "      <td>1.0</td>\n",
       "      <td>1.0</td>\n",
       "      <td>145.0</td>\n",
       "      <td>0.0</td>\n",
       "      <td>0.0</td>\n",
       "      <td>2.0</td>\n",
       "      <td>125.0</td>\n",
       "      <td>0.0</td>\n",
       "      <td>0.0</td>\n",
       "      <td>2.0</td>\n",
       "      <td>NaN</td>\n",
       "      <td>3.0</td>\n",
       "      <td>2</td>\n",
       "    </tr>\n",
       "    <tr>\n",
       "      <th>114</th>\n",
       "      <td>68.0</td>\n",
       "      <td>1.0</td>\n",
       "      <td>4.0</td>\n",
       "      <td>135.0</td>\n",
       "      <td>0.0</td>\n",
       "      <td>0.0</td>\n",
       "      <td>1.0</td>\n",
       "      <td>120.0</td>\n",
       "      <td>1.0</td>\n",
       "      <td>0.0</td>\n",
       "      <td>1.0</td>\n",
       "      <td>NaN</td>\n",
       "      <td>7.0</td>\n",
       "      <td>3</td>\n",
       "    </tr>\n",
       "    <tr>\n",
       "      <th>115</th>\n",
       "      <td>68.0</td>\n",
       "      <td>1.0</td>\n",
       "      <td>4.0</td>\n",
       "      <td>145.0</td>\n",
       "      <td>0.0</td>\n",
       "      <td>NaN</td>\n",
       "      <td>0.0</td>\n",
       "      <td>136.0</td>\n",
       "      <td>0.0</td>\n",
       "      <td>1.8</td>\n",
       "      <td>1.0</td>\n",
       "      <td>NaN</td>\n",
       "      <td>NaN</td>\n",
       "      <td>1</td>\n",
       "    </tr>\n",
       "    <tr>\n",
       "      <th>116</th>\n",
       "      <td>69.0</td>\n",
       "      <td>1.0</td>\n",
       "      <td>4.0</td>\n",
       "      <td>135.0</td>\n",
       "      <td>0.0</td>\n",
       "      <td>0.0</td>\n",
       "      <td>0.0</td>\n",
       "      <td>130.0</td>\n",
       "      <td>0.0</td>\n",
       "      <td>0.0</td>\n",
       "      <td>2.0</td>\n",
       "      <td>NaN</td>\n",
       "      <td>6.0</td>\n",
       "      <td>1</td>\n",
       "    </tr>\n",
       "    <tr>\n",
       "      <th>117</th>\n",
       "      <td>69.0</td>\n",
       "      <td>1.0</td>\n",
       "      <td>4.0</td>\n",
       "      <td>NaN</td>\n",
       "      <td>0.0</td>\n",
       "      <td>0.0</td>\n",
       "      <td>1.0</td>\n",
       "      <td>NaN</td>\n",
       "      <td>NaN</td>\n",
       "      <td>NaN</td>\n",
       "      <td>NaN</td>\n",
       "      <td>NaN</td>\n",
       "      <td>7.0</td>\n",
       "      <td>3</td>\n",
       "    </tr>\n",
       "    <tr>\n",
       "      <th>118</th>\n",
       "      <td>70.0</td>\n",
       "      <td>1.0</td>\n",
       "      <td>4.0</td>\n",
       "      <td>115.0</td>\n",
       "      <td>0.0</td>\n",
       "      <td>0.0</td>\n",
       "      <td>1.0</td>\n",
       "      <td>92.0</td>\n",
       "      <td>1.0</td>\n",
       "      <td>0.0</td>\n",
       "      <td>2.0</td>\n",
       "      <td>NaN</td>\n",
       "      <td>7.0</td>\n",
       "      <td>1</td>\n",
       "    </tr>\n",
       "    <tr>\n",
       "      <th>119</th>\n",
       "      <td>70.0</td>\n",
       "      <td>1.0</td>\n",
       "      <td>4.0</td>\n",
       "      <td>140.0</td>\n",
       "      <td>0.0</td>\n",
       "      <td>1.0</td>\n",
       "      <td>0.0</td>\n",
       "      <td>157.0</td>\n",
       "      <td>1.0</td>\n",
       "      <td>2.0</td>\n",
       "      <td>2.0</td>\n",
       "      <td>NaN</td>\n",
       "      <td>7.0</td>\n",
       "      <td>3</td>\n",
       "    </tr>\n",
       "    <tr>\n",
       "      <th>120</th>\n",
       "      <td>72.0</td>\n",
       "      <td>1.0</td>\n",
       "      <td>3.0</td>\n",
       "      <td>160.0</td>\n",
       "      <td>0.0</td>\n",
       "      <td>NaN</td>\n",
       "      <td>2.0</td>\n",
       "      <td>114.0</td>\n",
       "      <td>0.0</td>\n",
       "      <td>1.6</td>\n",
       "      <td>2.0</td>\n",
       "      <td>2.0</td>\n",
       "      <td>NaN</td>\n",
       "      <td>0</td>\n",
       "    </tr>\n",
       "    <tr>\n",
       "      <th>121</th>\n",
       "      <td>73.0</td>\n",
       "      <td>0.0</td>\n",
       "      <td>3.0</td>\n",
       "      <td>160.0</td>\n",
       "      <td>0.0</td>\n",
       "      <td>0.0</td>\n",
       "      <td>1.0</td>\n",
       "      <td>121.0</td>\n",
       "      <td>0.0</td>\n",
       "      <td>0.0</td>\n",
       "      <td>1.0</td>\n",
       "      <td>NaN</td>\n",
       "      <td>3.0</td>\n",
       "      <td>1</td>\n",
       "    </tr>\n",
       "    <tr>\n",
       "      <th>122</th>\n",
       "      <td>74.0</td>\n",
       "      <td>1.0</td>\n",
       "      <td>2.0</td>\n",
       "      <td>145.0</td>\n",
       "      <td>0.0</td>\n",
       "      <td>NaN</td>\n",
       "      <td>1.0</td>\n",
       "      <td>123.0</td>\n",
       "      <td>0.0</td>\n",
       "      <td>1.3</td>\n",
       "      <td>1.0</td>\n",
       "      <td>NaN</td>\n",
       "      <td>NaN</td>\n",
       "      <td>1</td>\n",
       "    </tr>\n",
       "  </tbody>\n",
       "</table>\n",
       "<p>920 rows × 14 columns</p>\n",
       "</div>"
      ],
      "text/plain": [
       "      age  sex chest_pain  rest_bp  cholesterol fasting_bs rest_ecg  \\\n",
       "0    63.0  1.0        1.0    145.0        233.0        1.0      2.0   \n",
       "1    67.0  1.0        4.0    160.0        286.0        0.0      2.0   \n",
       "2    67.0  1.0        4.0    120.0        229.0        0.0      2.0   \n",
       "3    37.0  1.0        3.0    130.0        250.0        0.0      0.0   \n",
       "4    41.0  0.0        2.0    130.0        204.0        0.0      2.0   \n",
       "5    56.0  1.0        2.0    120.0        236.0        0.0      0.0   \n",
       "6    62.0  0.0        4.0    140.0        268.0        0.0      2.0   \n",
       "7    57.0  0.0        4.0    120.0        354.0        0.0      0.0   \n",
       "8    63.0  1.0        4.0    130.0        254.0        0.0      2.0   \n",
       "9    53.0  1.0        4.0    140.0        203.0        1.0      2.0   \n",
       "10   57.0  1.0        4.0    140.0        192.0        0.0      0.0   \n",
       "11   56.0  0.0        2.0    140.0        294.0        0.0      2.0   \n",
       "12   56.0  1.0        3.0    130.0        256.0        1.0      2.0   \n",
       "13   44.0  1.0        2.0    120.0        263.0        0.0      0.0   \n",
       "14   52.0  1.0        3.0    172.0        199.0        1.0      0.0   \n",
       "15   57.0  1.0        3.0    150.0        168.0        0.0      0.0   \n",
       "16   48.0  1.0        2.0    110.0        229.0        0.0      0.0   \n",
       "17   54.0  1.0        4.0    140.0        239.0        0.0      0.0   \n",
       "18   48.0  0.0        3.0    130.0        275.0        0.0      0.0   \n",
       "19   49.0  1.0        2.0    130.0        266.0        0.0      0.0   \n",
       "20   64.0  1.0        1.0    110.0        211.0        0.0      2.0   \n",
       "21   58.0  0.0        1.0    150.0        283.0        1.0      2.0   \n",
       "22   58.0  1.0        2.0    120.0        284.0        0.0      2.0   \n",
       "23   58.0  1.0        3.0    132.0        224.0        0.0      2.0   \n",
       "24   60.0  1.0        4.0    130.0        206.0        0.0      2.0   \n",
       "25   50.0  0.0        3.0    120.0        219.0        0.0      0.0   \n",
       "26   58.0  0.0        3.0    120.0        340.0        0.0      0.0   \n",
       "27   66.0  0.0        1.0    150.0        226.0        0.0      0.0   \n",
       "28   43.0  1.0        4.0    150.0        247.0        0.0      0.0   \n",
       "29   40.0  1.0        4.0    110.0        167.0        0.0      2.0   \n",
       "..    ...  ...        ...      ...          ...        ...      ...   \n",
       "93   62.0  0.0        4.0    120.0          0.0        NaN      1.0   \n",
       "94   62.0  1.0        1.0    120.0          0.0        NaN      2.0   \n",
       "95   62.0  1.0        3.0    160.0          0.0        0.0      0.0   \n",
       "96   62.0  1.0        4.0    115.0          0.0        NaN      0.0   \n",
       "97   62.0  1.0        4.0    115.0          0.0        NaN      0.0   \n",
       "98   62.0  1.0        4.0    150.0          0.0        NaN      1.0   \n",
       "99   63.0  1.0        4.0    100.0          0.0        NaN      0.0   \n",
       "100  63.0  1.0        4.0    140.0          0.0        NaN      2.0   \n",
       "101  63.0  1.0        4.0    150.0          0.0        0.0      0.0   \n",
       "102  63.0  1.0        4.0    150.0          0.0        NaN      1.0   \n",
       "103  63.0  1.0        4.0    185.0          0.0        0.0      0.0   \n",
       "104  64.0  0.0        4.0    200.0          0.0        0.0      0.0   \n",
       "105  64.0  0.0        4.0     95.0          0.0        NaN      0.0   \n",
       "106  64.0  1.0        4.0    110.0          0.0        NaN      0.0   \n",
       "107  65.0  1.0        4.0    115.0          0.0        0.0      0.0   \n",
       "108  65.0  1.0        4.0    145.0          0.0        NaN      1.0   \n",
       "109  65.0  1.0        4.0    155.0          0.0        NaN      0.0   \n",
       "110  65.0  1.0        4.0    160.0          0.0        1.0      1.0   \n",
       "111  66.0  0.0        4.0    155.0          0.0        NaN      0.0   \n",
       "112  66.0  1.0        4.0    150.0          0.0        0.0      0.0   \n",
       "113  67.0  1.0        1.0    145.0          0.0        0.0      2.0   \n",
       "114  68.0  1.0        4.0    135.0          0.0        0.0      1.0   \n",
       "115  68.0  1.0        4.0    145.0          0.0        NaN      0.0   \n",
       "116  69.0  1.0        4.0    135.0          0.0        0.0      0.0   \n",
       "117  69.0  1.0        4.0      NaN          0.0        0.0      1.0   \n",
       "118  70.0  1.0        4.0    115.0          0.0        0.0      1.0   \n",
       "119  70.0  1.0        4.0    140.0          0.0        1.0      0.0   \n",
       "120  72.0  1.0        3.0    160.0          0.0        NaN      2.0   \n",
       "121  73.0  0.0        3.0    160.0          0.0        0.0      1.0   \n",
       "122  74.0  1.0        2.0    145.0          0.0        NaN      1.0   \n",
       "\n",
       "     max_heart_rate exercise_angina  st_depression slope fluoroscopy defect  \\\n",
       "0             150.0             0.0            2.3   3.0         0.0    6.0   \n",
       "1             108.0             1.0            1.5   2.0         3.0    3.0   \n",
       "2             129.0             1.0            2.6   2.0         2.0    7.0   \n",
       "3             187.0             0.0            3.5   3.0         0.0    3.0   \n",
       "4             172.0             0.0            1.4   1.0         0.0    3.0   \n",
       "5             178.0             0.0            0.8   1.0         0.0    3.0   \n",
       "6             160.0             0.0            3.6   3.0         2.0    3.0   \n",
       "7             163.0             1.0            0.6   1.0         0.0    3.0   \n",
       "8             147.0             0.0            1.4   2.0         1.0    7.0   \n",
       "9             155.0             1.0            3.1   3.0         0.0    7.0   \n",
       "10            148.0             0.0            0.4   2.0         0.0    6.0   \n",
       "11            153.0             0.0            1.3   2.0         0.0    3.0   \n",
       "12            142.0             1.0            0.6   2.0         1.0    6.0   \n",
       "13            173.0             0.0            0.0   1.0         0.0    7.0   \n",
       "14            162.0             0.0            0.5   1.0         0.0    7.0   \n",
       "15            174.0             0.0            1.6   1.0         0.0    3.0   \n",
       "16            168.0             0.0            1.0   3.0         0.0    7.0   \n",
       "17            160.0             0.0            1.2   1.0         0.0    3.0   \n",
       "18            139.0             0.0            0.2   1.0         0.0    3.0   \n",
       "19            171.0             0.0            0.6   1.0         0.0    3.0   \n",
       "20            144.0             1.0            1.8   2.0         0.0    3.0   \n",
       "21            162.0             0.0            1.0   1.0         0.0    3.0   \n",
       "22            160.0             0.0            1.8   2.0         0.0    3.0   \n",
       "23            173.0             0.0            3.2   1.0         2.0    7.0   \n",
       "24            132.0             1.0            2.4   2.0         2.0    7.0   \n",
       "25            158.0             0.0            1.6   2.0         0.0    3.0   \n",
       "26            172.0             0.0            0.0   1.0         0.0    3.0   \n",
       "27            114.0             0.0            2.6   3.0         0.0    3.0   \n",
       "28            171.0             0.0            1.5   1.0         0.0    3.0   \n",
       "29            114.0             1.0            2.0   2.0         0.0    7.0   \n",
       "..              ...             ...            ...   ...         ...    ...   \n",
       "93            123.0             1.0            1.7   3.0         NaN    NaN   \n",
       "94            134.0             0.0           -0.8   2.0         2.0    NaN   \n",
       "95             72.0             1.0            0.0   2.0         NaN    3.0   \n",
       "96            128.0             1.0            2.5   3.0         NaN    NaN   \n",
       "97             72.0             1.0           -0.5   2.0         NaN    3.0   \n",
       "98             78.0             0.0            2.0   2.0         NaN    7.0   \n",
       "99            109.0             0.0           -0.9   2.0         NaN    NaN   \n",
       "100           149.0             0.0            2.0   1.0         NaN    NaN   \n",
       "101            86.0             1.0            2.0   2.0         NaN    NaN   \n",
       "102           154.0             0.0            3.7   1.0         NaN    NaN   \n",
       "103            98.0             1.0            0.0   1.0         NaN    7.0   \n",
       "104           140.0             1.0            1.0   2.0         NaN    3.0   \n",
       "105           145.0             0.0            1.1   3.0         NaN    NaN   \n",
       "106           114.0             1.0            1.3   3.0         NaN    NaN   \n",
       "107            93.0             1.0            0.0   2.0         NaN    7.0   \n",
       "108            67.0             0.0            NaN   NaN         NaN    6.0   \n",
       "109           154.0             0.0            1.0   1.0         NaN    NaN   \n",
       "110           122.0             0.0            NaN   NaN         NaN    7.0   \n",
       "111            90.0             0.0            0.0   NaN         NaN    7.0   \n",
       "112           108.0             1.0            2.0   2.0         NaN    7.0   \n",
       "113           125.0             0.0            0.0   2.0         NaN    3.0   \n",
       "114           120.0             1.0            0.0   1.0         NaN    7.0   \n",
       "115           136.0             0.0            1.8   1.0         NaN    NaN   \n",
       "116           130.0             0.0            0.0   2.0         NaN    6.0   \n",
       "117             NaN             NaN            NaN   NaN         NaN    7.0   \n",
       "118            92.0             1.0            0.0   2.0         NaN    7.0   \n",
       "119           157.0             1.0            2.0   2.0         NaN    7.0   \n",
       "120           114.0             0.0            1.6   2.0         2.0    NaN   \n",
       "121           121.0             0.0            0.0   1.0         NaN    3.0   \n",
       "122           123.0             0.0            1.3   1.0         NaN    NaN   \n",
       "\n",
       "    diagnosis  \n",
       "0           0  \n",
       "1           2  \n",
       "2           1  \n",
       "3           0  \n",
       "4           0  \n",
       "5           0  \n",
       "6           3  \n",
       "7           0  \n",
       "8           2  \n",
       "9           1  \n",
       "10          0  \n",
       "11          0  \n",
       "12          2  \n",
       "13          0  \n",
       "14          0  \n",
       "15          0  \n",
       "16          1  \n",
       "17          0  \n",
       "18          0  \n",
       "19          0  \n",
       "20          0  \n",
       "21          0  \n",
       "22          1  \n",
       "23          3  \n",
       "24          4  \n",
       "25          0  \n",
       "26          0  \n",
       "27          0  \n",
       "28          0  \n",
       "29          3  \n",
       "..        ...  \n",
       "93          1  \n",
       "94          1  \n",
       "95          3  \n",
       "96          2  \n",
       "97          1  \n",
       "98          3  \n",
       "99          1  \n",
       "100         2  \n",
       "101         3  \n",
       "102         3  \n",
       "103         1  \n",
       "104         3  \n",
       "105         1  \n",
       "106         1  \n",
       "107         1  \n",
       "108         3  \n",
       "109         0  \n",
       "110         3  \n",
       "111         1  \n",
       "112         3  \n",
       "113         2  \n",
       "114         3  \n",
       "115         1  \n",
       "116         1  \n",
       "117         3  \n",
       "118         1  \n",
       "119         3  \n",
       "120         0  \n",
       "121         1  \n",
       "122         1  \n",
       "\n",
       "[920 rows x 14 columns]"
      ]
     },
     "execution_count": 58,
     "metadata": {},
     "output_type": "execute_result"
    }
   ],
   "source": [
    "df"
   ]
  },
  {
   "cell_type": "code",
   "execution_count": 539,
   "metadata": {
    "collapsed": true
   },
   "outputs": [],
   "source": [
    "#What sort of study was this?\n",
    "\n",
    "#1. Observational or experimental\n",
    "\n",
    "#Observational and experimental data\n",
    "\n",
    "#to know if your data is obersevational or experimental, you ask if the explanatory variable was manipulated or not\n",
    "\n",
    "#In a true experiment, 3 conditions:\n",
    "#1. only one variable is manipulated\n",
    "#2. we have a control group\n",
    "#3. random* assignment (analysis stage in randomized trials: check clss imbalances, and if any found\n",
    "#consider incl. in model as explanatory variables, for statistical control)\n",
    "#In theory, in this case one can determine causality\n",
    "\n",
    "#Quasi experiment:\n",
    "#1. only one variable is manipulated\n",
    "#2. control group\n",
    "#3. no random assignment; groups pre selected. i.e. drug users study.\n",
    "#To improve a quasi experimental design: add confounding variables; have a control group; use a pre-test/post-test design\n",
    "#confounder=control variable=covariate=third variable=lurking variable\n",
    "\n",
    "#in an observational study the regression line only describes data you see. it cannot be used to predict result of \n",
    "#intervention\n",
    "\n",
    "\n",
    "#*randomization works best as your sample size approaches infinity. for small sizes, imbalances in the groups\n",
    "#can occur. if you check randomized studies, one of first steps is to check for imbalances between groups\n",
    "#on covariates. this is also why we can conclude that variables are associated, but hardly that one causes the other\n",
    "#statistical control: include unbalanced covariates as additional explanatory variables in the study.\n",
    "\n",
    "#2. Longitudinal or cross sectional"
   ]
  },
  {
   "cell_type": "code",
   "execution_count": 520,
   "metadata": {
    "collapsed": true
   },
   "outputs": [],
   "source": [
    "#Then data analysis? Wrong.\n",
    "#Background research. Always starts with background research. Domain knowledge.\n",
    "#Detrano et al.: http://www.ajconline.org/article/0002-9149(89)90524-9/pdf\n",
    "#Sundaram and Kakade: http://www2.rmcil.edu/dataanalytics/v2015/papers/Clinical_Decision_Support_For_Heart_Disease.pdf\n",
    "#Soni et al.: http://www.enggjournals.com/ijcse/doc/IJCSE11-03-06-120.pdf\n",
    "#Value the time of domain experts.\n",
    "#Dataset we'll focus on today. look at txt file AND at explanation"
   ]
  },
  {
   "cell_type": "code",
   "execution_count": 540,
   "metadata": {
    "collapsed": true
   },
   "outputs": [],
   "source": [
    "#First stage in a study is always exploratory data analysis\n",
    "#We typically receive the data without context, in a raw file that we cannot easily interpret\n",
    "#The five steps of exploratory data analysis\n",
    "#1. ?\n",
    "#2. organizing and summarizing the data\n",
    "#3. Looking for important features and patterns\n",
    "#4. Looking for exceptions\n",
    "#5. Interpreting these findings in the context of the research question at hand\n",
    "#This can be summarized in a notebook or even an initial data report for everyone involved in the data project"
   ]
  },
  {
   "cell_type": "code",
   "execution_count": 378,
   "metadata": {
    "collapsed": false
   },
   "outputs": [
    {
     "name": "stdout",
     "output_type": "stream",
     "text": [
      "920\n"
     ]
    }
   ],
   "source": [
    "print(len(df))"
   ]
  },
  {
   "cell_type": "code",
   "execution_count": 379,
   "metadata": {
    "collapsed": false
   },
   "outputs": [
    {
     "name": "stdout",
     "output_type": "stream",
     "text": [
      "14\n"
     ]
    }
   ],
   "source": [
    "print(len(df.columns))"
   ]
  },
  {
   "cell_type": "code",
   "execution_count": 48,
   "metadata": {
    "collapsed": true
   },
   "outputs": [],
   "source": [
    "#number of observations to variables largely exceeds heuristic rule of 5 to 1\n",
    "#see Victoria Stodden (2006)\n",
    "#https://web.stanford.edu/~vcs/thesis.pdf"
   ]
  },
  {
   "cell_type": "code",
   "execution_count": 47,
   "metadata": {
    "collapsed": true
   },
   "outputs": [],
   "source": [
    "#convert all variables to numeric ones"
   ]
  },
  {
   "cell_type": "code",
   "execution_count": 60,
   "metadata": {
    "collapsed": false
   },
   "outputs": [],
   "source": [
    "#mark all variables as numeric data, and signify, for the relevant ones, that they are categorical rather than \n",
    "#quantitative variables\n",
    "#errors='coerce' tells pandas to return invalid values as NaN rather than as the input values themselves\n",
    "#crucial to do this step otherwise subsequent analyses will not work properly. i.e. pandas would interpret missing \n",
    "#values as strings\n",
    "df['age'] = pd.to_numeric(df['age'], errors='coerce')\n",
    "df['sex'] = pd.to_numeric(df['sex'], errors='coerce').astype('category')\n",
    "df['chest_pain'] = pd.to_numeric(df['chest_pain'], errors='coerce').astype('category')\n",
    "df['rest_bp'] = pd.to_numeric(df['rest_bp'], errors='coerce')\n",
    "df['cholesterol'] = pd.to_numeric(df['cholesterol'], errors='coerce')\n",
    "df['fasting_bs'] = pd.to_numeric(df['fasting_bs'], errors='coerce').astype('category')\n",
    "df['rest_ecg'] = pd.to_numeric(df['rest_ecg'], errors='coerce').astype('category')\n",
    "df['max_heart_rate'] = pd.to_numeric(df['max_heart_rate'], errors='coerce')\n",
    "df['exercise_angina'] = pd.to_numeric(df['exercise_angina'], errors='coerce').astype('category')\n",
    "df['st_depression'] = pd.to_numeric(df['st_depression'], errors='coerce')\n",
    "df['slope'] = pd.to_numeric(df['slope'], errors='coerce').astype('category')\n",
    "df['fluoroscopy'] = pd.to_numeric(df['fluoroscopy'], errors='coerce').astype('category')\n",
    "df['defect'] = pd.to_numeric(df['defect'], errors='coerce').astype('category')\n",
    "df['diagnosis'] = pd.to_numeric(df['diagnosis'], errors='coerce').astype('category')"
   ]
  },
  {
   "cell_type": "code",
   "execution_count": 509,
   "metadata": {
    "collapsed": true
   },
   "outputs": [],
   "source": [
    "#let's check for missing/outlier values\n",
    "\n",
    "#Why bother?\n",
    "#Nearly all statistical methods assume complete information. In the presence of missing data:\n",
    "#1. parameter estimates may be biased\n",
    "#2. statistical power weakens\n",
    "#3. precision of confidence intervals is diminished\n",
    "\n",
    "#Three types of missing variables:\n",
    "#1. Missing completely at random (MCAR): p(missing data on Y) independent of p(Y value) or p(other variables values)\n",
    "#but: p(missing data on Y) may be linked to p(missing data on other variables in dataset))\n",
    "#2. Missing at random (MAR): p(missing data on Y) independent of value of Y after controlling for other variables\n",
    "#3. Not missing at random (NMAR)\n",
    "\n",
    "#If MAR, missing data is ignorable and there is no need to model missing data mechanism\n",
    "#if NMAR, missing data mechanism is not ignorable and one must develop v good understanding of missing data process to model it\n",
    "\n",
    "#Standard options:\n",
    "#1. listwise deletion. works well if MCAR, which is rarely true, and can delete significant part of our sample\n",
    "#2. imputation.\n",
    "#2.a. marginal mean imputation: leads to biased estimates of variance and covariance and should be avoided\n",
    "#2.b. conditional mean imputation: we regress missing values on values of all other variables present in dataset.\n",
    "#     MCAR assumption. Generalized least squares usually shows good results.\n",
    "#Overall issue with imputation methods: underestimate standard errors and overstimate test statistics.\n",
    "\n",
    "#Advanced options:\n",
    "#1. Multiple imputation\n",
    "#2. Maximum likelihood\n",
    "#3. Bayesian simulation\n",
    "#4. Hot deck (selects at random, with replacement, a value from observations with similar values for other variables)\n",
    "\n",
    "#http://scikit-learn.org/stable/modules/generated/sklearn.preprocessing.Imputer.html\n",
    "#http://www.bu.edu/sph/files/2014/05/Marina-tech-report.pdf\n",
    "#http://www.statsmodels.org/dev/imputation.html\n",
    "\n",
    "#\"The only really good solution to the missing data problem is not to have any. So in the design and execution of \n",
    "#research projects, it is essential to put great effort into minimizing the occurrence of missing data. \n",
    "#Statistical adjustments can never make up for sloppy research.\" Paul Allison, 2001."
   ]
  },
  {
   "cell_type": "code",
   "execution_count": 63,
   "metadata": {
    "collapsed": false
   },
   "outputs": [
    {
     "data": {
      "text/plain": [
       "False    920\n",
       "Name: age, dtype: int64"
      ]
     },
     "execution_count": 63,
     "metadata": {},
     "output_type": "execute_result"
    }
   ],
   "source": [
    "df['age'].isnull().value_counts()"
   ]
  },
  {
   "cell_type": "code",
   "execution_count": 380,
   "metadata": {
    "collapsed": false
   },
   "outputs": [
    {
     "name": "stdout",
     "output_type": "stream",
     "text": [
      "1=0%tile     239\n",
      "2=25%tile    233\n",
      "3=50%tile    227\n",
      "4=75%tile    221\n",
      "Name: age, dtype: int64\n"
     ]
    }
   ],
   "source": [
    "#manual quartile split\n",
    "age_binned = pd.qcut(df['age'], 4, labels = [\"1=0%tile\", \"2=25%tile\", \"3=50%tile\", \n",
    "                                                        \"4=75%tile\"]).value_counts(sort=False)\n",
    "print(age_binned)"
   ]
  },
  {
   "cell_type": "code",
   "execution_count": 65,
   "metadata": {
    "collapsed": false
   },
   "outputs": [
    {
     "data": {
      "text/plain": [
       "False    920\n",
       "Name: sex, dtype: int64"
      ]
     },
     "execution_count": 65,
     "metadata": {},
     "output_type": "execute_result"
    }
   ],
   "source": [
    "df['sex'].isnull().value_counts()"
   ]
  },
  {
   "cell_type": "code",
   "execution_count": 66,
   "metadata": {
    "collapsed": false
   },
   "outputs": [
    {
     "data": {
      "text/plain": [
       "1.0    726\n",
       "0.0    194\n",
       "Name: sex, dtype: int64"
      ]
     },
     "execution_count": 66,
     "metadata": {},
     "output_type": "execute_result"
    }
   ],
   "source": [
    "df['sex'].value_counts()"
   ]
  },
  {
   "cell_type": "code",
   "execution_count": 381,
   "metadata": {
    "collapsed": false
   },
   "outputs": [
    {
     "data": {
      "text/plain": [
       "1.0    0.78913\n",
       "0.0    0.21087\n",
       "Name: sex, dtype: float64"
      ]
     },
     "execution_count": 381,
     "metadata": {},
     "output_type": "execute_result"
    }
   ],
   "source": [
    "df['sex'].value_counts(normalize=True)"
   ]
  },
  {
   "cell_type": "code",
   "execution_count": 67,
   "metadata": {
    "collapsed": false
   },
   "outputs": [
    {
     "data": {
      "text/plain": [
       "False    920\n",
       "Name: chest_pain, dtype: int64"
      ]
     },
     "execution_count": 67,
     "metadata": {},
     "output_type": "execute_result"
    }
   ],
   "source": [
    "df['chest_pain'].isnull().value_counts()"
   ]
  },
  {
   "cell_type": "code",
   "execution_count": 68,
   "metadata": {
    "collapsed": false
   },
   "outputs": [
    {
     "data": {
      "text/plain": [
       "4.0    496\n",
       "3.0    204\n",
       "2.0    174\n",
       "1.0     46\n",
       "Name: chest_pain, dtype: int64"
      ]
     },
     "execution_count": 68,
     "metadata": {},
     "output_type": "execute_result"
    }
   ],
   "source": [
    "df['chest_pain'].value_counts()"
   ]
  },
  {
   "cell_type": "code",
   "execution_count": 69,
   "metadata": {
    "collapsed": false
   },
   "outputs": [
    {
     "data": {
      "text/plain": [
       "False    861\n",
       "True      59\n",
       "Name: rest_bp, dtype: int64"
      ]
     },
     "execution_count": 69,
     "metadata": {},
     "output_type": "execute_result"
    }
   ],
   "source": [
    "df['rest_bp'].isnull().value_counts()"
   ]
  },
  {
   "cell_type": "code",
   "execution_count": 385,
   "metadata": {
    "collapsed": false
   },
   "outputs": [
    {
     "data": {
      "text/plain": [
       "False    0.93587\n",
       "True     0.06413\n",
       "Name: rest_bp, dtype: float64"
      ]
     },
     "execution_count": 385,
     "metadata": {},
     "output_type": "execute_result"
    }
   ],
   "source": [
    "df['rest_bp'].isnull().value_counts()/len(df)"
   ]
  },
  {
   "cell_type": "code",
   "execution_count": 71,
   "metadata": {
    "collapsed": false
   },
   "outputs": [
    {
     "data": {
      "text/plain": [
       "False    890\n",
       "True      30\n",
       "Name: cholesterol, dtype: int64"
      ]
     },
     "execution_count": 71,
     "metadata": {},
     "output_type": "execute_result"
    }
   ],
   "source": [
    "df['cholesterol'].isnull().value_counts()"
   ]
  },
  {
   "cell_type": "code",
   "execution_count": 386,
   "metadata": {
    "collapsed": false
   },
   "outputs": [
    {
     "data": {
      "text/plain": [
       "False    0.967391\n",
       "True     0.032609\n",
       "Name: cholesterol, dtype: float64"
      ]
     },
     "execution_count": 386,
     "metadata": {},
     "output_type": "execute_result"
    }
   ],
   "source": [
    "df['cholesterol'].isnull().value_counts()/len(df)"
   ]
  },
  {
   "cell_type": "code",
   "execution_count": 72,
   "metadata": {
    "collapsed": false
   },
   "outputs": [
    {
     "data": {
      "text/plain": [
       "False    830\n",
       "True      90\n",
       "Name: fasting_bs, dtype: int64"
      ]
     },
     "execution_count": 72,
     "metadata": {},
     "output_type": "execute_result"
    }
   ],
   "source": [
    "df['fasting_bs'].isnull().value_counts()"
   ]
  },
  {
   "cell_type": "code",
   "execution_count": 387,
   "metadata": {
    "collapsed": false
   },
   "outputs": [
    {
     "data": {
      "text/plain": [
       "False    0.902174\n",
       "True     0.097826\n",
       "Name: fasting_bs, dtype: float64"
      ]
     },
     "execution_count": 387,
     "metadata": {},
     "output_type": "execute_result"
    }
   ],
   "source": [
    "df['fasting_bs'].isnull().value_counts()/len(df)"
   ]
  },
  {
   "cell_type": "code",
   "execution_count": 541,
   "metadata": {
    "collapsed": false
   },
   "outputs": [
    {
     "data": {
      "text/plain": [
       "0.0    692\n",
       "1.0    138\n",
       "Name: fasting_bs, dtype: int64"
      ]
     },
     "execution_count": 541,
     "metadata": {},
     "output_type": "execute_result"
    }
   ],
   "source": [
    "#standard value_counts() function drops missing values. To avoid this you can add dropna=False argument to function.\n",
    "df['fasting_bs'].value_counts()"
   ]
  },
  {
   "cell_type": "code",
   "execution_count": 388,
   "metadata": {
    "collapsed": false
   },
   "outputs": [
    {
     "data": {
      "text/plain": [
       "False    0.997826\n",
       "True     0.002174\n",
       "Name: rest_ecg, dtype: float64"
      ]
     },
     "execution_count": 388,
     "metadata": {},
     "output_type": "execute_result"
    }
   ],
   "source": [
    "df['rest_ecg'].isnull().value_counts()/len(df)"
   ]
  },
  {
   "cell_type": "code",
   "execution_count": 75,
   "metadata": {
    "collapsed": false
   },
   "outputs": [
    {
     "data": {
      "text/plain": [
       "0.0    551\n",
       "2.0    188\n",
       "1.0    179\n",
       "Name: rest_ecg, dtype: int64"
      ]
     },
     "execution_count": 75,
     "metadata": {},
     "output_type": "execute_result"
    }
   ],
   "source": [
    "df['rest_ecg'].value_counts()"
   ]
  },
  {
   "cell_type": "code",
   "execution_count": 76,
   "metadata": {
    "collapsed": false
   },
   "outputs": [
    {
     "data": {
      "text/plain": [
       "False    865\n",
       "True      55\n",
       "Name: max_heart_rate, dtype: int64"
      ]
     },
     "execution_count": 76,
     "metadata": {},
     "output_type": "execute_result"
    }
   ],
   "source": [
    "df['max_heart_rate'].isnull().value_counts()"
   ]
  },
  {
   "cell_type": "code",
   "execution_count": 389,
   "metadata": {
    "collapsed": false
   },
   "outputs": [
    {
     "data": {
      "text/plain": [
       "False    0.940217\n",
       "True     0.059783\n",
       "Name: max_heart_rate, dtype: float64"
      ]
     },
     "execution_count": 389,
     "metadata": {},
     "output_type": "execute_result"
    }
   ],
   "source": [
    "df['max_heart_rate'].isnull().value_counts()/len(df)"
   ]
  },
  {
   "cell_type": "code",
   "execution_count": 78,
   "metadata": {
    "collapsed": false
   },
   "outputs": [
    {
     "data": {
      "text/plain": [
       "False    865\n",
       "True      55\n",
       "Name: exercise_angina, dtype: int64"
      ]
     },
     "execution_count": 78,
     "metadata": {},
     "output_type": "execute_result"
    }
   ],
   "source": [
    "df['exercise_angina'].isnull().value_counts()"
   ]
  },
  {
   "cell_type": "code",
   "execution_count": 390,
   "metadata": {
    "collapsed": false
   },
   "outputs": [
    {
     "data": {
      "text/plain": [
       "False    0.940217\n",
       "True     0.059783\n",
       "Name: exercise_angina, dtype: float64"
      ]
     },
     "execution_count": 390,
     "metadata": {},
     "output_type": "execute_result"
    }
   ],
   "source": [
    "df['exercise_angina'].isnull().value_counts()/len(df)"
   ]
  },
  {
   "cell_type": "code",
   "execution_count": 79,
   "metadata": {
    "collapsed": false
   },
   "outputs": [
    {
     "data": {
      "text/plain": [
       "0.0    528\n",
       "1.0    337\n",
       "Name: exercise_angina, dtype: int64"
      ]
     },
     "execution_count": 79,
     "metadata": {},
     "output_type": "execute_result"
    }
   ],
   "source": [
    "df['exercise_angina'].value_counts()"
   ]
  },
  {
   "cell_type": "code",
   "execution_count": 80,
   "metadata": {
    "collapsed": false
   },
   "outputs": [
    {
     "data": {
      "text/plain": [
       "False    858\n",
       "True      62\n",
       "Name: st_depression, dtype: int64"
      ]
     },
     "execution_count": 80,
     "metadata": {},
     "output_type": "execute_result"
    }
   ],
   "source": [
    "df['st_depression'].isnull().value_counts()"
   ]
  },
  {
   "cell_type": "code",
   "execution_count": 391,
   "metadata": {
    "collapsed": false
   },
   "outputs": [
    {
     "data": {
      "text/plain": [
       "False    0.932609\n",
       "True     0.067391\n",
       "Name: st_depression, dtype: float64"
      ]
     },
     "execution_count": 391,
     "metadata": {},
     "output_type": "execute_result"
    }
   ],
   "source": [
    "df['st_depression'].isnull().value_counts()/len(df)"
   ]
  },
  {
   "cell_type": "code",
   "execution_count": 82,
   "metadata": {
    "collapsed": false
   },
   "outputs": [
    {
     "data": {
      "text/plain": [
       "False    611\n",
       "True     309\n",
       "Name: slope, dtype: int64"
      ]
     },
     "execution_count": 82,
     "metadata": {},
     "output_type": "execute_result"
    }
   ],
   "source": [
    "df['slope'].isnull().value_counts()"
   ]
  },
  {
   "cell_type": "code",
   "execution_count": 392,
   "metadata": {
    "collapsed": false
   },
   "outputs": [
    {
     "data": {
      "text/plain": [
       "False    0.66413\n",
       "True     0.33587\n",
       "Name: slope, dtype: float64"
      ]
     },
     "execution_count": 392,
     "metadata": {},
     "output_type": "execute_result"
    }
   ],
   "source": [
    "df['slope'].isnull().value_counts()/len(df)"
   ]
  },
  {
   "cell_type": "code",
   "execution_count": 83,
   "metadata": {
    "collapsed": false
   },
   "outputs": [
    {
     "data": {
      "text/plain": [
       "2.0    345\n",
       "1.0    203\n",
       "3.0     63\n",
       "Name: slope, dtype: int64"
      ]
     },
     "execution_count": 83,
     "metadata": {},
     "output_type": "execute_result"
    }
   ],
   "source": [
    "df['slope'].value_counts()"
   ]
  },
  {
   "cell_type": "code",
   "execution_count": 84,
   "metadata": {
    "collapsed": false
   },
   "outputs": [
    {
     "data": {
      "text/plain": [
       "True     611\n",
       "False    309\n",
       "Name: fluoroscopy, dtype: int64"
      ]
     },
     "execution_count": 84,
     "metadata": {},
     "output_type": "execute_result"
    }
   ],
   "source": [
    "df['fluoroscopy'].isnull().value_counts()"
   ]
  },
  {
   "cell_type": "code",
   "execution_count": 393,
   "metadata": {
    "collapsed": false
   },
   "outputs": [
    {
     "data": {
      "text/plain": [
       "True     0.66413\n",
       "False    0.33587\n",
       "Name: fluoroscopy, dtype: float64"
      ]
     },
     "execution_count": 393,
     "metadata": {},
     "output_type": "execute_result"
    }
   ],
   "source": [
    "df['fluoroscopy'].isnull().value_counts()/len(df)"
   ]
  },
  {
   "cell_type": "code",
   "execution_count": 85,
   "metadata": {
    "collapsed": false
   },
   "outputs": [
    {
     "data": {
      "text/plain": [
       "0.0    181\n",
       "1.0     67\n",
       "2.0     41\n",
       "3.0     20\n",
       "Name: fluoroscopy, dtype: int64"
      ]
     },
     "execution_count": 85,
     "metadata": {},
     "output_type": "execute_result"
    }
   ],
   "source": [
    "df['fluoroscopy'].value_counts()"
   ]
  },
  {
   "cell_type": "code",
   "execution_count": 86,
   "metadata": {
    "collapsed": false
   },
   "outputs": [
    {
     "data": {
      "text/plain": [
       "True     486\n",
       "False    434\n",
       "Name: defect, dtype: int64"
      ]
     },
     "execution_count": 86,
     "metadata": {},
     "output_type": "execute_result"
    }
   ],
   "source": [
    "df['defect'].isnull().value_counts()"
   ]
  },
  {
   "cell_type": "code",
   "execution_count": 394,
   "metadata": {
    "collapsed": false
   },
   "outputs": [
    {
     "data": {
      "text/plain": [
       "True     0.528261\n",
       "False    0.471739\n",
       "Name: defect, dtype: float64"
      ]
     },
     "execution_count": 394,
     "metadata": {},
     "output_type": "execute_result"
    }
   ],
   "source": [
    "df['defect'].isnull().value_counts()/len(df)"
   ]
  },
  {
   "cell_type": "code",
   "execution_count": 87,
   "metadata": {
    "collapsed": false
   },
   "outputs": [
    {
     "data": {
      "text/plain": [
       "3.0    196\n",
       "7.0    192\n",
       "6.0     46\n",
       "Name: defect, dtype: int64"
      ]
     },
     "execution_count": 87,
     "metadata": {},
     "output_type": "execute_result"
    }
   ],
   "source": [
    "df['defect'].value_counts()"
   ]
  },
  {
   "cell_type": "code",
   "execution_count": 88,
   "metadata": {
    "collapsed": false
   },
   "outputs": [
    {
     "data": {
      "text/plain": [
       "False    920\n",
       "Name: diagnosis, dtype: int64"
      ]
     },
     "execution_count": 88,
     "metadata": {},
     "output_type": "execute_result"
    }
   ],
   "source": [
    "df['diagnosis'].isnull().value_counts()"
   ]
  },
  {
   "cell_type": "code",
   "execution_count": 89,
   "metadata": {
    "collapsed": false
   },
   "outputs": [
    {
     "data": {
      "text/plain": [
       "0    411\n",
       "1    265\n",
       "2    109\n",
       "3    107\n",
       "4     28\n",
       "Name: diagnosis, dtype: int64"
      ]
     },
     "execution_count": 89,
     "metadata": {},
     "output_type": "execute_result"
    }
   ],
   "source": [
    "df['diagnosis'].value_counts()"
   ]
  },
  {
   "cell_type": "code",
   "execution_count": 395,
   "metadata": {
    "collapsed": false
   },
   "outputs": [
    {
     "data": {
      "text/plain": [
       "14"
      ]
     },
     "execution_count": 395,
     "metadata": {},
     "output_type": "execute_result"
    }
   ],
   "source": [
    "len(df.columns)"
   ]
  },
  {
   "cell_type": "code",
   "execution_count": 90,
   "metadata": {
    "collapsed": true
   },
   "outputs": [],
   "source": [
    "#the variables slope, defect and fluoroscopy have 33-47% of missing values\n",
    "#context. Why?\n",
    "#can we correct for this without introducing other biases into our dataset?\n",
    "#Here we will decide to eliminate these variables.\n",
    "#Data analysts are mere mortals too. Cannot fix everything.\n",
    "df_red = df[['age', 'sex', 'chest_pain', 'rest_bp', 'cholesterol', 'fasting_bs', 'rest_ecg', 'max_heart_rate', \n",
    "            'exercise_angina', 'st_depression', 'diagnosis']]"
   ]
  },
  {
   "cell_type": "code",
   "execution_count": 126,
   "metadata": {
    "collapsed": false
   },
   "outputs": [
    {
     "data": {
      "text/plain": [
       "920"
      ]
     },
     "execution_count": 126,
     "metadata": {},
     "output_type": "execute_result"
    }
   ],
   "source": [
    "len(df_red)"
   ]
  },
  {
   "cell_type": "code",
   "execution_count": null,
   "metadata": {
    "collapsed": true
   },
   "outputs": [],
   "source": [
    "#rest_bp, cholesterol, fasting_bs, rest_ecg, max_heart_rate, exercise_angina, st_depression"
   ]
  },
  {
   "cell_type": "code",
   "execution_count": 173,
   "metadata": {
    "collapsed": false
   },
   "outputs": [
    {
     "name": "stderr",
     "output_type": "stream",
     "text": [
      "//anaconda/lib/python3.6/site-packages/pandas/core/generic.py:3295: SettingWithCopyWarning: \n",
      "A value is trying to be set on a copy of a slice from a DataFrame\n",
      "\n",
      "See the caveats in the documentation: http://pandas.pydata.org/pandas-docs/stable/indexing.html#indexing-view-versus-copy\n",
      "  self._update_inplace(new_data)\n"
     ]
    }
   ],
   "source": [
    "#rest_ecg is a categorical variable with only 2% of missing values.\n",
    "#we make the choice to impute missing values with a straightforward method: the mode\n",
    "#we are conscious this may introduce biases but due to low number of missing values, in what is\n",
    "#a small range categorical variable (no extreme outliers possible) we feel comfortable doing this\n",
    "df_red['rest_ecg'].fillna(df_red['rest_ecg'].mode().iloc[0], inplace=True)"
   ]
  },
  {
   "cell_type": "code",
   "execution_count": 174,
   "metadata": {
    "collapsed": false
   },
   "outputs": [
    {
     "data": {
      "text/plain": [
       "False    920\n",
       "Name: rest_ecg, dtype: int64"
      ]
     },
     "execution_count": 174,
     "metadata": {},
     "output_type": "execute_result"
    }
   ],
   "source": [
    "df_red['rest_ecg'].isnull().value_counts()"
   ]
  },
  {
   "cell_type": "code",
   "execution_count": 278,
   "metadata": {
    "collapsed": false
   },
   "outputs": [],
   "source": [
    "#let's see if there is any overlap between missing variables relative to observations, and what would happen if we \n",
    "#were to limit our dataset to observations with non missing values\n",
    "df_clean = df_red[df_red['rest_bp'].notnull() & df_red['cholesterol'].notnull() & df_red['fasting_bs'].notnull() & df['max_heart_rate'].notnull() & df['exercise_angina'].notnull() &\n",
    "                    df['st_depression'].notnull()]"
   ]
  },
  {
   "cell_type": "code",
   "execution_count": 396,
   "metadata": {
    "collapsed": false
   },
   "outputs": [
    {
     "data": {
      "text/plain": [
       "741"
      ]
     },
     "execution_count": 396,
     "metadata": {},
     "output_type": "execute_result"
    }
   ],
   "source": [
    "len(df_clean)"
   ]
  },
  {
   "cell_type": "code",
   "execution_count": 189,
   "metadata": {
    "collapsed": false
   },
   "outputs": [
    {
     "data": {
      "text/plain": [
       "age                False\n",
       "sex                False\n",
       "chest_pain         False\n",
       "rest_bp            False\n",
       "cholesterol        False\n",
       "fasting_bs         False\n",
       "rest_ecg           False\n",
       "max_heart_rate     False\n",
       "exercise_angina    False\n",
       "st_depression      False\n",
       "diagnosis          False\n",
       "dtype: bool"
      ]
     },
     "execution_count": 189,
     "metadata": {},
     "output_type": "execute_result"
    }
   ],
   "source": [
    "df_clean.isnull().any()"
   ]
  },
  {
   "cell_type": "code",
   "execution_count": 521,
   "metadata": {
    "collapsed": true
   },
   "outputs": [],
   "source": [
    "#this is not approach we would use in a real world study, but for exploratory purposes in this tutorial\n",
    "#we can retain 85% of observations that were properly recorded regarding all variables\n",
    "#I will add here an example with conditional mean imputation for one of the variables\n",
    "#Statsmodels very limited in options = very manual work.\n",
    "#From version 0.8.0 onwards MICE function."
   ]
  },
  {
   "cell_type": "code",
   "execution_count": 542,
   "metadata": {
    "collapsed": true
   },
   "outputs": [],
   "source": [
    "#now that we cleaned the data we can move on to univariate analysis - one variable at a time\n",
    "\n",
    "#data reporting tells you what is happening, but data analysis tells you why it is happening\n",
    "\n",
    "\n",
    "#Descriptive statistics\n",
    "\n",
    "#a parameter is calculated from the population, while a statistic from a sample\n",
    "\n",
    "#In studying samples, we assume the Central Limit Theorem holds: if you draw enough samples, from\n",
    "#a population, and each sample is large enough, the distribution of the statistics of the samples\n",
    "#will be normally distributed.\n",
    "#normal curve discovered around 1720 by Abraham de Moivre. Around 1870, Adolph Quetelet thought\n",
    "#of using it as the curve of an ideal histogram\n",
    "\n",
    "#center-spread-modality\n",
    "#3 measures of center: mean, median and mode\n",
    "#symmetry or skewness. skewed right (i.e. salaries), skewed left (i.e. age of natural deaths)\n",
    "#peakness or modality. unimodal, bimodal, uniform...\n",
    "\n",
    "#now we will aim to get an idea of the shape, center, and spread of these variables\n",
    "#we will analyze the shape visually by checking for modality and skewness\n",
    "#we will check for measures of center such as mean, median and mode\n",
    "#we will check the spread through the standard deviation for quantitative variables\n",
    "#SD: how far away observations are from their average\n",
    "#in a normal distribution roughly 68% are within 1 SD and 95% within 2 SDs.\n",
    "\n",
    "#Quantitative variables\n",
    "#shape, center and spread \n",
    "#histogram\n",
    "\n",
    "#Categorical variables\n",
    "#mode\n",
    "#bar chart or frequency distribution\n",
    "\n",
    "#Bias affects all measurements the same way, while chance errors vary from measurement to measurement\n",
    "#therefore bias cannot be noticed by looking just at measurements, we need an external/theoretical\n",
    "#benchmark as well"
   ]
  },
  {
   "cell_type": "code",
   "execution_count": 543,
   "metadata": {
    "collapsed": true
   },
   "outputs": [],
   "source": [
    "#rules for visualizing data:\n",
    "\n",
    "#for visualizing one variable: \n",
    "#if it is categorical we use a bar chart i.e. sns's countplot function\n",
    "#if it is quantitative, we can combine a kernel density estimate and a histogram with sns's distplot function\n",
    "\n",
    "#for visualizing two variables:\n",
    "# C-Q: bivariate bar graph with sns factorplot (bin/collapse explanatory variable), categories\n",
    "#on x axis, and mean of response variable on y axis\n",
    "# Q-Q: scatterplot with sns regplot\n",
    "#C-C: you can plot them one a time. problem with a bivariate graph is that mean has no meaning in context of a \n",
    "#categorical variable"
   ]
  },
  {
   "cell_type": "code",
   "execution_count": 522,
   "metadata": {
    "collapsed": false
   },
   "outputs": [
    {
     "data": {
      "text/plain": [
       "<matplotlib.text.Text at 0x116ca35f8>"
      ]
     },
     "execution_count": 522,
     "metadata": {},
     "output_type": "execute_result"
    },
    {
     "data": {
      "image/png": "[encoded data removed]",
      "text/plain": [
       "<matplotlib.figure.Figure at 0x1137bd1d0>"
      ]
     },
     "metadata": {},
     "output_type": "display_data"
    }
   ],
   "source": [
    "#Gender\n",
    "#given that gender is a categorical variable, we use a countplot to visualize it\n",
    "#we always plot the variable of interest on the x axis, and the count or frequency on the y axis\n",
    "sns.countplot(x='sex', data = df_clean)\n",
    "plt.suptitle('Frequency of observations by gender')"
   ]
  },
  {
   "cell_type": "code",
   "execution_count": 194,
   "metadata": {
    "collapsed": false
   },
   "outputs": [
    {
     "data": {
      "text/plain": [
       "0    0.481781\n",
       "1    0.276653\n",
       "2    0.106613\n",
       "3    0.105263\n",
       "4    0.029690\n",
       "Name: diagnosis, dtype: float64"
      ]
     },
     "execution_count": 194,
     "metadata": {},
     "output_type": "execute_result"
    }
   ],
   "source": [
    "#Diagnosis\n",
    "#we check the counts per each value of the variable. sort=False tells pandas not to sort the results by values. \n",
    "#normalize = True tells it to return the relative frequencies rather than the absolute counts\n",
    "#if we had not cleaned the data, we could add parameter dropna=False so that value_counts does not drop null values\n",
    "df_clean['diagnosis'].value_counts(sort=False, normalize=True)"
   ]
  },
  {
   "cell_type": "code",
   "execution_count": 410,
   "metadata": {
    "collapsed": false
   },
   "outputs": [
    {
     "data": {
      "text/plain": [
       "<matplotlib.text.Text at 0x1137dfb00>"
      ]
     },
     "execution_count": 410,
     "metadata": {},
     "output_type": "execute_result"
    },
    {
     "data": {
      "image/png": "[encoded data removed]",
      "text/plain": [
       "<matplotlib.figure.Figure at 0x1147b9cc0>"
      ]
     },
     "metadata": {},
     "output_type": "display_data"
    }
   ],
   "source": [
    "sns.countplot(x='diagnosis', data=df_clean)\n",
    "plt.suptitle('Frequency distribution of diagnosis state')"
   ]
  },
  {
   "cell_type": "code",
   "execution_count": 411,
   "metadata": {
    "collapsed": false
   },
   "outputs": [
    {
     "data": {
      "text/plain": [
       "count    741.000000\n",
       "mean      53.099865\n",
       "std        9.402028\n",
       "min       28.000000\n",
       "25%       46.000000\n",
       "50%       54.000000\n",
       "75%       60.000000\n",
       "max       77.000000\n",
       "Name: age, dtype: float64"
      ]
     },
     "execution_count": 411,
     "metadata": {},
     "output_type": "execute_result"
    }
   ],
   "source": [
    "#Let's look at age now\n",
    "#the describe request gives us the count, mean, std, min, max, as well as the quartiles for the\n",
    "#respective value distribution\n",
    "df_clean['age'].describe()"
   ]
  },
  {
   "cell_type": "code",
   "execution_count": 412,
   "metadata": {
    "collapsed": false
   },
   "outputs": [
    {
     "name": "stderr",
     "output_type": "stream",
     "text": [
      "//anaconda/lib/python3.6/site-packages/statsmodels/nonparametric/kdetools.py:20: VisibleDeprecationWarning: using a non-integer number instead of an integer will result in an error in the future\n",
      "  y = X[:m/2+1] + np.r_[0,X[m/2+1:],0]*1j\n"
     ]
    },
    {
     "data": {
      "text/plain": [
       "<matplotlib.text.Text at 0x11429c748>"
      ]
     },
     "execution_count": 412,
     "metadata": {},
     "output_type": "execute_result"
    },
    {
     "data": {
      "image/png": "[encoded data removed]",
      "text/plain": [
       "<matplotlib.figure.Figure at 0x114676208>"
      ]
     },
     "metadata": {},
     "output_type": "display_data"
    }
   ],
   "source": [
    "#sns distplot function combines matplotlib hist() function with sns kdeplot() function.\n",
    "sns.distplot(df_clean['age'])\n",
    "plt.suptitle('Distribution of age')"
   ]
  },
  {
   "cell_type": "code",
   "execution_count": 413,
   "metadata": {
    "collapsed": false
   },
   "outputs": [
    {
     "data": {
      "text/plain": [
       "Index(['age', 'sex', 'chest_pain', 'rest_bp', 'cholesterol', 'fasting_bs',\n",
       "       'rest_ecg', 'max_heart_rate', 'exercise_angina', 'st_depression',\n",
       "       'diagnosis'],\n",
       "      dtype='object')"
      ]
     },
     "execution_count": 413,
     "metadata": {},
     "output_type": "execute_result"
    }
   ],
   "source": [
    "df_clean.columns"
   ]
  },
  {
   "cell_type": "code",
   "execution_count": 417,
   "metadata": {
    "collapsed": false
   },
   "outputs": [
    {
     "data": {
      "text/plain": [
       "count    741.000000\n",
       "mean     138.740891\n",
       "std       25.828809\n",
       "min       60.000000\n",
       "25%      120.000000\n",
       "50%      140.000000\n",
       "75%      159.000000\n",
       "max      202.000000\n",
       "Name: max_heart_rate, dtype: float64"
      ]
     },
     "execution_count": 417,
     "metadata": {},
     "output_type": "execute_result"
    }
   ],
   "source": [
    "df_clean['max_heart_rate'].describe()"
   ]
  },
  {
   "cell_type": "code",
   "execution_count": 420,
   "metadata": {
    "collapsed": false
   },
   "outputs": [
    {
     "name": "stderr",
     "output_type": "stream",
     "text": [
      "//anaconda/lib/python3.6/site-packages/statsmodels/nonparametric/kdetools.py:20: VisibleDeprecationWarning: using a non-integer number instead of an integer will result in an error in the future\n",
      "  y = X[:m/2+1] + np.r_[0,X[m/2+1:],0]*1j\n"
     ]
    },
    {
     "data": {
      "text/plain": [
       "<matplotlib.text.Text at 0x1153af5c0>"
      ]
     },
     "execution_count": 420,
     "metadata": {},
     "output_type": "execute_result"
    },
    {
     "data": {
      "image/png": "[encoded data removed]",
      "text/plain": [
       "<matplotlib.figure.Figure at 0x1153a4c50>"
      ]
     },
     "metadata": {},
     "output_type": "display_data"
    }
   ],
   "source": [
    "sns.distplot(df_clean['max_heart_rate'])\n",
    "plt.suptitle('Distribution of maximal heart rate')"
   ]
  },
  {
   "cell_type": "code",
   "execution_count": 433,
   "metadata": {
    "collapsed": false
   },
   "outputs": [
    {
     "data": {
      "text/plain": [
       "<matplotlib.axes._subplots.AxesSubplot at 0x1158a2fd0>"
      ]
     },
     "execution_count": 433,
     "metadata": {},
     "output_type": "execute_result"
    },
    {
     "data": {
      "image/png": "[encoded data removed]",
      "text/plain": [
       "<matplotlib.figure.Figure at 0x1157f8fd0>"
      ]
     },
     "metadata": {},
     "output_type": "display_data"
    }
   ],
   "source": [
    "sns.swarmplot('diagnosis', data=df_clean)"
   ]
  },
  {
   "cell_type": "code",
   "execution_count": 430,
   "metadata": {
    "collapsed": true
   },
   "outputs": [],
   "source": [
    "#rules for visualizing two variables (recap):\n",
    "# C-Q: bivariate bar graph with sns factorplot (bin/collapse explanatory variable), categories on x axis, and mean \n",
    "#of response variable on y axis\n",
    "# Q-Q: scatterplot with sns regplot\n",
    "#C-C: you can plot them one a time. problem with a bivariate graph is that mean has no meaning\n",
    "#in context of a categorical variable"
   ]
  },
  {
   "cell_type": "code",
   "execution_count": 429,
   "metadata": {
    "collapsed": false
   },
   "outputs": [
    {
     "data": {
      "text/plain": [
       "<matplotlib.text.Text at 0x114bf89e8>"
      ]
     },
     "execution_count": 429,
     "metadata": {},
     "output_type": "execute_result"
    },
    {
     "data": {
      "image/png": "[encoded data removed]",
      "text/plain": [
       "<matplotlib.figure.Figure at 0x1153c46a0>"
      ]
     },
     "metadata": {},
     "output_type": "display_data"
    }
   ],
   "source": [
    "sns.factorplot(x='sex', y='age', kind='bar', data=df_clean)\n",
    "plt.suptitle('Gender vs age')"
   ]
  },
  {
   "cell_type": "code",
   "execution_count": 432,
   "metadata": {
    "collapsed": false
   },
   "outputs": [
    {
     "data": {
      "text/plain": [
       "<seaborn.axisgrid.FacetGrid at 0x11578b4e0>"
      ]
     },
     "execution_count": 432,
     "metadata": {},
     "output_type": "execute_result"
    },
    {
     "data": {
      "image/png": "[encoded data removed]",
      "text/plain": [
       "<matplotlib.figure.Figure at 0x1157860f0>"
      ]
     },
     "metadata": {},
     "output_type": "display_data"
    }
   ],
   "source": [
    "#categorical explanatory variable 'sex' and quantitative response variable 'rest_bp'\n",
    "#kind = bar asks for a bar graph and ci=None suppresses error bars\n",
    "sns.factorplot(x='sex', y='rest_bp', data=df_clean, kind='bar', ci=None)"
   ]
  },
  {
   "cell_type": "code",
   "execution_count": 423,
   "metadata": {
    "collapsed": false
   },
   "outputs": [
    {
     "data": {
      "text/plain": [
       "category"
      ]
     },
     "execution_count": 423,
     "metadata": {},
     "output_type": "execute_result"
    }
   ],
   "source": [
    "df_clean['chest_pain'].dtype"
   ]
  },
  {
   "cell_type": "code",
   "execution_count": 197,
   "metadata": {
    "collapsed": false
   },
   "outputs": [
    {
     "data": {
      "text/plain": [
       "<matplotlib.axes._subplots.AxesSubplot at 0x10f5424a8>"
      ]
     },
     "execution_count": 197,
     "metadata": {},
     "output_type": "execute_result"
    },
    {
     "data": {
      "image/png": "[encoded data removed]",
      "text/plain": [
       "<matplotlib.figure.Figure at 0x10f1040f0>"
      ]
     },
     "metadata": {},
     "output_type": "display_data"
    }
   ],
   "source": [
    "#We use a regplot to plot two quantitative variables, age and allcrimes, while also having a regression line suggesting\n",
    "#any association present\n",
    "#we always plot the explanatory variable on the x axis, and the response variable on the y axis\n",
    "sns.regplot(x='age', y='cholesterol', data=df_clean)"
   ]
  },
  {
   "cell_type": "code",
   "execution_count": 444,
   "metadata": {
    "collapsed": false
   },
   "outputs": [
    {
     "data": {
      "text/plain": [
       "sex  diagnosis\n",
       "0.0  0            0.142391\n",
       "     1            0.028261\n",
       "     3            0.008696\n",
       "     2            0.007609\n",
       "     4            0.002174\n",
       "1.0  0            0.245652\n",
       "     1            0.194565\n",
       "     2            0.078261\n",
       "     3            0.076087\n",
       "     4            0.021739\n",
       "Name: diagnosis, dtype: float64"
      ]
     },
     "execution_count": 444,
     "metadata": {},
     "output_type": "execute_result"
    }
   ],
   "source": [
    "#how can we gain a better idea of how two categorical variables interact?\n",
    "df_clean.groupby('sex')['diagnosis'].value_counts()/len(df)"
   ]
  },
  {
   "cell_type": "code",
   "execution_count": 523,
   "metadata": {
    "collapsed": false
   },
   "outputs": [
    {
     "data": {
      "text/plain": [
       "<matplotlib.text.Text at 0x116cf7f28>"
      ]
     },
     "execution_count": 523,
     "metadata": {},
     "output_type": "execute_result"
    },
    {
     "data": {
      "image/png": "[encoded data removed]",
      "text/plain": [
       "<matplotlib.figure.Figure at 0x11520f128>"
      ]
     },
     "metadata": {},
     "output_type": "display_data"
    }
   ],
   "source": [
    "sns.boxplot(x='cholesterol', y = 'sex', data=df_clean)\n",
    "plt.suptitle('Cholesterol levels by gender')"
   ]
  },
  {
   "cell_type": "code",
   "execution_count": 440,
   "metadata": {
    "collapsed": false
   },
   "outputs": [
    {
     "data": {
      "text/html": [
       "<div>\n",
       "<table border=\"1\" class=\"dataframe\">\n",
       "  <thead>\n",
       "    <tr style=\"text-align: right;\">\n",
       "      <th></th>\n",
       "      <th></th>\n",
       "      <th>age</th>\n",
       "      <th>cholesterol</th>\n",
       "      <th>max_heart_rate</th>\n",
       "      <th>rest_bp</th>\n",
       "      <th>st_depression</th>\n",
       "    </tr>\n",
       "    <tr>\n",
       "      <th>diagnosis</th>\n",
       "      <th></th>\n",
       "      <th></th>\n",
       "      <th></th>\n",
       "      <th></th>\n",
       "      <th></th>\n",
       "      <th></th>\n",
       "    </tr>\n",
       "  </thead>\n",
       "  <tbody>\n",
       "    <tr>\n",
       "      <th rowspan=\"8\" valign=\"top\">0</th>\n",
       "      <th>count</th>\n",
       "      <td>357.000000</td>\n",
       "      <td>357.000000</td>\n",
       "      <td>357.000000</td>\n",
       "      <td>357.000000</td>\n",
       "      <td>357.000000</td>\n",
       "    </tr>\n",
       "    <tr>\n",
       "      <th>mean</th>\n",
       "      <td>50.302521</td>\n",
       "      <td>233.336134</td>\n",
       "      <td>149.291317</td>\n",
       "      <td>129.871148</td>\n",
       "      <td>0.425210</td>\n",
       "    </tr>\n",
       "    <tr>\n",
       "      <th>std</th>\n",
       "      <td>9.417789</td>\n",
       "      <td>66.596253</td>\n",
       "      <td>23.643876</td>\n",
       "      <td>16.566861</td>\n",
       "      <td>0.712199</td>\n",
       "    </tr>\n",
       "    <tr>\n",
       "      <th>min</th>\n",
       "      <td>28.000000</td>\n",
       "      <td>0.000000</td>\n",
       "      <td>69.000000</td>\n",
       "      <td>94.000000</td>\n",
       "      <td>-0.500000</td>\n",
       "    </tr>\n",
       "    <tr>\n",
       "      <th>25%</th>\n",
       "      <td>43.000000</td>\n",
       "      <td>202.000000</td>\n",
       "      <td>135.000000</td>\n",
       "      <td>120.000000</td>\n",
       "      <td>0.000000</td>\n",
       "    </tr>\n",
       "    <tr>\n",
       "      <th>50%</th>\n",
       "      <td>51.000000</td>\n",
       "      <td>230.000000</td>\n",
       "      <td>152.000000</td>\n",
       "      <td>130.000000</td>\n",
       "      <td>0.000000</td>\n",
       "    </tr>\n",
       "    <tr>\n",
       "      <th>75%</th>\n",
       "      <td>57.000000</td>\n",
       "      <td>269.000000</td>\n",
       "      <td>168.000000</td>\n",
       "      <td>140.000000</td>\n",
       "      <td>0.800000</td>\n",
       "    </tr>\n",
       "    <tr>\n",
       "      <th>max</th>\n",
       "      <td>76.000000</td>\n",
       "      <td>564.000000</td>\n",
       "      <td>202.000000</td>\n",
       "      <td>190.000000</td>\n",
       "      <td>4.200000</td>\n",
       "    </tr>\n",
       "    <tr>\n",
       "      <th rowspan=\"8\" valign=\"top\">1</th>\n",
       "      <th>count</th>\n",
       "      <td>205.000000</td>\n",
       "      <td>205.000000</td>\n",
       "      <td>205.000000</td>\n",
       "      <td>205.000000</td>\n",
       "      <td>205.000000</td>\n",
       "    </tr>\n",
       "    <tr>\n",
       "      <th>mean</th>\n",
       "      <td>52.946341</td>\n",
       "      <td>229.443902</td>\n",
       "      <td>131.541463</td>\n",
       "      <td>134.502439</td>\n",
       "      <td>1.088293</td>\n",
       "    </tr>\n",
       "    <tr>\n",
       "      <th>std</th>\n",
       "      <td>8.577333</td>\n",
       "      <td>101.127628</td>\n",
       "      <td>23.681806</td>\n",
       "      <td>19.045514</td>\n",
       "      <td>1.021369</td>\n",
       "    </tr>\n",
       "    <tr>\n",
       "      <th>min</th>\n",
       "      <td>31.000000</td>\n",
       "      <td>0.000000</td>\n",
       "      <td>82.000000</td>\n",
       "      <td>92.000000</td>\n",
       "      <td>0.000000</td>\n",
       "    </tr>\n",
       "    <tr>\n",
       "      <th>25%</th>\n",
       "      <td>47.000000</td>\n",
       "      <td>203.000000</td>\n",
       "      <td>115.000000</td>\n",
       "      <td>120.000000</td>\n",
       "      <td>0.000000</td>\n",
       "    </tr>\n",
       "    <tr>\n",
       "      <th>50%</th>\n",
       "      <td>54.000000</td>\n",
       "      <td>243.000000</td>\n",
       "      <td>130.000000</td>\n",
       "      <td>130.000000</td>\n",
       "      <td>1.000000</td>\n",
       "    </tr>\n",
       "    <tr>\n",
       "      <th>75%</th>\n",
       "      <td>59.000000</td>\n",
       "      <td>279.000000</td>\n",
       "      <td>150.000000</td>\n",
       "      <td>145.000000</td>\n",
       "      <td>2.000000</td>\n",
       "    </tr>\n",
       "    <tr>\n",
       "      <th>max</th>\n",
       "      <td>75.000000</td>\n",
       "      <td>603.000000</td>\n",
       "      <td>195.000000</td>\n",
       "      <td>200.000000</td>\n",
       "      <td>5.000000</td>\n",
       "    </tr>\n",
       "    <tr>\n",
       "      <th rowspan=\"8\" valign=\"top\">2</th>\n",
       "      <th>count</th>\n",
       "      <td>79.000000</td>\n",
       "      <td>79.000000</td>\n",
       "      <td>79.000000</td>\n",
       "      <td>79.000000</td>\n",
       "      <td>79.000000</td>\n",
       "    </tr>\n",
       "    <tr>\n",
       "      <th>mean</th>\n",
       "      <td>58.430380</td>\n",
       "      <td>182.607595</td>\n",
       "      <td>127.797468</td>\n",
       "      <td>135.392405</td>\n",
       "      <td>1.394937</td>\n",
       "    </tr>\n",
       "    <tr>\n",
       "      <th>std</th>\n",
       "      <td>7.041422</td>\n",
       "      <td>122.971168</td>\n",
       "      <td>22.807095</td>\n",
       "      <td>15.723099</td>\n",
       "      <td>1.204787</td>\n",
       "    </tr>\n",
       "    <tr>\n",
       "      <th>min</th>\n",
       "      <td>42.000000</td>\n",
       "      <td>0.000000</td>\n",
       "      <td>60.000000</td>\n",
       "      <td>100.000000</td>\n",
       "      <td>-1.000000</td>\n",
       "    </tr>\n",
       "    <tr>\n",
       "      <th>25%</th>\n",
       "      <td>55.000000</td>\n",
       "      <td>0.000000</td>\n",
       "      <td>112.500000</td>\n",
       "      <td>124.000000</td>\n",
       "      <td>0.000000</td>\n",
       "    </tr>\n",
       "    <tr>\n",
       "      <th>50%</th>\n",
       "      <td>59.000000</td>\n",
       "      <td>219.000000</td>\n",
       "      <td>130.000000</td>\n",
       "      <td>134.000000</td>\n",
       "      <td>1.400000</td>\n",
       "    </tr>\n",
       "    <tr>\n",
       "      <th>75%</th>\n",
       "      <td>63.000000</td>\n",
       "      <td>261.500000</td>\n",
       "      <td>144.000000</td>\n",
       "      <td>144.500000</td>\n",
       "      <td>2.100000</td>\n",
       "    </tr>\n",
       "    <tr>\n",
       "      <th>max</th>\n",
       "      <td>74.000000</td>\n",
       "      <td>409.000000</td>\n",
       "      <td>180.000000</td>\n",
       "      <td>180.000000</td>\n",
       "      <td>4.000000</td>\n",
       "    </tr>\n",
       "    <tr>\n",
       "      <th rowspan=\"8\" valign=\"top\">3</th>\n",
       "      <th>count</th>\n",
       "      <td>78.000000</td>\n",
       "      <td>78.000000</td>\n",
       "      <td>78.000000</td>\n",
       "      <td>78.000000</td>\n",
       "      <td>78.000000</td>\n",
       "    </tr>\n",
       "    <tr>\n",
       "      <th>mean</th>\n",
       "      <td>59.179487</td>\n",
       "      <td>178.205128</td>\n",
       "      <td>122.769231</td>\n",
       "      <td>136.102564</td>\n",
       "      <td>1.598718</td>\n",
       "    </tr>\n",
       "    <tr>\n",
       "      <th>std</th>\n",
       "      <td>7.870285</td>\n",
       "      <td>116.047165</td>\n",
       "      <td>24.381664</td>\n",
       "      <td>24.938673</td>\n",
       "      <td>1.352006</td>\n",
       "    </tr>\n",
       "    <tr>\n",
       "      <th>min</th>\n",
       "      <td>39.000000</td>\n",
       "      <td>0.000000</td>\n",
       "      <td>63.000000</td>\n",
       "      <td>0.000000</td>\n",
       "      <td>0.000000</td>\n",
       "    </tr>\n",
       "    <tr>\n",
       "      <th>25%</th>\n",
       "      <td>54.000000</td>\n",
       "      <td>0.000000</td>\n",
       "      <td>105.750000</td>\n",
       "      <td>122.250000</td>\n",
       "      <td>0.500000</td>\n",
       "    </tr>\n",
       "    <tr>\n",
       "      <th>50%</th>\n",
       "      <td>60.000000</td>\n",
       "      <td>219.500000</td>\n",
       "      <td>120.000000</td>\n",
       "      <td>135.000000</td>\n",
       "      <td>1.500000</td>\n",
       "    </tr>\n",
       "    <tr>\n",
       "      <th>75%</th>\n",
       "      <td>64.000000</td>\n",
       "      <td>267.750000</td>\n",
       "      <td>140.000000</td>\n",
       "      <td>150.000000</td>\n",
       "      <td>2.150000</td>\n",
       "    </tr>\n",
       "    <tr>\n",
       "      <th>max</th>\n",
       "      <td>77.000000</td>\n",
       "      <td>353.000000</td>\n",
       "      <td>173.000000</td>\n",
       "      <td>200.000000</td>\n",
       "      <td>6.200000</td>\n",
       "    </tr>\n",
       "    <tr>\n",
       "      <th rowspan=\"8\" valign=\"top\">4</th>\n",
       "      <th>count</th>\n",
       "      <td>22.000000</td>\n",
       "      <td>22.000000</td>\n",
       "      <td>22.000000</td>\n",
       "      <td>22.000000</td>\n",
       "      <td>22.000000</td>\n",
       "    </tr>\n",
       "    <tr>\n",
       "      <th>mean</th>\n",
       "      <td>59.227273</td>\n",
       "      <td>206.045455</td>\n",
       "      <td>130.545455</td>\n",
       "      <td>142.227273</td>\n",
       "      <td>2.363636</td>\n",
       "    </tr>\n",
       "    <tr>\n",
       "      <th>std</th>\n",
       "      <td>8.286143</td>\n",
       "      <td>112.888684</td>\n",
       "      <td>24.595252</td>\n",
       "      <td>21.080191</td>\n",
       "      <td>1.283798</td>\n",
       "    </tr>\n",
       "    <tr>\n",
       "      <th>min</th>\n",
       "      <td>38.000000</td>\n",
       "      <td>0.000000</td>\n",
       "      <td>84.000000</td>\n",
       "      <td>112.000000</td>\n",
       "      <td>0.000000</td>\n",
       "    </tr>\n",
       "    <tr>\n",
       "      <th>25%</th>\n",
       "      <td>56.250000</td>\n",
       "      <td>174.750000</td>\n",
       "      <td>116.250000</td>\n",
       "      <td>126.250000</td>\n",
       "      <td>1.250000</td>\n",
       "    </tr>\n",
       "    <tr>\n",
       "      <th>50%</th>\n",
       "      <td>60.500000</td>\n",
       "      <td>230.500000</td>\n",
       "      <td>130.000000</td>\n",
       "      <td>141.500000</td>\n",
       "      <td>2.500000</td>\n",
       "    </tr>\n",
       "    <tr>\n",
       "      <th>75%</th>\n",
       "      <td>63.750000</td>\n",
       "      <td>283.500000</td>\n",
       "      <td>145.000000</td>\n",
       "      <td>157.500000</td>\n",
       "      <td>3.450000</td>\n",
       "    </tr>\n",
       "    <tr>\n",
       "      <th>max</th>\n",
       "      <td>77.000000</td>\n",
       "      <td>407.000000</td>\n",
       "      <td>182.000000</td>\n",
       "      <td>190.000000</td>\n",
       "      <td>4.400000</td>\n",
       "    </tr>\n",
       "  </tbody>\n",
       "</table>\n",
       "</div>"
      ],
      "text/plain": [
       "                        age  cholesterol  max_heart_rate     rest_bp  \\\n",
       "diagnosis                                                              \n",
       "0         count  357.000000   357.000000      357.000000  357.000000   \n",
       "          mean    50.302521   233.336134      149.291317  129.871148   \n",
       "          std      9.417789    66.596253       23.643876   16.566861   \n",
       "          min     28.000000     0.000000       69.000000   94.000000   \n",
       "          25%     43.000000   202.000000      135.000000  120.000000   \n",
       "          50%     51.000000   230.000000      152.000000  130.000000   \n",
       "          75%     57.000000   269.000000      168.000000  140.000000   \n",
       "          max     76.000000   564.000000      202.000000  190.000000   \n",
       "1         count  205.000000   205.000000      205.000000  205.000000   \n",
       "          mean    52.946341   229.443902      131.541463  134.502439   \n",
       "          std      8.577333   101.127628       23.681806   19.045514   \n",
       "          min     31.000000     0.000000       82.000000   92.000000   \n",
       "          25%     47.000000   203.000000      115.000000  120.000000   \n",
       "          50%     54.000000   243.000000      130.000000  130.000000   \n",
       "          75%     59.000000   279.000000      150.000000  145.000000   \n",
       "          max     75.000000   603.000000      195.000000  200.000000   \n",
       "2         count   79.000000    79.000000       79.000000   79.000000   \n",
       "          mean    58.430380   182.607595      127.797468  135.392405   \n",
       "          std      7.041422   122.971168       22.807095   15.723099   \n",
       "          min     42.000000     0.000000       60.000000  100.000000   \n",
       "          25%     55.000000     0.000000      112.500000  124.000000   \n",
       "          50%     59.000000   219.000000      130.000000  134.000000   \n",
       "          75%     63.000000   261.500000      144.000000  144.500000   \n",
       "          max     74.000000   409.000000      180.000000  180.000000   \n",
       "3         count   78.000000    78.000000       78.000000   78.000000   \n",
       "          mean    59.179487   178.205128      122.769231  136.102564   \n",
       "          std      7.870285   116.047165       24.381664   24.938673   \n",
       "          min     39.000000     0.000000       63.000000    0.000000   \n",
       "          25%     54.000000     0.000000      105.750000  122.250000   \n",
       "          50%     60.000000   219.500000      120.000000  135.000000   \n",
       "          75%     64.000000   267.750000      140.000000  150.000000   \n",
       "          max     77.000000   353.000000      173.000000  200.000000   \n",
       "4         count   22.000000    22.000000       22.000000   22.000000   \n",
       "          mean    59.227273   206.045455      130.545455  142.227273   \n",
       "          std      8.286143   112.888684       24.595252   21.080191   \n",
       "          min     38.000000     0.000000       84.000000  112.000000   \n",
       "          25%     56.250000   174.750000      116.250000  126.250000   \n",
       "          50%     60.500000   230.500000      130.000000  141.500000   \n",
       "          75%     63.750000   283.500000      145.000000  157.500000   \n",
       "          max     77.000000   407.000000      182.000000  190.000000   \n",
       "\n",
       "                 st_depression  \n",
       "diagnosis                       \n",
       "0         count     357.000000  \n",
       "          mean        0.425210  \n",
       "          std         0.712199  \n",
       "          min        -0.500000  \n",
       "          25%         0.000000  \n",
       "          50%         0.000000  \n",
       "          75%         0.800000  \n",
       "          max         4.200000  \n",
       "1         count     205.000000  \n",
       "          mean        1.088293  \n",
       "          std         1.021369  \n",
       "          min         0.000000  \n",
       "          25%         0.000000  \n",
       "          50%         1.000000  \n",
       "          75%         2.000000  \n",
       "          max         5.000000  \n",
       "2         count      79.000000  \n",
       "          mean        1.394937  \n",
       "          std         1.204787  \n",
       "          min        -1.000000  \n",
       "          25%         0.000000  \n",
       "          50%         1.400000  \n",
       "          75%         2.100000  \n",
       "          max         4.000000  \n",
       "3         count      78.000000  \n",
       "          mean        1.598718  \n",
       "          std         1.352006  \n",
       "          min         0.000000  \n",
       "          25%         0.500000  \n",
       "          50%         1.500000  \n",
       "          75%         2.150000  \n",
       "          max         6.200000  \n",
       "4         count      22.000000  \n",
       "          mean        2.363636  \n",
       "          std         1.283798  \n",
       "          min         0.000000  \n",
       "          25%         1.250000  \n",
       "          50%         2.500000  \n",
       "          75%         3.450000  \n",
       "          max         4.400000  "
      ]
     },
     "execution_count": 440,
     "metadata": {},
     "output_type": "execute_result"
    }
   ],
   "source": [
    "#describing the dataset/the variables of the dataset, after we group the values in the dataset\n",
    "#by age category\n",
    "df_clean.groupby('diagnosis').describe()"
   ]
  },
  {
   "cell_type": "code",
   "execution_count": 279,
   "metadata": {
    "collapsed": true
   },
   "outputs": [],
   "source": [
    "#before starting to manipulate the dataset itself, we make a copy, and will work on the copy\n",
    "#rather than the original reduced dataset\n",
    "df_clean_copy = df_clean.copy()"
   ]
  },
  {
   "cell_type": "code",
   "execution_count": 525,
   "metadata": {
    "collapsed": true
   },
   "outputs": [],
   "source": [
    "#Now we can move to inferential statistics\n",
    "\n",
    "#Hypothesis testing:\n",
    "#1. define null hypothesis and alternate hypothesis\n",
    "#2. choose sample\n",
    "#3. analyze evidence\n",
    "#4. interpret results\n",
    "\n",
    "#Typical H0: there is no relationship between the explanatory and response variables\n",
    "#Typical H1: there is a statistically significant relationship\n",
    "\n",
    "#Bivariate statistical tools:\n",
    "#ANOVA; chi-square; correlation coefficient\n",
    "\n",
    "#a result is statistically significant if it is unlikely to be the result of chance\n",
    "\n",
    "#p value is also the type 1 error rate: the number of times we would be wrong in rejecting the null hypothesis \n",
    "#when it is true\n",
    "#p=0.03: if we reject the null hypothesis, we would be correct 97/100 times.\n",
    "#Type 1 vs Type 2 errors\n",
    "\n",
    "#F = variation among sample means/variation within sample groups\n",
    "#ANOVA F Test: are the differences among the sample means due to true differences among the\n",
    "#population means, or merely due to sampling variability\n",
    "#p value of ANOVA: probability of getting an F value as large or larger if H0 is true\n",
    "#probability of finding this value if there is no difference between sample means\n",
    "\n",
    "#before performing these analyses, one needs to use the .dropna() function to include only\n",
    "#valid data"
   ]
  },
  {
   "cell_type": "code",
   "execution_count": 374,
   "metadata": {
    "collapsed": true
   },
   "outputs": [],
   "source": [
    "#we will test the null hypothesis that age and diagnosis are not related.\n",
    "#the type of variables we have (explanatory/response and categorical/quantitative for each) determines the type of \n",
    "#statistical tools we will use\n",
    "#Explanatory categorical and response quantitative: ANOVA\n",
    "#Explanatory categorical and response categorical: Chi Square test\n",
    "#Explanatory quantitative and response categorical: classify/bin explanatory variable and use chi square test\n",
    "#Explanatory quantitative and response quantitative: pearson correlation"
   ]
  },
  {
   "cell_type": "code",
   "execution_count": 207,
   "metadata": {
    "collapsed": false
   },
   "outputs": [
    {
     "name": "stdout",
     "output_type": "stream",
     "text": [
      "                            OLS Regression Results                            \n",
      "==============================================================================\n",
      "Dep. Variable:                    age   R-squared:                       0.134\n",
      "Model:                            OLS   Adj. R-squared:                  0.129\n",
      "Method:                 Least Squares   F-statistic:                     28.42\n",
      "Date:                Fri, 23 Jun 2017   Prob (F-statistic):           5.56e-22\n",
      "Time:                        18:09:46   Log-Likelihood:                -2658.2\n",
      "No. Observations:                 741   AIC:                             5326.\n",
      "Df Residuals:                     736   BIC:                             5350.\n",
      "Df Model:                           4                                         \n",
      "Covariance Type:            nonrobust                                         \n",
      "=====================================================================================\n",
      "                        coef    std err          t      P>|t|      [95.0% Conf. Int.]\n",
      "-------------------------------------------------------------------------------------\n",
      "Intercept            50.3025      0.464    108.322      0.000        49.391    51.214\n",
      "C(diagnosis)[T.1]     2.6438      0.769      3.438      0.001         1.134     4.153\n",
      "C(diagnosis)[T.2]     8.1279      1.091      7.450      0.000         5.986    10.270\n",
      "C(diagnosis)[T.3]     8.8770      1.097      8.095      0.000         6.724    11.030\n",
      "C(diagnosis)[T.4]     8.9248      1.927      4.630      0.000         5.141    12.709\n",
      "==============================================================================\n",
      "Omnibus:                        2.010   Durbin-Watson:                   1.203\n",
      "Prob(Omnibus):                  0.366   Jarque-Bera (JB):                1.920\n",
      "Skew:                          -0.060   Prob(JB):                        0.383\n",
      "Kurtosis:                       2.782   Cond. No.                         6.38\n",
      "==============================================================================\n",
      "\n",
      "Warnings:\n",
      "[1] Standard Errors assume that the covariance matrix of the errors is correctly specified.\n"
     ]
    }
   ],
   "source": [
    "#Going the wrong way?\n",
    "test1 = smf.ols(formula = 'age ~ C(diagnosis)', data = df_clean_copy).fit()\n",
    "print(test1.summary())"
   ]
  },
  {
   "cell_type": "code",
   "execution_count": 544,
   "metadata": {
    "collapsed": true
   },
   "outputs": [],
   "source": [
    "#Whenever the explanatory variable has more than 2 levels, we need to also perform post hoc statistical tests to \n",
    "#better understand the relationship between the explanatory variable and the response variable\n",
    "#we know the groups tested are different overall, but not exactly where/how they are different\n",
    "#for explanatory variables with multiples levels, F test and p value do not tell us why the\n",
    "#group means are not equal, or how. there are many ways in which this can be the case.\n",
    "#How are they associated per level of the explanatory variable?\n",
    "#post hoc tests aim to protect against type 1 error when explanatory variable is multilevel"
   ]
  },
  {
   "cell_type": "code",
   "execution_count": 209,
   "metadata": {
    "collapsed": false
   },
   "outputs": [
    {
     "name": "stdout",
     "output_type": "stream",
     "text": [
      "diagnosis\n",
      "0    50.302521\n",
      "1    52.946341\n",
      "2    58.430380\n",
      "3    59.179487\n",
      "4    59.227273\n",
      "Name: age, dtype: float64\n"
     ]
    }
   ],
   "source": [
    "#now we examine the means and standard deviations\n",
    "grouped1_mean = df_clean_copy.groupby('diagnosis').mean()['age']\n",
    "print(grouped1_mean)"
   ]
  },
  {
   "cell_type": "code",
   "execution_count": 210,
   "metadata": {
    "collapsed": false
   },
   "outputs": [
    {
     "name": "stdout",
     "output_type": "stream",
     "text": [
      "diagnosis\n",
      "0    9.417789\n",
      "1    8.577333\n",
      "2    7.041422\n",
      "3    7.870285\n",
      "4    8.286143\n",
      "Name: age, dtype: float64\n"
     ]
    }
   ],
   "source": [
    "grouped1_std = df_clean_copy.groupby('diagnosis').std()['age']\n",
    "print(grouped1_std)"
   ]
  },
  {
   "cell_type": "code",
   "execution_count": 211,
   "metadata": {
    "collapsed": false
   },
   "outputs": [
    {
     "name": "stdout",
     "output_type": "stream",
     "text": [
      "Multiple Comparison of Means - Tukey HSD,FWER=0.05\n",
      "=============================================\n",
      "group1 group2 meandiff  lower   upper  reject\n",
      "---------------------------------------------\n",
      "  0      1     2.6438   0.5412  4.7464  True \n",
      "  0      2     8.1279   5.1446 11.1111  True \n",
      "  0      3     8.877    5.8781 11.8758  True \n",
      "  0      4     8.9248   3.654  14.1955  True \n",
      "  1      2     5.484    2.3067  8.6614  True \n",
      "  1      3     6.2331   3.0411  9.4252  True \n",
      "  1      4     6.2809   0.898  11.6639  True \n",
      "  2      3     0.7491  -3.0808  4.579  False \n",
      "  2      4     0.7969  -4.9872  6.5809 False \n",
      "  3      4     0.0478  -5.7443  5.8399 False \n",
      "---------------------------------------------\n"
     ]
    }
   ],
   "source": [
    "#given that we have an explanatory categorical variable with multiple levels, we use the \n",
    "#tuckey hsd test\n",
    "#other tests:\n",
    "#Holm T\n",
    "#Least Significant Difference\n",
    "\n",
    "tuckey1 = multi.MultiComparison(df_clean_copy['age'], df_clean_copy['diagnosis'])\n",
    "res1 = tuckey1.tukeyhsd()\n",
    "print(res1.summary())"
   ]
  },
  {
   "cell_type": "code",
   "execution_count": 220,
   "metadata": {
    "collapsed": true
   },
   "outputs": [],
   "source": [
    "#We will now test another hypothesis:\n",
    "#Hypothesis(0)(a): the presence of chest pain and the diagnosis (0 or 1) are independent\n",
    "#Alternative Hypothesis 1: presence of chest pain and diagnosis are not independent"
   ]
  },
  {
   "cell_type": "code",
   "execution_count": 448,
   "metadata": {
    "collapsed": true
   },
   "outputs": [],
   "source": [
    "#Feature engineering\n",
    "#Paradox: you can get better results with great feature engineering and a poor model than with poor feature engineering\n",
    "#but a great model\n",
    "#\"A feature is an attribute that is useful to your problem\" Dr. Jason Brownlee\n",
    "#\"The algorithms we used are very standard for Kagglers...We spent most of our efforts in feature engineering.\"\n",
    "#Xavier Conort, #1 Kaggler in 2013\n",
    "#Aims to convert data attributes into data features\n",
    "#Aims to optimize data modelling\n",
    "#Requires understanding of the dataset and research problem, and understanding of model you plan on using\n",
    "#can be domain driven, or data driven\n",
    "#i.e. for SVM with linear kernel you need to manually construct nonlinear interactions between\n",
    "#features and feed them as input to your SVM model. An SVM with polynomial kernel will naturally\n",
    "#capture them.\n",
    "#other example: SVMs are very sensitive to dimensions of features, while DT/RFs are not\n",
    "#With tabular data you combine, aggregate, split and/or decompose features in order to create new ones\n",
    "#Given an output y and a feature x, you can try the following transforms first:\n",
    "#e^x, log(x), x^2, x^3\n",
    "#an indicator of the usefulness of the transformation is if the correlation between y and x'\n",
    "#is higher than the correlation between y and x\n",
    "#best way to validate this is to check your model error with or without the transformed feature\n",
    "#http://machinelearningmastery.com/discover-feature-engineering-how-to-engineer-features-and-how-to-get-good-at-it/\n",
    "#http://trevorstephens.com/kaggle-titanic-tutorial/r-part-4-feature-engineering/\n",
    "\n",
    "diagnosis_dic = {0:0, 1:1, 2:1, 3:1, 4:1}\n",
    "df_clean_copy['diagnosis_binary'] = df_clean_copy['diagnosis'].map(diagnosis_dic)"
   ]
  },
  {
   "cell_type": "code",
   "execution_count": 474,
   "metadata": {
    "collapsed": false
   },
   "outputs": [
    {
     "data": {
      "text/plain": [
       "1    384\n",
       "0    357\n",
       "Name: diagnosis_binary, dtype: int64"
      ]
     },
     "execution_count": 474,
     "metadata": {},
     "output_type": "execute_result"
    }
   ],
   "source": [
    "df_clean_copy['diagnosis_binary'].value_counts()"
   ]
  },
  {
   "cell_type": "code",
   "execution_count": 222,
   "metadata": {
    "collapsed": false
   },
   "outputs": [
    {
     "name": "stdout",
     "output_type": "stream",
     "text": [
      "chest_pain        1.0  2.0  3.0  4.0\n",
      "diagnosis_binary                    \n",
      "0                  23  128  112   94\n",
      "1                  15   22   49  298\n"
     ]
    }
   ],
   "source": [
    "#contingency table of observed counts\n",
    "#the crosstab function allows us to cross one variable with another\n",
    "#when creating contingency tables, we put the response variable first (therefore vertical in table), \n",
    "#and the explanatory variable second, therefore horizontal at the top of the table.\n",
    "ct1 = pd.crosstab(df_clean_copy['diagnosis_binary'], df_clean_copy['chest_pain'])\n",
    "print(ct1)"
   ]
  },
  {
   "cell_type": "code",
   "execution_count": 223,
   "metadata": {
    "collapsed": false,
    "scrolled": true
   },
   "outputs": [
    {
     "name": "stdout",
     "output_type": "stream",
     "text": [
      "chest_pain             1.0       2.0       3.0       4.0\n",
      "diagnosis_binary                                        \n",
      "0                 0.605263  0.853333  0.695652  0.239796\n",
      "1                 0.394737  0.146667  0.304348  0.760204\n"
     ]
    }
   ],
   "source": [
    "#column percentages\n",
    "colsum = ct1.sum(axis=0)\n",
    "colpct = ct1/colsum\n",
    "print(colpct)"
   ]
  },
  {
   "cell_type": "code",
   "execution_count": 224,
   "metadata": {
    "collapsed": false
   },
   "outputs": [
    {
     "name": "stdout",
     "output_type": "stream",
     "text": [
      "chi-square value, p value, expected counts\n",
      "(206.69693667917477, 1.5066891002705367e-44, 3, array([[  18.30769231,   72.26720648,   77.56680162,  188.8582996 ],\n",
      "       [  19.69230769,   77.73279352,   83.43319838,  203.1417004 ]]))\n"
     ]
    }
   ],
   "source": [
    "#chi square test\n",
    "#Expected counts: p assuming events are independent. p(1) * p(2) | column total*row total/table total\n",
    "#Chi square statistic summarizes this. difference between our obersavtion and what we would expect if H0 is true\n",
    "#We rely on the p value, as different distributions define whether the chi square itself is large or not\n",
    "\n",
    "print('chi-square value, p value, expected counts')\n",
    "cs1 = scipy.stats.chi2_contingency(ct1)\n",
    "print(cs1)"
   ]
  },
  {
   "cell_type": "code",
   "execution_count": 526,
   "metadata": {
    "collapsed": true
   },
   "outputs": [],
   "source": [
    "#Explanatory variable with multiple levels!\n",
    "#we would have to do a pairwise comparison between every two groups of the explanatory\n",
    "#variable, vs the response variable\n",
    "#This would be a Bonferroni adjustment - we adjust p value we use by number of pairwise comparisons, and test these."
   ]
  },
  {
   "cell_type": "code",
   "execution_count": 225,
   "metadata": {
    "collapsed": false
   },
   "outputs": [
    {
     "data": {
      "text/plain": [
       "Index(['age', 'sex', 'chest_pain', 'rest_bp', 'cholesterol', 'fasting_bs',\n",
       "       'rest_ecg', 'max_heart_rate', 'exercise_angina', 'st_depression',\n",
       "       'diagnosis', 'diagnosis_binary'],\n",
       "      dtype='object')"
      ]
     },
     "execution_count": 225,
     "metadata": {},
     "output_type": "execute_result"
    }
   ],
   "source": [
    "df_clean_copy.columns"
   ]
  },
  {
   "cell_type": "code",
   "execution_count": 226,
   "metadata": {
    "collapsed": false
   },
   "outputs": [
    {
     "name": "stdout",
     "output_type": "stream",
     "text": [
      "sex               0.0  1.0\n",
      "diagnosis_binary          \n",
      "0                 131  226\n",
      "1                  43  341\n"
     ]
    }
   ],
   "source": [
    "ct2 = pd.crosstab(df_clean_copy['diagnosis_binary'], df_clean_copy['sex'])\n",
    "print(ct2)"
   ]
  },
  {
   "cell_type": "code",
   "execution_count": 227,
   "metadata": {
    "collapsed": false
   },
   "outputs": [
    {
     "name": "stdout",
     "output_type": "stream",
     "text": [
      "sex                    0.0       1.0\n",
      "diagnosis_binary                    \n",
      "0                 0.752874  0.398589\n",
      "1                 0.247126  0.601411\n"
     ]
    }
   ],
   "source": [
    "#column percentages\n",
    "colsum2 = ct2.sum(axis=0)\n",
    "colpct2 = ct2/colsum2\n",
    "print(colpct2)"
   ]
  },
  {
   "cell_type": "code",
   "execution_count": 228,
   "metadata": {
    "collapsed": false
   },
   "outputs": [
    {
     "name": "stdout",
     "output_type": "stream",
     "text": [
      "chi-square value, p value, expected counts\n",
      "(65.523823461676344, 5.741569147761909e-16, 1, array([[  83.82995951,  273.17004049],\n",
      "       [  90.17004049,  293.82995951]]))\n"
     ]
    }
   ],
   "source": [
    "#chi square test\n",
    "print('chi-square value, p value, expected counts')\n",
    "cs2 = scipy.stats.chi2_contingency(ct2)\n",
    "print(cs2)"
   ]
  },
  {
   "cell_type": "code",
   "execution_count": 510,
   "metadata": {
    "collapsed": true
   },
   "outputs": [],
   "source": [
    "#Moderators\n",
    "#a moderator is a third variable that affects the direction and/or strength between your explanatory and response variables\n",
    "#the question is, is our response variable associated with our explanatory variable, for each level of our third variable?"
   ]
  },
  {
   "cell_type": "code",
   "execution_count": 240,
   "metadata": {
    "collapsed": false
   },
   "outputs": [
    {
     "data": {
      "text/plain": [
       "174"
      ]
     },
     "execution_count": 240,
     "metadata": {},
     "output_type": "execute_result"
    }
   ],
   "source": [
    "#let's see if sex is a moderator in the statistically significant relationship between chest pain and diagnosis\n",
    "df_clean_copy_men = df_clean_copy[df_clean_copy['sex'] == 0]\n",
    "len(df_clean_copy_men)"
   ]
  },
  {
   "cell_type": "code",
   "execution_count": 241,
   "metadata": {
    "collapsed": false
   },
   "outputs": [
    {
     "data": {
      "text/plain": [
       "567"
      ]
     },
     "execution_count": 241,
     "metadata": {},
     "output_type": "execute_result"
    }
   ],
   "source": [
    "df_clean_copy_women = df_clean_copy[df_clean_copy['sex'] == 1]\n",
    "len(df_clean_copy_women)"
   ]
  },
  {
   "cell_type": "code",
   "execution_count": 242,
   "metadata": {
    "collapsed": false
   },
   "outputs": [
    {
     "name": "stdout",
     "output_type": "stream",
     "text": [
      "chest_pain        1.0  2.0  3.0  4.0\n",
      "diagnosis_binary                    \n",
      "0                   9   47   44   31\n",
      "1                   0    4    6   33\n"
     ]
    }
   ],
   "source": [
    "#contingency table of observed counts\n",
    "#when creating contingency tables, we put the response variable first (therefore vertical in table), \n",
    "#and the explanatory variable second, therefore horizontal at the top of the table.\n",
    "ct3 = pd.crosstab(df_clean_copy_men['diagnosis_binary'], df_clean_copy_men['chest_pain'])\n",
    "print(ct3)"
   ]
  },
  {
   "cell_type": "code",
   "execution_count": 243,
   "metadata": {
    "collapsed": false
   },
   "outputs": [
    {
     "name": "stdout",
     "output_type": "stream",
     "text": [
      "chest_pain        1.0       2.0   3.0       4.0\n",
      "diagnosis_binary                               \n",
      "0                 1.0  0.921569  0.88  0.484375\n",
      "1                 0.0  0.078431  0.12  0.515625\n"
     ]
    }
   ],
   "source": [
    "#column percentages\n",
    "colsum = ct3.sum(axis=0)\n",
    "colpct = ct3/colsum\n",
    "print(colpct)"
   ]
  },
  {
   "cell_type": "code",
   "execution_count": 244,
   "metadata": {
    "collapsed": false
   },
   "outputs": [
    {
     "name": "stdout",
     "output_type": "stream",
     "text": [
      "chi-square value, p value, expected counts\n",
      "(39.896349270579876, 1.1207983387044401e-08, 3, array([[  6.77586207,  38.39655172,  37.64367816,  48.18390805],\n",
      "       [  2.22413793,  12.60344828,  12.35632184,  15.81609195]]))\n"
     ]
    }
   ],
   "source": [
    "#chi square test\n",
    "print('chi-square value, p value, expected counts')\n",
    "cs3 = scipy.stats.chi2_contingency(ct3)\n",
    "print(cs3)"
   ]
  },
  {
   "cell_type": "code",
   "execution_count": 246,
   "metadata": {
    "collapsed": false
   },
   "outputs": [
    {
     "name": "stdout",
     "output_type": "stream",
     "text": [
      "chest_pain        1.0  2.0  3.0  4.0\n",
      "diagnosis_binary                    \n",
      "0                  14   81   68   63\n",
      "1                  15   18   43  265\n"
     ]
    }
   ],
   "source": [
    "#contingency table of observed counts\n",
    "#when creating contingency tables, we put the response variable first (therefore vertical in table), \n",
    "#and the explanatory variable second, therefore horizontal at the top of the table.\n",
    "ct4 = pd.crosstab(df_clean_copy_women['diagnosis_binary'], df_clean_copy_women['chest_pain'])\n",
    "print(ct4)"
   ]
  },
  {
   "cell_type": "code",
   "execution_count": 247,
   "metadata": {
    "collapsed": false
   },
   "outputs": [
    {
     "name": "stdout",
     "output_type": "stream",
     "text": [
      "chest_pain             1.0       2.0       3.0       4.0\n",
      "diagnosis_binary                                        \n",
      "0                 0.482759  0.818182  0.612613  0.192073\n",
      "1                 0.517241  0.181818  0.387387  0.807927\n"
     ]
    }
   ],
   "source": [
    "#column percentages\n",
    "colsum = ct4.sum(axis=0)\n",
    "colpct = ct4/colsum\n",
    "print(colpct)"
   ]
  },
  {
   "cell_type": "code",
   "execution_count": 248,
   "metadata": {
    "collapsed": false
   },
   "outputs": [
    {
     "name": "stdout",
     "output_type": "stream",
     "text": [
      "chi-square value, p value, expected counts\n",
      "(153.13334878752136, 5.556477341199484e-33, 3, array([[  11.55908289,   39.46031746,   44.24338624,  130.7372134 ],\n",
      "       [  17.44091711,   59.53968254,   66.75661376,  197.2627866 ]]))\n"
     ]
    }
   ],
   "source": [
    "#chi square test\n",
    "print('chi-square value, p value, expected counts')\n",
    "cs4 = scipy.stats.chi2_contingency(ct4)\n",
    "print(cs4)"
   ]
  },
  {
   "cell_type": "code",
   "execution_count": 535,
   "metadata": {
    "collapsed": false
   },
   "outputs": [
    {
     "data": {
      "text/plain": [
       "chest_pain  diagnosis\n",
       "1.0         0             14\n",
       "            1              9\n",
       "            2              3\n",
       "            3              2\n",
       "            4              1\n",
       "2.0         0             81\n",
       "            1             14\n",
       "            2              2\n",
       "            3              2\n",
       "3.0         0             68\n",
       "            1             22\n",
       "            3             11\n",
       "            2              8\n",
       "            4              2\n",
       "4.0         1            134\n",
       "            0             63\n",
       "            2             59\n",
       "            3             55\n",
       "            4             17\n",
       "Name: diagnosis, dtype: int64"
      ]
     },
     "execution_count": 535,
     "metadata": {},
     "output_type": "execute_result"
    }
   ],
   "source": [
    "df_clean_copy_women.groupby('chest_pain')['diagnosis'].value_counts()"
   ]
  },
  {
   "cell_type": "code",
   "execution_count": 251,
   "metadata": {
    "collapsed": true
   },
   "outputs": [],
   "source": [
    "#the relationship between chest pain and the diagnosis holds for both levels of the sex variables, hence it is not a moderator.\n",
    "#we would test for moderator variables in the case of a quantitative response variable the same way\n",
    "#divide the population into the sublevels of the third variables\n",
    "#conduct an smf.ols test for each to see if the relationship is statistically significant for each level"
   ]
  },
  {
   "cell_type": "code",
   "execution_count": 259,
   "metadata": {
    "collapsed": true
   },
   "outputs": [],
   "source": [
    "#identifying a confounding variable does not allow to establish causation, just to get closer to a causal connection.\n",
    "#due to infinite number of possible lurking variables, observational studies cannot rly establish causation\n",
    "#a lurking of confounding variable is a third variable that is associated with both the explanatory and response \n",
    "#variables.\n",
    "#i.e. x=firefighters; y=damage caused by a fire. plot would suggest more firefighters causes more fire damage.\n",
    "#in reality there is a third confounding variable that influences both, seriousness of the fire.\n",
    "#In a study we want to demonstrate that our statistical relationship is valid even after controlling for confounders."
   ]
  },
  {
   "cell_type": "code",
   "execution_count": 511,
   "metadata": {
    "collapsed": true
   },
   "outputs": [],
   "source": [
    "#now we will test whether there is a relationship between two quantitative variables, age and cholesterol\n",
    "#for this we use the pearson correlation test\n",
    "#r, going from -1 to 1 only tells us whether the two variables are linearly related. they may be related in nonlinear ways\n",
    "#therefore it's always important to look at r in parallel with a scatterplot of the two variables\n",
    "#r squared is a measure of how much variability in one variable can be explained by the other variable\n",
    "#to calculate the pearson coefficient we need to remove all missing values\n",
    "#Please remember that when two variables are correlated it is possible that:\n",
    "#X causes Y or Y causes X\n",
    "#Z causes both X and Y\n",
    "#X and Y are correlated by chance - a spurious correlation"
   ]
  },
  {
   "cell_type": "code",
   "execution_count": 231,
   "metadata": {
    "collapsed": false
   },
   "outputs": [
    {
     "data": {
      "text/plain": [
       "Index(['age', 'sex', 'chest_pain', 'rest_bp', 'cholesterol', 'fasting_bs',\n",
       "       'rest_ecg', 'max_heart_rate', 'exercise_angina', 'st_depression',\n",
       "       'diagnosis', 'diagnosis_binary'],\n",
       "      dtype='object')"
      ]
     },
     "execution_count": 231,
     "metadata": {},
     "output_type": "execute_result"
    }
   ],
   "source": [
    "df_clean_copy.columns"
   ]
  },
  {
   "cell_type": "code",
   "execution_count": 450,
   "metadata": {
    "collapsed": false
   },
   "outputs": [
    {
     "data": {
      "text/plain": [
       "<matplotlib.axes._subplots.AxesSubplot at 0x115abeac8>"
      ]
     },
     "execution_count": 450,
     "metadata": {},
     "output_type": "execute_result"
    },
    {
     "data": {
      "image/png": "[encoded data removed]",
      "text/plain": [
       "<matplotlib.figure.Figure at 0x115ac3b00>"
      ]
     },
     "metadata": {},
     "output_type": "display_data"
    }
   ],
   "source": [
    "scat1 = sns.regplot(x='age', y = 'cholesterol', fit_reg=True, data = df_clean_copy)\n",
    "plt.xlabel('Age')\n",
    "plt.ylabel('Cholesterol')\n",
    "plt.suptitle('Relationship between age and cholesterol')\n",
    "scat1"
   ]
  },
  {
   "cell_type": "code",
   "execution_count": 233,
   "metadata": {
    "collapsed": false
   },
   "outputs": [
    {
     "name": "stdout",
     "output_type": "stream",
     "text": [
      "association between age and cholesterol\n",
      "(-0.068169552180946086, 0.063640508704807752)\n"
     ]
    }
   ],
   "source": [
    "#the r coefficient is a measure of association, of how closely points are clustered around a line\n",
    "#correlations are always between -1 and 1\n",
    "#r measures solely linear association\n",
    "#association, not causation\n",
    "#it is a number without units\n",
    "#it can mislead in presence of outliers or non linear association -> always draw a scatter plot\n",
    "#when you look at a scatter plot you look at direction form and strength of relationship\n",
    "#ecological correlations based on averages can be misleading and overstate strength of associations\n",
    "#for individual units\n",
    "print('association between age and cholesterol')\n",
    "print(scipy.stats.pearsonr(df_clean_copy['age'], df_clean_copy['cholesterol']))"
   ]
  },
  {
   "cell_type": "code",
   "execution_count": 513,
   "metadata": {
    "collapsed": true
   },
   "outputs": [],
   "source": [
    "#Linear regression:\n",
    "#multivariate linear regression for quantitative response variable\n",
    "#logistic regression for binary categorical response variable\n",
    "\n",
    "#Assumptions:\n",
    "\n",
    "#Normality: residuals from our linear regression model are normally distributed. if they are not,\n",
    "#our model may be misspecified.\n",
    "\n",
    "#Linearity: association between explanatory and response variable is linear\n",
    "\n",
    "#Homoscedasticity (or assumption of constant variance): variability in the response variable is the same at all levels\n",
    "#of the explanatory variable. i.e. if residuals are spread around the regression line in a \n",
    "#similar manner as you move along the x axis (values of the explanatory variable)\n",
    "\n",
    "#Independence: observations are not correlated with each other. Longitudinal data can violate this assumption, as well \n",
    "#as hierarchical nesting/clustering data i.e. looking at students by classes. this assumption is the most serious\n",
    "#to be violated, and also cannot be fixed by modifying the variables. the data structure itself is the problem.\n",
    "#We have to contend with:\n",
    "\n",
    "#Multicollinearity: explanatory variables are highly correlated with each other. this can mess up your parameter estimates\n",
    "#or make them highly unstable. Signs: 1. highly associated variable not significant. 2. negative regression coefficient\n",
    "#that should be positive. 3. taking out an explanatory variable drastically changes the results.\n",
    "\n",
    "#Outliers: can affect your regression line, meaning it will \n",
    "#multiple regression model allows us to find the relationship between one explanatory variable and the \n",
    "#reponse variable, while controlling (holding constant at 0) all the other variables.\n",
    "#categorical sex (1 and 2); age restricted to 18-25 group: each variable needs to include a meaningful\n",
    "#value of 0, so as to make it easier to interpret the coefficients\n",
    "#for a categorical variable, we can just recode one of the values to be 0\n",
    "#for a quantitative variable, we have to center it. Centering = subtracting the mean of a variable\n",
    "#from the value of the variable. We are therefore recoding it so that its mean=0.\n",
    "#we only center explanatory variables not response one\n",
    "#in logistic regression we always need to code response binary variable so that 0 means no outcome and 1 outcome occurred\n",
    "#this is true whether outcome is positive or negative."
   ]
  },
  {
   "cell_type": "code",
   "execution_count": 453,
   "metadata": {
    "collapsed": true
   },
   "outputs": [],
   "source": [
    "#We will create a multiple regression model, investigating the relationship between our explanatory variables and \n",
    "#our response variable diagnosis\n",
    "#we will first center the explanatory variables. for categorical variables, one of the categories needs to be 0, for \n",
    "#quantitative variables, we need to subtract the mean from each value.\n",
    "\n",
    "#Notes: \n",
    "#do not center the response variable.\n",
    "#is using logistic regression, do recode the binary response variable to make sure one class is coded as 0"
   ]
  },
  {
   "cell_type": "code",
   "execution_count": 262,
   "metadata": {
    "collapsed": false
   },
   "outputs": [
    {
     "data": {
      "text/plain": [
       "Index(['age', 'sex', 'chest_pain', 'rest_bp', 'cholesterol', 'fasting_bs',\n",
       "       'rest_ecg', 'max_heart_rate', 'exercise_angina', 'st_depression',\n",
       "       'diagnosis', 'diagnosis_binary'],\n",
       "      dtype='object')"
      ]
     },
     "execution_count": 262,
     "metadata": {},
     "output_type": "execute_result"
    }
   ],
   "source": [
    "df_clean_copy.columns"
   ]
  },
  {
   "cell_type": "code",
   "execution_count": 270,
   "metadata": {
    "collapsed": true
   },
   "outputs": [],
   "source": [
    "#categorical variables: sex, chest_pain, fasting_bs, rest_ecg, exercise_angina\n",
    "#quantitative variables: age, rest_bp, cholesterol, max_heart_rate, st_depression"
   ]
  },
  {
   "cell_type": "code",
   "execution_count": 280,
   "metadata": {
    "collapsed": false
   },
   "outputs": [
    {
     "data": {
      "text/plain": [
       "4.0    392\n",
       "3.0    161\n",
       "2.0    150\n",
       "1.0     38\n",
       "Name: chest_pain, dtype: int64"
      ]
     },
     "execution_count": 280,
     "metadata": {},
     "output_type": "execute_result"
    }
   ],
   "source": [
    "df_clean_copy['chest_pain'].value_counts()"
   ]
  },
  {
   "cell_type": "code",
   "execution_count": 281,
   "metadata": {
    "collapsed": true
   },
   "outputs": [],
   "source": [
    "recode_chest_pain = {1:0, 2:1, 3:2, 4:3}\n",
    "df_clean_copy['chest_pain_p'] = df_clean_copy['chest_pain'].map(recode_chest_pain)"
   ]
  },
  {
   "cell_type": "code",
   "execution_count": 282,
   "metadata": {
    "collapsed": false
   },
   "outputs": [
    {
     "data": {
      "text/plain": [
       "0.0    692\n",
       "1.0    138\n",
       "Name: fasting_bs, dtype: int64"
      ]
     },
     "execution_count": 282,
     "metadata": {},
     "output_type": "execute_result"
    }
   ],
   "source": [
    "df['fasting_bs'].value_counts()"
   ]
  },
  {
   "cell_type": "code",
   "execution_count": 283,
   "metadata": {
    "collapsed": false
   },
   "outputs": [
    {
     "data": {
      "text/plain": [
       "0.0    551\n",
       "2.0    188\n",
       "1.0    179\n",
       "Name: rest_ecg, dtype: int64"
      ]
     },
     "execution_count": 283,
     "metadata": {},
     "output_type": "execute_result"
    }
   ],
   "source": [
    "df['rest_ecg'].value_counts()"
   ]
  },
  {
   "cell_type": "code",
   "execution_count": 284,
   "metadata": {
    "collapsed": false
   },
   "outputs": [
    {
     "data": {
      "text/plain": [
       "0.0    528\n",
       "1.0    337\n",
       "Name: exercise_angina, dtype: int64"
      ]
     },
     "execution_count": 284,
     "metadata": {},
     "output_type": "execute_result"
    }
   ],
   "source": [
    "df['exercise_angina'].value_counts()"
   ]
  },
  {
   "cell_type": "code",
   "execution_count": 285,
   "metadata": {
    "collapsed": true
   },
   "outputs": [],
   "source": [
    "df_clean_copy['age_c'] = df_clean_copy['age'] - df_clean_copy['age'].mean()"
   ]
  },
  {
   "cell_type": "code",
   "execution_count": 286,
   "metadata": {
    "collapsed": true
   },
   "outputs": [],
   "source": [
    "df_clean_copy['rest_bp_c'] = df_clean_copy['rest_bp'] - df_clean_copy['rest_bp'].mean()"
   ]
  },
  {
   "cell_type": "code",
   "execution_count": 287,
   "metadata": {
    "collapsed": true
   },
   "outputs": [],
   "source": [
    "df_clean_copy['cholesterol_c'] = df_clean_copy['cholesterol'] - df_clean_copy['cholesterol'].mean()"
   ]
  },
  {
   "cell_type": "code",
   "execution_count": 288,
   "metadata": {
    "collapsed": true
   },
   "outputs": [],
   "source": [
    "df_clean_copy['max_heart_rate_c'] = df_clean_copy['max_heart_rate'] - df_clean_copy['max_heart_rate'].mean()"
   ]
  },
  {
   "cell_type": "code",
   "execution_count": 289,
   "metadata": {
    "collapsed": false
   },
   "outputs": [],
   "source": [
    "df_clean_copy['st_depression_c'] = df_clean_copy['st_depression'] - df_clean_copy['st_depression'].mean()"
   ]
  },
  {
   "cell_type": "code",
   "execution_count": 292,
   "metadata": {
    "collapsed": false
   },
   "outputs": [
    {
     "data": {
      "text/plain": [
       "Index(['age', 'sex', 'chest_pain', 'rest_bp', 'cholesterol', 'fasting_bs',\n",
       "       'rest_ecg', 'max_heart_rate', 'exercise_angina', 'st_depression',\n",
       "       'diagnosis', 'chest_pain_p', 'age_c', 'rest_bp_c', 'cholesterol_c',\n",
       "       'max_heart_rate_c', 'st_depression_c', 'diagnosis_binary'],\n",
       "      dtype='object')"
      ]
     },
     "execution_count": 292,
     "metadata": {},
     "output_type": "execute_result"
    }
   ],
   "source": [
    "df_clean_copy.columns"
   ]
  },
  {
   "cell_type": "code",
   "execution_count": 295,
   "metadata": {
    "collapsed": true
   },
   "outputs": [],
   "source": [
    "df_clean_copy_c = df_clean_copy[['age_c', 'sex', 'chest_pain_p', 'rest_bp_c', 'cholesterol_c',\n",
    "                                       'fasting_bs', 'rest_ecg', 'max_heart_rate_c', 'exercise_angina',\n",
    "                                       'st_depression_c', 'diagnosis_binary']]"
   ]
  },
  {
   "cell_type": "code",
   "execution_count": 296,
   "metadata": {
    "collapsed": false
   },
   "outputs": [
    {
     "data": {
      "text/plain": [
       "Index(['age_c', 'sex', 'chest_pain_p', 'rest_bp_c', 'cholesterol_c',\n",
       "       'fasting_bs', 'rest_ecg', 'max_heart_rate_c', 'exercise_angina',\n",
       "       'st_depression_c', 'diagnosis_binary'],\n",
       "      dtype='object')"
      ]
     },
     "execution_count": 296,
     "metadata": {},
     "output_type": "execute_result"
    }
   ],
   "source": [
    "df_clean_copy_c.columns"
   ]
  },
  {
   "cell_type": "code",
   "execution_count": 459,
   "metadata": {
    "collapsed": false
   },
   "outputs": [
    {
     "name": "stdout",
     "output_type": "stream",
     "text": [
      "                            OLS Regression Results                            \n",
      "==============================================================================\n",
      "Dep. Variable:                  age_c   R-squared:                       0.001\n",
      "Model:                            OLS   Adj. R-squared:                 -0.000\n",
      "Method:                 Least Squares   F-statistic:                    0.8054\n",
      "Date:                Tue, 27 Jun 2017   Prob (F-statistic):              0.370\n",
      "Time:                        19:31:51   Log-Likelihood:                -2711.1\n",
      "No. Observations:                 741   AIC:                             5426.\n",
      "Df Residuals:                     739   BIC:                             5435.\n",
      "Df Model:                           1                                         \n",
      "Covariance Type:            nonrobust                                         \n",
      "==============================================================================\n",
      "                 coef    std err          t      P>|t|      [95.0% Conf. Int.]\n",
      "------------------------------------------------------------------------------\n",
      "Intercept     -0.5596      0.713     -0.785      0.433        -1.959     0.840\n",
      "sex[T.1.0]     0.7314      0.815      0.897      0.370        -0.868     2.331\n",
      "==============================================================================\n",
      "Omnibus:                       11.248   Durbin-Watson:                   1.086\n",
      "Prob(Omnibus):                  0.004   Jarque-Bera (JB):                8.518\n",
      "Skew:                          -0.160   Prob(JB):                       0.0141\n",
      "Kurtosis:                       2.583   Cond. No.                         3.91\n",
      "==============================================================================\n",
      "\n",
      "Warnings:\n",
      "[1] Standard Errors assume that the covariance matrix of the errors is correctly specified.\n"
     ]
    }
   ],
   "source": [
    "model1 = smf.ols(formula = 'age_c ~ sex', data = df_clean_copy_c).fit()\n",
    "print(model1.summary())"
   ]
  },
  {
   "cell_type": "code",
   "execution_count": 461,
   "metadata": {
    "collapsed": false
   },
   "outputs": [
    {
     "name": "stdout",
     "output_type": "stream",
     "text": [
      "                            OLS Regression Results                            \n",
      "==============================================================================\n",
      "Dep. Variable:                  age_c   R-squared:                       0.005\n",
      "Model:                            OLS   Adj. R-squared:                  0.002\n",
      "Method:                 Least Squares   F-statistic:                     1.889\n",
      "Date:                Tue, 27 Jun 2017   Prob (F-statistic):              0.152\n",
      "Time:                        19:32:53   Log-Likelihood:                -2709.6\n",
      "No. Observations:                 741   AIC:                             5425.\n",
      "Df Residuals:                     738   BIC:                             5439.\n",
      "Df Model:                           2                                         \n",
      "Covariance Type:            nonrobust                                         \n",
      "=================================================================================\n",
      "                    coef    std err          t      P>|t|      [95.0% Conf. Int.]\n",
      "---------------------------------------------------------------------------------\n",
      "Intercept        -0.3644      0.721     -0.506      0.613        -1.780     1.051\n",
      "sex[T.1.0]        0.4762      0.827      0.576      0.565        -1.148     2.100\n",
      "cholesterol_c    -0.0065      0.004     -1.724      0.085        -0.014     0.001\n",
      "==============================================================================\n",
      "Omnibus:                       10.509   Durbin-Watson:                   1.107\n",
      "Prob(Omnibus):                  0.005   Jarque-Bera (JB):                8.122\n",
      "Skew:                          -0.158   Prob(JB):                       0.0172\n",
      "Kurtosis:                       2.597   Cond. No.                         288.\n",
      "==============================================================================\n",
      "\n",
      "Warnings:\n",
      "[1] Standard Errors assume that the covariance matrix of the errors is correctly specified.\n"
     ]
    }
   ],
   "source": [
    "model2 = smf.ols(formula = 'age_c ~ sex + cholesterol_c', data=df_clean_copy_c).fit()\n",
    "print(model2.summary())"
   ]
  },
  {
   "cell_type": "code",
   "execution_count": 471,
   "metadata": {
    "collapsed": false
   },
   "outputs": [
    {
     "name": "stdout",
     "output_type": "stream",
     "text": [
      "                            OLS Regression Results                            \n",
      "==============================================================================\n",
      "Dep. Variable:                  age_c   R-squared:                       0.278\n",
      "Model:                            OLS   Adj. R-squared:                  0.266\n",
      "Method:                 Least Squares   F-statistic:                     21.58\n",
      "Date:                Tue, 27 Jun 2017   Prob (F-statistic):           1.25e-43\n",
      "Time:                        20:35:33   Log-Likelihood:                -2590.6\n",
      "No. Observations:                 741   AIC:                             5209.\n",
      "Df Residuals:                     727   BIC:                             5274.\n",
      "Df Model:                          13                                         \n",
      "Covariance Type:            nonrobust                                         \n",
      "==========================================================================================\n",
      "                             coef    std err          t      P>|t|      [95.0% Conf. Int.]\n",
      "------------------------------------------------------------------------------------------\n",
      "Intercept                 -0.9208      1.486     -0.619      0.536        -3.839     1.997\n",
      "sex[T.1.0]                -1.5406      0.744     -2.071      0.039        -3.001    -0.080\n",
      "C(chest_pain_p)[T.1]      -1.5128      1.507     -1.004      0.316        -4.471     1.446\n",
      "C(chest_pain_p)[T.2]       0.5994      1.477      0.406      0.685        -2.300     3.499\n",
      "C(chest_pain_p)[T.3]      -0.5931      1.446     -0.410      0.682        -3.432     2.246\n",
      "fasting_bs[T.1.0]          3.9777      0.853      4.664      0.000         2.303     5.652\n",
      "C(rest_ecg)[T.1.0]         1.8683      0.851      2.196      0.028         0.198     3.539\n",
      "C(rest_ecg)[T.2.0]         3.9081      0.742      5.268      0.000         2.452     5.364\n",
      "exercise_angina[T.1.0]     0.0511      0.769      0.066      0.947        -1.458     1.561\n",
      "rest_bp_c                  0.0754      0.017      4.508      0.000         0.043     0.108\n",
      "cholesterol_c             -0.0042      0.003     -1.251      0.211        -0.011     0.002\n",
      "max_heart_rate_c          -0.1093      0.013     -8.152      0.000        -0.136    -0.083\n",
      "st_depression_c            0.9892      0.319      3.097      0.002         0.362     1.616\n",
      "diagnosis_binary           1.4426      0.796      1.813      0.070        -0.119     3.005\n",
      "==============================================================================\n",
      "Omnibus:                        5.205   Durbin-Watson:                   1.369\n",
      "Prob(Omnibus):                  0.074   Jarque-Bera (JB):                3.958\n",
      "Skew:                           0.047   Prob(JB):                        0.138\n",
      "Kurtosis:                       2.654   Cond. No.                         870.\n",
      "==============================================================================\n",
      "\n",
      "Warnings:\n",
      "[1] Standard Errors assume that the covariance matrix of the errors is correctly specified.\n"
     ]
    }
   ],
   "source": [
    "model3 = smf.ols(formula = 'age_c ~ sex + C(chest_pain_p) + (rest_bp_c) + cholesterol_c + fasting_bs + C(rest_ecg) + \\\n",
    "                            max_heart_rate_c + exercise_angina + st_depression_c + diagnosis_binary', data = df_clean_copy_c).fit()\n",
    "print(model3.summary())"
   ]
  },
  {
   "cell_type": "code",
   "execution_count": 465,
   "metadata": {
    "collapsed": true
   },
   "outputs": [],
   "source": [
    "#We identified some explanatory variables that are associated with age, but our model overall barely explains 27%\n",
    "#of the variation in the response variable\n",
    "#let's run some diagnostics"
   ]
  },
  {
   "cell_type": "code",
   "execution_count": 466,
   "metadata": {
    "collapsed": false
   },
   "outputs": [
    {
     "data": {
      "image/png": "[encoded data removed]",
      "text/plain": [
       "<matplotlib.figure.Figure at 0x115bf6f60>"
      ]
     },
     "metadata": {},
     "output_type": "display_data"
    }
   ],
   "source": [
    "#Q-Q plot for normality\n",
    "fig1 = sm.qqplot(model3.resid, line='r')\n",
    "#red line represents residuals we would expect if model residuals were normally distributed\n",
    "#our residuals below deviate significantly from red line, especially at lower and higher quantiles, meaning they do not\n",
    "#follow a normal distribution. This means curvilinear association we saw is not fully explained by our model. We could add\n",
    "#more explanatory variables."
   ]
  },
  {
   "cell_type": "code",
   "execution_count": 467,
   "metadata": {
    "collapsed": false
   },
   "outputs": [
    {
     "data": {
      "text/plain": [
       "<matplotlib.text.Text at 0x115ad0908>"
      ]
     },
     "execution_count": 467,
     "metadata": {},
     "output_type": "execute_result"
    },
    {
     "data": {
      "image/png": "[encoded data removed]",
      "text/plain": [
       "<matplotlib.figure.Figure at 0x115bbbe10>"
      ]
     },
     "metadata": {},
     "output_type": "display_data"
    }
   ],
   "source": [
    "#simple plot of residuals\n",
    "stdres = pd.DataFrame(model3.resid_pearson)\n",
    "plt.plot(stdres, 'o', ls='None')\n",
    "l = plt.axhline(y=0, color='r')\n",
    "plt.ylabel('Standardized Residual')\n",
    "plt.xlabel('Observation Number')\n",
    "#resid_pearson normalizes our model's residuals\n",
    "#ls='none' means points will not be connected\n",
    "#we expect most residuals to fall within 2sd of the mean. More than 2 are outliers, and more than 3 extreme outliers.\n",
    "#if more than 1% of our observations have standardized residuals with an absolute value greater than 2.5, or more than 5%\n",
    "#have one greater than or equal to 2, there is evidence that the fit of the model is poor. largest cause of this is ommission\n",
    "#of important explanatory variables in our model.\n",
    "#standardized residuals in linear regression will always be linear, and the line will be horizontal\n",
    "#normalizing or standardizing residuals amounts to making them have a mean of 0 and sd of 1 so as to fit a normal standard distribution\n",
    "#if residuals show a strong pattern (up, down, polynomial) then it is a good indication of nonlinearity\n",
    "#in the underlying relationship"
   ]
  },
  {
   "cell_type": "code",
   "execution_count": 469,
   "metadata": {
    "collapsed": false
   },
   "outputs": [
    {
     "name": "stdout",
     "output_type": "stream",
     "text": [
      "Figure(576x396)\n"
     ]
    },
    {
     "data": {
      "image/png": "[encoded data removed]",
      "text/plain": [
       "<matplotlib.figure.Figure at 0x11534bda0>"
      ]
     },
     "metadata": {},
     "output_type": "display_data"
    }
   ],
   "source": [
    "#leverage plot\n",
    "fig4 = sm.graphics.influence_plot(model3, size=8)\n",
    "print(fig4)\n",
    "#we see that we have extreme outliers, but they are low leverage, meaning they do not have an undue influence on our\n",
    "#estimation of the regression model.\n",
    "#we also have high leverage observations, but they are not outliers.\n",
    "#we have no observations that are both high leverage and outliers."
   ]
  },
  {
   "cell_type": "code",
   "execution_count": 470,
   "metadata": {
    "collapsed": true
   },
   "outputs": [],
   "source": [
    "#now let's focus on our actual response variable in the study\n",
    "#since it is a binary variable, we will need to use a logistic regression model"
   ]
  },
  {
   "cell_type": "code",
   "execution_count": 298,
   "metadata": {
    "collapsed": false
   },
   "outputs": [
    {
     "name": "stdout",
     "output_type": "stream",
     "text": [
      "Optimization terminated successfully.\n",
      "         Current function value: 0.543711\n",
      "         Iterations 6\n",
      "                           Logit Regression Results                           \n",
      "==============================================================================\n",
      "Dep. Variable:       diagnosis_binary   No. Observations:                  741\n",
      "Model:                          Logit   Df Residuals:                      737\n",
      "Method:                           MLE   Df Model:                            3\n",
      "Date:                Sat, 24 Jun 2017   Pseudo R-squ.:                  0.2148\n",
      "Time:                        13:48:58   Log-Likelihood:                -402.89\n",
      "converged:                       True   LL-Null:                       -513.13\n",
      "                                        LLR p-value:                 1.581e-47\n",
      "========================================================================================\n",
      "                           coef    std err          z      P>|z|      [95.0% Conf. Int.]\n",
      "----------------------------------------------------------------------------------------\n",
      "Intercept               -0.4274      0.332     -1.288      0.198        -1.078     0.223\n",
      "C(chest_pain_p)[T.1]    -1.3335      0.404     -3.299      0.001        -2.126    -0.541\n",
      "C(chest_pain_p)[T.2]    -0.3992      0.373     -1.069      0.285        -1.131     0.333\n",
      "C(chest_pain_p)[T.3]     1.5812      0.352      4.488      0.000         0.891     2.272\n",
      "========================================================================================\n"
     ]
    }
   ],
   "source": [
    "lreg1 = smf.logit(formula = 'diagnosis_binary ~ C(chest_pain_p)', data = df_clean_copy_c).fit()\n",
    "print(lreg1.summary())"
   ]
  },
  {
   "cell_type": "code",
   "execution_count": 454,
   "metadata": {
    "collapsed": false
   },
   "outputs": [
    {
     "name": "stdout",
     "output_type": "stream",
     "text": [
      "Optimization terminated successfully.\n",
      "         Current function value: 0.488979\n",
      "         Iterations 6\n",
      "                           Logit Regression Results                           \n",
      "==============================================================================\n",
      "Dep. Variable:       diagnosis_binary   No. Observations:                  741\n",
      "Model:                          Logit   Df Residuals:                      734\n",
      "Method:                           MLE   Df Model:                            6\n",
      "Date:                Tue, 27 Jun 2017   Pseudo R-squ.:                  0.2939\n",
      "Time:                        19:24:14   Log-Likelihood:                -362.33\n",
      "converged:                       True   LL-Null:                       -513.13\n",
      "                                        LLR p-value:                 3.728e-62\n",
      "========================================================================================\n",
      "                           coef    std err          z      P>|z|      [95.0% Conf. Int.]\n",
      "----------------------------------------------------------------------------------------\n",
      "Intercept               -1.6537      0.408     -4.058      0.000        -2.452    -0.855\n",
      "sex[T.1.0]               1.4468      0.233      6.216      0.000         0.991     1.903\n",
      "C(chest_pain_p)[T.1]    -1.0153      0.430     -2.362      0.018        -1.858    -0.173\n",
      "C(chest_pain_p)[T.2]    -0.3127      0.400     -0.781      0.435        -1.097     0.472\n",
      "C(chest_pain_p)[T.3]     1.6327      0.378      4.315      0.000         0.891     2.374\n",
      "age_c                    0.0583      0.011      5.538      0.000         0.038     0.079\n",
      "cholesterol_c           -0.0015      0.001     -1.495      0.135        -0.004     0.000\n",
      "========================================================================================\n"
     ]
    }
   ],
   "source": [
    "lreg2 = smf.logit(formula = 'diagnosis_binary ~ age_c + sex + C(chest_pain_p) + cholesterol_c', data = df_clean_copy_c).fit()\n",
    "print(lreg2.summary())"
   ]
  },
  {
   "cell_type": "code",
   "execution_count": 472,
   "metadata": {
    "collapsed": false,
    "scrolled": false
   },
   "outputs": [
    {
     "name": "stdout",
     "output_type": "stream",
     "text": [
      "Optimization terminated successfully.\n",
      "         Current function value: 0.421593\n",
      "         Iterations 6\n",
      "                           Logit Regression Results                           \n",
      "==============================================================================\n",
      "Dep. Variable:       diagnosis_binary   No. Observations:                  741\n",
      "Model:                          Logit   Df Residuals:                      727\n",
      "Method:                           MLE   Df Model:                           13\n",
      "Date:                Tue, 27 Jun 2017   Pseudo R-squ.:                  0.3912\n",
      "Time:                        20:35:53   Log-Likelihood:                -312.40\n",
      "converged:                       True   LL-Null:                       -513.13\n",
      "                                        LLR p-value:                 1.100e-77\n",
      "==========================================================================================\n",
      "                             coef    std err          z      P>|z|      [95.0% Conf. Int.]\n",
      "------------------------------------------------------------------------------------------\n",
      "Intercept                 -1.9267      0.465     -4.139      0.000        -2.839    -1.014\n",
      "sex[T.1.0]                 1.3101      0.256      5.110      0.000         0.808     1.813\n",
      "C(chest_pain_p)[T.1]      -0.5553      0.478     -1.162      0.245        -1.492     0.381\n",
      "C(chest_pain_p)[T.2]      -0.1410      0.443     -0.318      0.750        -1.009     0.727\n",
      "C(chest_pain_p)[T.3]       1.3009      0.430      3.023      0.003         0.458     2.144\n",
      "fasting_bs[T.1.0]          0.5082      0.292      1.742      0.081        -0.063     1.080\n",
      "C(rest_ecg)[T.1.0]        -0.0877      0.302     -0.290      0.772        -0.680     0.505\n",
      "C(rest_ecg)[T.2.0]         0.2337      0.253      0.925      0.355        -0.261     0.729\n",
      "exercise_angina[T.1.0]     1.0054      0.231      4.353      0.000         0.553     1.458\n",
      "age_c                      0.0217      0.013      1.723      0.085        -0.003     0.046\n",
      "rest_bp_c                  0.0062      0.006      1.089      0.276        -0.005     0.017\n",
      "cholesterol_c             -0.0018      0.001     -1.576      0.115        -0.004     0.000\n",
      "max_heart_rate_c          -0.0142      0.005     -3.119      0.002        -0.023    -0.005\n",
      "st_depression_c            0.6158      0.114      5.402      0.000         0.392     0.839\n",
      "==========================================================================================\n"
     ]
    }
   ],
   "source": [
    "lreg3 = smf.logit(formula = 'diagnosis_binary ~ age_c + sex + C(chest_pain_p) + rest_bp_c + \\\n",
    "                  cholesterol_c + fasting_bs + C(rest_ecg) + max_heart_rate_c + \\\n",
    "                  exercise_angina + st_depression_c', data = df_clean_copy_c).fit()\n",
    "print(lreg3.summary())"
   ]
  },
  {
   "cell_type": "code",
   "execution_count": 302,
   "metadata": {
    "collapsed": false
   },
   "outputs": [
    {
     "name": "stdout",
     "output_type": "stream",
     "text": [
      "Odds Ratios\n",
      "Intercept                    0.145625\n",
      "C(sex)[T.1.0]                3.706415\n",
      "C(chest_pain_p)[T.1]         0.573894\n",
      "C(chest_pain_p)[T.2]         0.868495\n",
      "C(chest_pain_p)[T.3]         3.672428\n",
      "C(fasting_bs)[T.1.0]         1.662336\n",
      "C(rest_ecg)[T.1.0]           0.916029\n",
      "C(rest_ecg)[T.2.0]           1.263268\n",
      "C(exercise_angina)[T.1.0]    2.732984\n",
      "age_c                        1.021933\n",
      "rest_bp_c                    1.006246\n",
      "cholesterol_c                0.998173\n",
      "max_heart_rate_c             0.985909\n",
      "st_depression_c              1.851057\n",
      "dtype: float64\n"
     ]
    }
   ],
   "source": [
    "#however, for logistic regression it makes much more sense to calculate the odds ratio\n",
    "#if OR=1, the model is not statistically significant\n",
    "#if OR<1, the response variable becomes less likely as the explanatory one increases\n",
    "#if OR>1, the response variable becomes more likely as the explanatory one increases\n",
    "print('Odds Ratios')\n",
    "print(np.exp(lreg3.params))\n",
    "#Interpretation of OR"
   ]
  },
  {
   "cell_type": "code",
   "execution_count": 303,
   "metadata": {
    "collapsed": false
   },
   "outputs": [
    {
     "name": "stdout",
     "output_type": "stream",
     "text": [
      "                           Lower CI  Upper CI        OR\n",
      "Intercept                  0.058480  0.362629  0.145625\n",
      "C(sex)[T.1.0]              2.242497  6.125988  3.706415\n",
      "C(chest_pain_p)[T.1]       0.224975  1.463965  0.573894\n",
      "C(chest_pain_p)[T.2]       0.364589  2.068857  0.868495\n",
      "C(chest_pain_p)[T.3]       1.580165  8.535010  3.672428\n",
      "C(fasting_bs)[T.1.0]       0.938503  2.944433  1.662336\n",
      "C(rest_ecg)[T.1.0]         0.506524  1.656603  0.916029\n",
      "C(rest_ecg)[T.2.0]         0.769914  2.072760  1.263268\n",
      "C(exercise_angina)[T.1.0]  1.737951  4.297705  2.732984\n",
      "age_c                      0.997020  1.047468  1.021933\n",
      "rest_bp_c                  0.995035  1.017583  1.006246\n",
      "cholesterol_c              0.995907  1.000445  0.998173\n",
      "max_heart_rate_c           0.977157  0.994740  0.985909\n",
      "st_depression_c            1.480481  2.314391  1.851057\n"
     ]
    }
   ],
   "source": [
    "# odd ratios with 95% confidence intervals\n",
    "params = lreg3.params\n",
    "conf = lreg3.conf_int()\n",
    "conf['OR'] = params\n",
    "conf.columns = ['Lower CI', 'Upper CI', 'OR']\n",
    "print (np.exp(conf))\n",
    "#we have 95% confidence that the sex odds ratio will be between 2.24 and 6.12."
   ]
  },
  {
   "cell_type": "code",
   "execution_count": 305,
   "metadata": {
    "collapsed": false
   },
   "outputs": [
    {
     "data": {
      "text/plain": [
       "<matplotlib.text.Text at 0x1137df2e8>"
      ]
     },
     "execution_count": 305,
     "metadata": {},
     "output_type": "execute_result"
    },
    {
     "data": {
      "image/png": "[encoded data removed]",
      "text/plain": [
       "<matplotlib.figure.Figure at 0x1137f2390>"
      ]
     },
     "metadata": {},
     "output_type": "display_data"
    }
   ],
   "source": [
    "#simple plot of residuals\n",
    "stdres = pd.DataFrame(lreg3.resid_pearson)\n",
    "plt.plot(stdres, 'o', ls='None')\n",
    "l = plt.axhline(y=0, color='r')\n",
    "plt.ylabel('Standardized Residual')\n",
    "plt.xlabel('Observation Number')\n",
    "#resid_pearson normalizes our model's residuals\n",
    "#ls='none' means points will not be connected\n",
    "#we expect most residuals to fall within 2sd of the mean. More than 2 are outliers, and more than 3 extreme outliers.\n",
    "#if more than 1% of our observations have standardized residuals with an absolute value greater than 2.5, or more than 5%\n",
    "#have one greater than or equal to 2, there is evidence that the fit of the model is poor. largest cause of this is ommission\n",
    "#of important explanatory variables in our model.\n",
    "#standardized residuals in linear regression will always be linear, and the line will be horizontal\n",
    "#if residuals show a strong pattern (up, down, polynomial) then it is a good indication of nonlinearity\n",
    "#in the underlying relationship"
   ]
  },
  {
   "cell_type": "code",
   "execution_count": 475,
   "metadata": {
    "collapsed": true
   },
   "outputs": [],
   "source": [
    "df_clean_mice = df_red[df_red['rest_bp'].notnull() & df_red['cholesterol'].notnull() & df_red['fasting_bs'].notnull() & \\\n",
    "                  df['max_heart_rate'].notnull() & df['exercise_angina'].notnull()]"
   ]
  },
  {
   "cell_type": "code",
   "execution_count": 476,
   "metadata": {
    "collapsed": false
   },
   "outputs": [
    {
     "data": {
      "text/plain": [
       "age                False\n",
       "sex                False\n",
       "chest_pain         False\n",
       "rest_bp            False\n",
       "cholesterol        False\n",
       "fasting_bs         False\n",
       "rest_ecg           False\n",
       "max_heart_rate     False\n",
       "exercise_angina    False\n",
       "st_depression       True\n",
       "diagnosis          False\n",
       "dtype: bool"
      ]
     },
     "execution_count": 476,
     "metadata": {},
     "output_type": "execute_result"
    }
   ],
   "source": [
    "df_clean_mice.isnull().any()"
   ]
  },
  {
   "cell_type": "code",
   "execution_count": 497,
   "metadata": {
    "collapsed": false
   },
   "outputs": [
    {
     "data": {
      "text/html": [
       "<div>\n",
       "<table border=\"1\" class=\"dataframe\">\n",
       "  <thead>\n",
       "    <tr style=\"text-align: right;\">\n",
       "      <th></th>\n",
       "      <th>age</th>\n",
       "      <th>rest_bp</th>\n",
       "      <th>cholesterol</th>\n",
       "      <th>max_heart_rate</th>\n",
       "      <th>st_depression</th>\n",
       "    </tr>\n",
       "  </thead>\n",
       "  <tbody>\n",
       "    <tr>\n",
       "      <th>count</th>\n",
       "      <td>745.000000</td>\n",
       "      <td>745.000000</td>\n",
       "      <td>745.000000</td>\n",
       "      <td>745.000000</td>\n",
       "      <td>741.000000</td>\n",
       "    </tr>\n",
       "    <tr>\n",
       "      <th>mean</th>\n",
       "      <td>53.130201</td>\n",
       "      <td>132.771812</td>\n",
       "      <td>219.923490</td>\n",
       "      <td>138.817450</td>\n",
       "      <td>0.893117</td>\n",
       "    </tr>\n",
       "    <tr>\n",
       "      <th>std</th>\n",
       "      <td>9.392743</td>\n",
       "      <td>18.599746</td>\n",
       "      <td>93.713004</td>\n",
       "      <td>25.825905</td>\n",
       "      <td>1.086922</td>\n",
       "    </tr>\n",
       "    <tr>\n",
       "      <th>min</th>\n",
       "      <td>28.000000</td>\n",
       "      <td>0.000000</td>\n",
       "      <td>0.000000</td>\n",
       "      <td>60.000000</td>\n",
       "      <td>-1.000000</td>\n",
       "    </tr>\n",
       "    <tr>\n",
       "      <th>25%</th>\n",
       "      <td>46.000000</td>\n",
       "      <td>120.000000</td>\n",
       "      <td>197.000000</td>\n",
       "      <td>120.000000</td>\n",
       "      <td>0.000000</td>\n",
       "    </tr>\n",
       "    <tr>\n",
       "      <th>50%</th>\n",
       "      <td>54.000000</td>\n",
       "      <td>130.000000</td>\n",
       "      <td>231.000000</td>\n",
       "      <td>140.000000</td>\n",
       "      <td>0.500000</td>\n",
       "    </tr>\n",
       "    <tr>\n",
       "      <th>75%</th>\n",
       "      <td>60.000000</td>\n",
       "      <td>140.000000</td>\n",
       "      <td>271.000000</td>\n",
       "      <td>160.000000</td>\n",
       "      <td>1.500000</td>\n",
       "    </tr>\n",
       "    <tr>\n",
       "      <th>max</th>\n",
       "      <td>77.000000</td>\n",
       "      <td>200.000000</td>\n",
       "      <td>603.000000</td>\n",
       "      <td>202.000000</td>\n",
       "      <td>6.200000</td>\n",
       "    </tr>\n",
       "  </tbody>\n",
       "</table>\n",
       "</div>"
      ],
      "text/plain": [
       "              age     rest_bp  cholesterol  max_heart_rate  st_depression\n",
       "count  745.000000  745.000000   745.000000      745.000000     741.000000\n",
       "mean    53.130201  132.771812   219.923490      138.817450       0.893117\n",
       "std      9.392743   18.599746    93.713004       25.825905       1.086922\n",
       "min     28.000000    0.000000     0.000000       60.000000      -1.000000\n",
       "25%     46.000000  120.000000   197.000000      120.000000       0.000000\n",
       "50%     54.000000  130.000000   231.000000      140.000000       0.500000\n",
       "75%     60.000000  140.000000   271.000000      160.000000       1.500000\n",
       "max     77.000000  200.000000   603.000000      202.000000       6.200000"
      ]
     },
     "execution_count": 497,
     "metadata": {},
     "output_type": "execute_result"
    }
   ],
   "source": [
    "df_clean_mice.describe()"
   ]
  },
  {
   "cell_type": "code",
   "execution_count": 549,
   "metadata": {
    "collapsed": false
   },
   "outputs": [
    {
     "ename": "AttributeError",
     "evalue": "module 'statsmodels' has no attribute 'mice'",
     "output_type": "error",
     "traceback": [
      "\u001b[0;31m---------------------------------------------------------------------------\u001b[0m",
      "\u001b[0;31mAttributeError\u001b[0m                            Traceback (most recent call last)",
      "\u001b[0;32m<ipython-input-549-252b28d3bf95>\u001b[0m in \u001b[0;36m<module>\u001b[0;34m()\u001b[0m\n\u001b[1;32m      6\u001b[0m \u001b[0;32mfrom\u001b[0m \u001b[0mcollections\u001b[0m \u001b[0;32mimport\u001b[0m \u001b[0mdefaultdict\u001b[0m\u001b[0;34m\u001b[0m\u001b[0m\n\u001b[1;32m      7\u001b[0m \u001b[0mformula_mice\u001b[0m \u001b[0;34m=\u001b[0m \u001b[0;34m'diagnosis_binary ~ age_c + sex + C(chest_pain_p) + rest_bp_c +                   cholesterol_c + fasting_bs + C(rest_ecg) + max_heart_rate_c +                   exercise_angina + st_depression_c'\u001b[0m\u001b[0;34m\u001b[0m\u001b[0m\n\u001b[0;32m----> 8\u001b[0;31m \u001b[0mmice\u001b[0m \u001b[0;34m=\u001b[0m \u001b[0mstatsmodels\u001b[0m\u001b[0;34m.\u001b[0m\u001b[0mmice\u001b[0m\u001b[0;34m.\u001b[0m\u001b[0mMICE\u001b[0m\u001b[0;34m(\u001b[0m\u001b[0mformula_mice\u001b[0m\u001b[0;34m,\u001b[0m \u001b[0mslf\u001b[0m\u001b[0;34m.\u001b[0m\u001b[0mlogit\u001b[0m\u001b[0;34m,\u001b[0m \u001b[0mdf_clean_mice\u001b[0m\u001b[0;34m)\u001b[0m\u001b[0;34m\u001b[0m\u001b[0m\n\u001b[0m\u001b[1;32m      9\u001b[0m \u001b[0mresults\u001b[0m \u001b[0;34m=\u001b[0m \u001b[0mmice\u001b[0m\u001b[0;34m.\u001b[0m\u001b[0mfit\u001b[0m\u001b[0;34m(\u001b[0m\u001b[0;34m)\u001b[0m\u001b[0;34m\u001b[0m\u001b[0m\n\u001b[1;32m     10\u001b[0m \u001b[0mprint\u001b[0m\u001b[0;34m(\u001b[0m\u001b[0mresults\u001b[0m\u001b[0;34m.\u001b[0m\u001b[0msummary\u001b[0m\u001b[0;34m(\u001b[0m\u001b[0;34m)\u001b[0m\u001b[0;34m)\u001b[0m\u001b[0;34m\u001b[0m\u001b[0m\n",
      "\u001b[0;31mAttributeError\u001b[0m: module 'statsmodels' has no attribute 'mice'"
     ]
    }
   ],
   "source": [
    "#to be able to use MICE you will need to update the statsmodels coming with Anaconda, to 0.8.0\n",
    "import statsmodels.imputation.mice as mice\n",
    "import statsmodels\n",
    "from statsmodels.base.model import LikelihoodModelResults\n",
    "from statsmodels.regression.linear_model import OLS\n",
    "from collections import defaultdict\n",
    "formula_mice = 'diagnosis_binary ~ age_c + sex + C(chest_pain_p) + rest_bp_c + \\\n",
    "                  cholesterol_c + fasting_bs + C(rest_ecg) + max_heart_rate_c + \\\n",
    "                  exercise_angina + st_depression_c'\n",
    "mice = statsmodels.mice.MICE(formula_mice, slf.logit, df_clean_mice)\n",
    "results = mice.fit()\n",
    "print(results.summary())"
   ]
  },
  {
   "cell_type": "code",
   "execution_count": 317,
   "metadata": {
    "collapsed": true
   },
   "outputs": [],
   "source": [
    "#Machine learning encompasses a wide range of statistical methods. These can be used for:\n",
    "#1. Describe associations\n",
    "#2. Search for patterns\n",
    "#3. Make predictions\n",
    "#We typically do not use ML with hypotheses in mind. instead we learn from the data\n",
    "#We learn from the test set.\n",
    "#Accuracy = test error rate. The rate at which it correctly classifies or estimates.\n",
    "#Goal is to minimize test error rate.\n",
    "#Linear regression: accuracy = mean squared error\n",
    "#Variance = change in parameter estimates across different data sets\n",
    "#Bias = how far off model estimated values are from true values\n",
    "#ideally we want low variance and low bias, but they are negatively associated. As one decreases, the other increases.\n",
    "#Generally, complexity of model leads to high variance and low bias\n",
    "#Simple models will have lower variance, but also be more biased.\n",
    "#Logistic regression: accuracy = how well the model classifies observations"
   ]
  },
  {
   "cell_type": "code",
   "execution_count": 318,
   "metadata": {
    "collapsed": true
   },
   "outputs": [],
   "source": [
    "#Supervised Prediction includes:\n",
    "#Linear regression\n",
    "#Pattern recognition\n",
    "#Discriminant analysis\n",
    "#Multivariate function estimation\n",
    "#Supervised ML techniques\n",
    "#Decision trees\n",
    "#Like linear regression, decision trees are designed for supervised prediction problems.\n",
    "#Root node, and terminal nodes or leaves.\n",
    "#Growing the tree process: binary splits maximize correct classification; all cut points are tested; subgroups showing\n",
    "#similar outcomes are generated\n",
    "#Validating the tree: cross validation guards against overfit. A random subset is tested and only 'branches' that improve\n",
    "#the classification are retained\n",
    "#Selected sub tree is the lowest probability of misclassification\n",
    "#Trees allow the handling of many variables that cannot be done as efficiently in linear regression. They can also uncover\n",
    "#constellations of variables that can predict high or low rates of the response variable."
   ]
  },
  {
   "cell_type": "code",
   "execution_count": 508,
   "metadata": {
    "collapsed": true
   },
   "outputs": [],
   "source": [
    "#Strengths of decision trees\n",
    "#Can select from a large number of variables those and their interactions that are most important in determining the\n",
    "#target or response variable to be explained\n",
    "#They are easy to interpret and visualize, especially when the tree is small\n",
    "#Can handle large data sets well and can predict both binary, categorical target variables and also quantitative ones\n",
    "#Limitations: small changes in the data can lead to different splits and this can undermine the interpretability of the model\n",
    "#and decision trees are not very reproducible on future data\n",
    "#Note: decision trees cannot handle missing data!"
   ]
  },
  {
   "cell_type": "code",
   "execution_count": 553,
   "metadata": {
    "collapsed": false
   },
   "outputs": [
    {
     "data": {
      "text/plain": [
       "Index(['age', 'sex', 'chest_pain', 'rest_bp', 'cholesterol', 'fasting_bs',\n",
       "       'rest_ecg', 'max_heart_rate', 'exercise_angina', 'st_depression',\n",
       "       'diagnosis', 'chest_pain_p', 'age_c', 'rest_bp_c', 'cholesterol_c',\n",
       "       'max_heart_rate_c', 'st_depression_c', 'diagnosis_binary'],\n",
       "      dtype='object')"
      ]
     },
     "execution_count": 553,
     "metadata": {},
     "output_type": "execute_result"
    }
   ],
   "source": [
    "df_clean_copy.columns"
   ]
  },
  {
   "cell_type": "code",
   "execution_count": 566,
   "metadata": {
    "collapsed": true
   },
   "outputs": [],
   "source": [
    "df_sex = pd.get_dummies(df_clean_copy['sex'], prefix = 'sex')"
   ]
  },
  {
   "cell_type": "code",
   "execution_count": 569,
   "metadata": {
    "collapsed": true
   },
   "outputs": [],
   "source": [
    "df_chest_pain = pd.get_dummies(df_clean_copy['chest_pain'], prefix = 'chest_pain')\n",
    "df_fasting_bs = pd.get_dummies(df_clean_copy['fasting_bs'], prefix = 'fasting_bs')\n",
    "df_rest_ecg = pd.get_dummies(df_clean_copy['rest_ecg'], prefix = 'rest_ecg')\n",
    "df_exercise_angina = pd.get_dummies(df_clean_copy['exercise_angina'], prefix='exercise_angina')"
   ]
  },
  {
   "cell_type": "code",
   "execution_count": 570,
   "metadata": {
    "collapsed": false
   },
   "outputs": [],
   "source": [
    "df_merged = pd.concat([df_clean_copy, df_sex, df_chest_pain, df_fasting_bs, df_rest_ecg, df_exercise_angina], axis=1)"
   ]
  },
  {
   "cell_type": "code",
   "execution_count": 571,
   "metadata": {
    "collapsed": false
   },
   "outputs": [
    {
     "data": {
      "text/plain": [
       "Index(['age', 'sex', 'chest_pain', 'rest_bp', 'cholesterol', 'fasting_bs',\n",
       "       'rest_ecg', 'max_heart_rate', 'exercise_angina', 'st_depression',\n",
       "       'diagnosis', 'chest_pain_p', 'age_c', 'rest_bp_c', 'cholesterol_c',\n",
       "       'max_heart_rate_c', 'st_depression_c', 'diagnosis_binary', 'sex_0.0',\n",
       "       'sex_1.0', 'chest_pain_1.0', 'chest_pain_2.0', 'chest_pain_3.0',\n",
       "       'chest_pain_4.0', 'fasting_bs_0.0', 'fasting_bs_1.0', 'rest_ecg_0.0',\n",
       "       'rest_ecg_1.0', 'rest_ecg_2.0', 'exercise_angina_0.0',\n",
       "       'exercise_angina_1.0'],\n",
       "      dtype='object')"
      ]
     },
     "execution_count": 571,
     "metadata": {},
     "output_type": "execute_result"
    }
   ],
   "source": [
    "df_merged.columns"
   ]
  },
  {
   "cell_type": "code",
   "execution_count": 574,
   "metadata": {
    "collapsed": false
   },
   "outputs": [],
   "source": [
    "df_dt = df_merged[['age', 'sex_0.0', 'sex_1.0', 'chest_pain_1.0', 'chest_pain_2.0', 'chest_pain_3.0', \\\n",
    "                       'chest_pain_4.0', 'rest_bp', 'cholesterol', 'fasting_bs_0.0', 'fasting_bs_1.0', \\\n",
    "                      'rest_ecg_1.0', 'rest_ecg_2.0', 'max_heart_rate', 'exercise_angina_0.0', 'exercise_angina_1.0',\\\n",
    "                       'st_depression', 'diagnosis_binary']]"
   ]
  },
  {
   "cell_type": "code",
   "execution_count": 575,
   "metadata": {
    "collapsed": true
   },
   "outputs": [],
   "source": [
    "predictors = df_dt.ix[:, df_dt.columns != 'diagnosis_binary']"
   ]
  },
  {
   "cell_type": "code",
   "execution_count": 577,
   "metadata": {
    "collapsed": false
   },
   "outputs": [
    {
     "data": {
      "text/html": [
       "<div>\n",
       "<table border=\"1\" class=\"dataframe\">\n",
       "  <thead>\n",
       "    <tr style=\"text-align: right;\">\n",
       "      <th></th>\n",
       "      <th>age</th>\n",
       "      <th>sex_0.0</th>\n",
       "      <th>sex_1.0</th>\n",
       "      <th>chest_pain_1.0</th>\n",
       "      <th>chest_pain_2.0</th>\n",
       "      <th>chest_pain_3.0</th>\n",
       "      <th>chest_pain_4.0</th>\n",
       "      <th>rest_bp</th>\n",
       "      <th>cholesterol</th>\n",
       "      <th>fasting_bs_0.0</th>\n",
       "      <th>fasting_bs_1.0</th>\n",
       "      <th>rest_ecg_1.0</th>\n",
       "      <th>rest_ecg_2.0</th>\n",
       "      <th>max_heart_rate</th>\n",
       "      <th>exercise_angina_0.0</th>\n",
       "      <th>exercise_angina_1.0</th>\n",
       "      <th>st_depression</th>\n",
       "    </tr>\n",
       "  </thead>\n",
       "  <tbody>\n",
       "    <tr>\n",
       "      <th>0</th>\n",
       "      <td>63.0</td>\n",
       "      <td>0</td>\n",
       "      <td>1</td>\n",
       "      <td>1</td>\n",
       "      <td>0</td>\n",
       "      <td>0</td>\n",
       "      <td>0</td>\n",
       "      <td>145.0</td>\n",
       "      <td>233.0</td>\n",
       "      <td>0</td>\n",
       "      <td>1</td>\n",
       "      <td>0</td>\n",
       "      <td>1</td>\n",
       "      <td>150.0</td>\n",
       "      <td>1</td>\n",
       "      <td>0</td>\n",
       "      <td>2.3</td>\n",
       "    </tr>\n",
       "    <tr>\n",
       "      <th>1</th>\n",
       "      <td>67.0</td>\n",
       "      <td>0</td>\n",
       "      <td>1</td>\n",
       "      <td>0</td>\n",
       "      <td>0</td>\n",
       "      <td>0</td>\n",
       "      <td>1</td>\n",
       "      <td>160.0</td>\n",
       "      <td>286.0</td>\n",
       "      <td>1</td>\n",
       "      <td>0</td>\n",
       "      <td>0</td>\n",
       "      <td>1</td>\n",
       "      <td>108.0</td>\n",
       "      <td>0</td>\n",
       "      <td>1</td>\n",
       "      <td>1.5</td>\n",
       "    </tr>\n",
       "    <tr>\n",
       "      <th>2</th>\n",
       "      <td>67.0</td>\n",
       "      <td>0</td>\n",
       "      <td>1</td>\n",
       "      <td>0</td>\n",
       "      <td>0</td>\n",
       "      <td>0</td>\n",
       "      <td>1</td>\n",
       "      <td>120.0</td>\n",
       "      <td>229.0</td>\n",
       "      <td>1</td>\n",
       "      <td>0</td>\n",
       "      <td>0</td>\n",
       "      <td>1</td>\n",
       "      <td>129.0</td>\n",
       "      <td>0</td>\n",
       "      <td>1</td>\n",
       "      <td>2.6</td>\n",
       "    </tr>\n",
       "    <tr>\n",
       "      <th>3</th>\n",
       "      <td>37.0</td>\n",
       "      <td>0</td>\n",
       "      <td>1</td>\n",
       "      <td>0</td>\n",
       "      <td>0</td>\n",
       "      <td>1</td>\n",
       "      <td>0</td>\n",
       "      <td>130.0</td>\n",
       "      <td>250.0</td>\n",
       "      <td>1</td>\n",
       "      <td>0</td>\n",
       "      <td>0</td>\n",
       "      <td>0</td>\n",
       "      <td>187.0</td>\n",
       "      <td>1</td>\n",
       "      <td>0</td>\n",
       "      <td>3.5</td>\n",
       "    </tr>\n",
       "    <tr>\n",
       "      <th>4</th>\n",
       "      <td>41.0</td>\n",
       "      <td>1</td>\n",
       "      <td>0</td>\n",
       "      <td>0</td>\n",
       "      <td>1</td>\n",
       "      <td>0</td>\n",
       "      <td>0</td>\n",
       "      <td>130.0</td>\n",
       "      <td>204.0</td>\n",
       "      <td>1</td>\n",
       "      <td>0</td>\n",
       "      <td>0</td>\n",
       "      <td>1</td>\n",
       "      <td>172.0</td>\n",
       "      <td>1</td>\n",
       "      <td>0</td>\n",
       "      <td>1.4</td>\n",
       "    </tr>\n",
       "  </tbody>\n",
       "</table>\n",
       "</div>"
      ],
      "text/plain": [
       "    age  sex_0.0  sex_1.0  chest_pain_1.0  chest_pain_2.0  chest_pain_3.0  \\\n",
       "0  63.0        0        1               1               0               0   \n",
       "1  67.0        0        1               0               0               0   \n",
       "2  67.0        0        1               0               0               0   \n",
       "3  37.0        0        1               0               0               1   \n",
       "4  41.0        1        0               0               1               0   \n",
       "\n",
       "   chest_pain_4.0  rest_bp  cholesterol  fasting_bs_0.0  fasting_bs_1.0  \\\n",
       "0               0    145.0        233.0               0               1   \n",
       "1               1    160.0        286.0               1               0   \n",
       "2               1    120.0        229.0               1               0   \n",
       "3               0    130.0        250.0               1               0   \n",
       "4               0    130.0        204.0               1               0   \n",
       "\n",
       "   rest_ecg_1.0  rest_ecg_2.0  max_heart_rate  exercise_angina_0.0  \\\n",
       "0             0             1           150.0                    1   \n",
       "1             0             1           108.0                    0   \n",
       "2             0             1           129.0                    0   \n",
       "3             0             0           187.0                    1   \n",
       "4             0             1           172.0                    1   \n",
       "\n",
       "   exercise_angina_1.0  st_depression  \n",
       "0                    0            2.3  \n",
       "1                    1            1.5  \n",
       "2                    1            2.6  \n",
       "3                    0            3.5  \n",
       "4                    0            1.4  "
      ]
     },
     "execution_count": 577,
     "metadata": {},
     "output_type": "execute_result"
    }
   ],
   "source": [
    "predictors.head(5)"
   ]
  },
  {
   "cell_type": "code",
   "execution_count": 578,
   "metadata": {
    "collapsed": true
   },
   "outputs": [],
   "source": [
    "target = df_dt['diagnosis_binary']"
   ]
  },
  {
   "cell_type": "code",
   "execution_count": 579,
   "metadata": {
    "collapsed": true
   },
   "outputs": [],
   "source": [
    "pred_train, pred_test, tar_train, tar_test = train_test_split(predictors, target, test_size = 0.4)"
   ]
  },
  {
   "cell_type": "code",
   "execution_count": 580,
   "metadata": {
    "collapsed": false
   },
   "outputs": [
    {
     "name": "stdout",
     "output_type": "stream",
     "text": [
      "(444, 17) (297, 17) (444,) (297,)\n"
     ]
    }
   ],
   "source": [
    "print(pred_train.shape, pred_test.shape, tar_train.shape, tar_test.shape)"
   ]
  },
  {
   "cell_type": "code",
   "execution_count": 581,
   "metadata": {
    "collapsed": true
   },
   "outputs": [],
   "source": [
    "classifier = DecisionTreeClassifier()\n",
    "classifier = classifier.fit(pred_train, tar_train)"
   ]
  },
  {
   "cell_type": "code",
   "execution_count": 582,
   "metadata": {
    "collapsed": true
   },
   "outputs": [],
   "source": [
    "predictions = classifier.predict(pred_test)"
   ]
  },
  {
   "cell_type": "code",
   "execution_count": 583,
   "metadata": {
    "collapsed": false
   },
   "outputs": [
    {
     "data": {
      "text/plain": [
       "array([[100,  46],\n",
       "       [ 35, 116]])"
      ]
     },
     "execution_count": 583,
     "metadata": {},
     "output_type": "execute_result"
    }
   ],
   "source": [
    "sklearn.metrics.confusion_matrix(tar_test, predictions)"
   ]
  },
  {
   "cell_type": "code",
   "execution_count": 584,
   "metadata": {
    "collapsed": false
   },
   "outputs": [
    {
     "data": {
      "text/plain": [
       "0.72727272727272729"
      ]
     },
     "execution_count": 584,
     "metadata": {},
     "output_type": "execute_result"
    }
   ],
   "source": [
    "sklearn.metrics.accuracy_score(tar_test, predictions)"
   ]
  },
  {
   "cell_type": "code",
   "execution_count": 585,
   "metadata": {
    "collapsed": true
   },
   "outputs": [],
   "source": [
    "#Random forests\n",
    "#Forests of trees\n",
    "#Splits on only ONE variable in each node. Variable with largest association with Target among\n",
    "#candidate variables. Only among variables randomly selected to be tested for that node.\n",
    "#First a subset of explanatory variables is selected at random\n",
    "#Next the node is split with the Best variable of the subset. After this node is split, a new list of subset variables\n",
    "#is selected at random to split on the next node.\n",
    "#typical k fold values: 5 or 10"
   ]
  },
  {
   "cell_type": "code",
   "execution_count": 586,
   "metadata": {
    "collapsed": true
   },
   "outputs": [],
   "source": [
    "classifier2 = RandomForestClassifier(n_estimators = 25)\n",
    "classifier2 = classifier.fit(pred_train, tar_train)"
   ]
  },
  {
   "cell_type": "code",
   "execution_count": 587,
   "metadata": {
    "collapsed": true
   },
   "outputs": [],
   "source": [
    "predictions2 = classifier2.predict(pred_test)"
   ]
  },
  {
   "cell_type": "code",
   "execution_count": 588,
   "metadata": {
    "collapsed": false
   },
   "outputs": [
    {
     "data": {
      "text/plain": [
       "array([[100,  46],\n",
       "       [ 35, 116]])"
      ]
     },
     "execution_count": 588,
     "metadata": {},
     "output_type": "execute_result"
    }
   ],
   "source": [
    "sklearn.metrics.confusion_matrix(tar_test, predictions)"
   ]
  },
  {
   "cell_type": "code",
   "execution_count": 589,
   "metadata": {
    "collapsed": false
   },
   "outputs": [
    {
     "data": {
      "text/plain": [
       "0.72727272727272729"
      ]
     },
     "execution_count": 589,
     "metadata": {},
     "output_type": "execute_result"
    }
   ],
   "source": [
    "sklearn.metrics.accuracy_score(tar_test, predictions)"
   ]
  },
  {
   "cell_type": "code",
   "execution_count": 590,
   "metadata": {
    "collapsed": false
   },
   "outputs": [
    {
     "name": "stdout",
     "output_type": "stream",
     "text": [
      "[ 0.08999192  0.01908356  0.04098925  0.02311599  0.03329789  0.01605744\n",
      "  0.09088906  0.08901637  0.10302589  0.01470382  0.01923717  0.02264967\n",
      "  0.02861091  0.099645    0.12975872  0.07324879  0.10667855]\n"
     ]
    }
   ],
   "source": [
    "#fit an Extra Trees model to the data\n",
    "model = ExtraTreesClassifier()\n",
    "model.fit(pred_train, tar_train)\n",
    "#display the relative importance of each attribute\n",
    "print(model.feature_importances_)"
   ]
  },
  {
   "cell_type": "code",
   "execution_count": 591,
   "metadata": {
    "collapsed": true
   },
   "outputs": [],
   "source": [
    "trees = range(25)\n",
    "accuracy = np.zeros(25)"
   ]
  },
  {
   "cell_type": "code",
   "execution_count": 592,
   "metadata": {
    "collapsed": true
   },
   "outputs": [],
   "source": [
    "for idx in range(len(trees)):\n",
    "    classifier = RandomForestClassifier(n_estimators = idx + 1)\n",
    "    classifier = classifier.fit(pred_train, tar_train)\n",
    "    predictions = classifier.predict(pred_test)\n",
    "    accuracy[idx] = sklearn.metrics.accuracy_score(tar_test, predictions)"
   ]
  },
  {
   "cell_type": "code",
   "execution_count": 593,
   "metadata": {
    "collapsed": false
   },
   "outputs": [
    {
     "data": {
      "text/plain": [
       "[<matplotlib.lines.Line2D at 0x116f722b0>]"
      ]
     },
     "execution_count": 593,
     "metadata": {},
     "output_type": "execute_result"
    },
    {
     "data": {
      "image/png": "[encoded data removed]",
      "text/plain": [
       "<matplotlib.figure.Figure at 0x116f72668>"
      ]
     },
     "metadata": {},
     "output_type": "display_data"
    }
   ],
   "source": [
    "plt.cla()\n",
    "plt.plot(trees, accuracy)"
   ]
  },
  {
   "cell_type": "code",
   "execution_count": 594,
   "metadata": {
    "collapsed": true
   },
   "outputs": [],
   "source": [
    "#Lasso regression\n",
    "#penalized regression method\n",
    "#supervised learning method\n",
    "#shrinkage and selection method\n",
    "#shrinkage = constraints on parameters that shrinks coefficients to 0\n",
    "#selection = identifies most imp. variables associated with response variable\n",
    "#Can increase prediction accuracy and improve model interpretability vs standard OLS\n",
    "#When lambda=0, it becomes OLS regression\n",
    "#Bias increases and variance decreases as lambda increases\n",
    "#in Lasso regression, penalty is not fair if variables are not on the same scale\n",
    "#standardize all predictor variables to have means equal to 0 and sd = 1\n",
    "#Lasso regression has several algorithms, among them LAR (least angle regression-)\n",
    "#sklearn library refers to the penalty term as 'alpha'"
   ]
  },
  {
   "cell_type": "code",
   "execution_count": 595,
   "metadata": {
    "collapsed": true
   },
   "outputs": [],
   "source": [
    "#Limitations of lasso regression\n",
    "#1. Selection of variables is 100% statistically driven\n",
    "#2. If predictors are correlated, lasso arbitrarily selects one\n",
    "#3. Estimating p values is not straightforward\n",
    "#4. Different selection methods or statistical softwares can provide different results\n",
    "#5. No guarantee that selected model is not overfitted nor that it's the best model\n",
    "#All regression models can produce meaningless models without human intervention\n",
    "#Best approach is a combination of ML, human intervention, and independent application"
   ]
  },
  {
   "cell_type": "code",
   "execution_count": 596,
   "metadata": {
    "collapsed": false
   },
   "outputs": [
    {
     "data": {
      "text/plain": [
       "Index(['age', 'sex_0.0', 'sex_1.0', 'chest_pain_1.0', 'chest_pain_2.0',\n",
       "       'chest_pain_3.0', 'chest_pain_4.0', 'rest_bp', 'cholesterol',\n",
       "       'fasting_bs_0.0', 'fasting_bs_1.0', 'rest_ecg_1.0', 'rest_ecg_2.0',\n",
       "       'max_heart_rate', 'exercise_angina_0.0', 'exercise_angina_1.0',\n",
       "       'st_depression'],\n",
       "      dtype='object')"
      ]
     },
     "execution_count": 596,
     "metadata": {},
     "output_type": "execute_result"
    }
   ],
   "source": [
    "predictors.columns"
   ]
  },
  {
   "cell_type": "code",
   "execution_count": 597,
   "metadata": {
    "collapsed": false
   },
   "outputs": [
    {
     "name": "stderr",
     "output_type": "stream",
     "text": [
      "//anaconda/lib/python3.6/site-packages/ipykernel/__main__.py:1: SettingWithCopyWarning: \n",
      "A value is trying to be set on a copy of a slice from a DataFrame.\n",
      "Try using .loc[row_indexer,col_indexer] = value instead\n",
      "\n",
      "See the caveats in the documentation: http://pandas.pydata.org/pandas-docs/stable/indexing.html#indexing-view-versus-copy\n",
      "  if __name__ == '__main__':\n"
     ]
    },
    {
     "ename": "KeyError",
     "evalue": "'sex'",
     "output_type": "error",
     "traceback": [
      "\u001b[0;31m---------------------------------------------------------------------------\u001b[0m",
      "\u001b[0;31mKeyError\u001b[0m                                  Traceback (most recent call last)",
      "\u001b[0;32m//anaconda/lib/python3.6/site-packages/pandas/indexes/base.py\u001b[0m in \u001b[0;36mget_loc\u001b[0;34m(self, key, method, tolerance)\u001b[0m\n\u001b[1;32m   2133\u001b[0m             \u001b[0;32mtry\u001b[0m\u001b[0;34m:\u001b[0m\u001b[0;34m\u001b[0m\u001b[0m\n\u001b[0;32m-> 2134\u001b[0;31m                 \u001b[0;32mreturn\u001b[0m \u001b[0mself\u001b[0m\u001b[0;34m.\u001b[0m\u001b[0m_engine\u001b[0m\u001b[0;34m.\u001b[0m\u001b[0mget_loc\u001b[0m\u001b[0;34m(\u001b[0m\u001b[0mkey\u001b[0m\u001b[0;34m)\u001b[0m\u001b[0;34m\u001b[0m\u001b[0m\n\u001b[0m\u001b[1;32m   2135\u001b[0m             \u001b[0;32mexcept\u001b[0m \u001b[0mKeyError\u001b[0m\u001b[0;34m:\u001b[0m\u001b[0;34m\u001b[0m\u001b[0m\n",
      "\u001b[0;32mpandas/index.pyx\u001b[0m in \u001b[0;36mpandas.index.IndexEngine.get_loc (pandas/index.c:4433)\u001b[0;34m()\u001b[0m\n",
      "\u001b[0;32mpandas/index.pyx\u001b[0m in \u001b[0;36mpandas.index.IndexEngine.get_loc (pandas/index.c:4279)\u001b[0;34m()\u001b[0m\n",
      "\u001b[0;32mpandas/src/hashtable_class_helper.pxi\u001b[0m in \u001b[0;36mpandas.hashtable.PyObjectHashTable.get_item (pandas/hashtable.c:13742)\u001b[0;34m()\u001b[0m\n",
      "\u001b[0;32mpandas/src/hashtable_class_helper.pxi\u001b[0m in \u001b[0;36mpandas.hashtable.PyObjectHashTable.get_item (pandas/hashtable.c:13696)\u001b[0;34m()\u001b[0m\n",
      "\u001b[0;31mKeyError\u001b[0m: 'sex'",
      "\nDuring handling of the above exception, another exception occurred:\n",
      "\u001b[0;31mKeyError\u001b[0m                                  Traceback (most recent call last)",
      "\u001b[0;32m<ipython-input-597-5f002067b23a>\u001b[0m in \u001b[0;36m<module>\u001b[0;34m()\u001b[0m\n\u001b[1;32m      1\u001b[0m \u001b[0mpredictors\u001b[0m\u001b[0;34m[\u001b[0m\u001b[0;34m'age'\u001b[0m\u001b[0;34m]\u001b[0m \u001b[0;34m=\u001b[0m \u001b[0mpreprocessing\u001b[0m\u001b[0;34m.\u001b[0m\u001b[0mscale\u001b[0m\u001b[0;34m(\u001b[0m\u001b[0mpredictors\u001b[0m\u001b[0;34m[\u001b[0m\u001b[0;34m'age'\u001b[0m\u001b[0;34m]\u001b[0m\u001b[0;34m.\u001b[0m\u001b[0mastype\u001b[0m\u001b[0;34m(\u001b[0m\u001b[0;34m'float64'\u001b[0m\u001b[0;34m)\u001b[0m\u001b[0;34m)\u001b[0m\u001b[0;34m\u001b[0m\u001b[0m\n\u001b[0;32m----> 2\u001b[0;31m \u001b[0mpredictors\u001b[0m\u001b[0;34m[\u001b[0m\u001b[0;34m'sex'\u001b[0m\u001b[0;34m]\u001b[0m \u001b[0;34m=\u001b[0m \u001b[0mpreprocessing\u001b[0m\u001b[0;34m.\u001b[0m\u001b[0mscale\u001b[0m\u001b[0;34m(\u001b[0m\u001b[0mpredictors\u001b[0m\u001b[0;34m[\u001b[0m\u001b[0;34m'sex'\u001b[0m\u001b[0;34m]\u001b[0m\u001b[0;34m.\u001b[0m\u001b[0mastype\u001b[0m\u001b[0;34m(\u001b[0m\u001b[0;34m'float64'\u001b[0m\u001b[0;34m)\u001b[0m\u001b[0;34m)\u001b[0m\u001b[0;34m\u001b[0m\u001b[0m\n\u001b[0m\u001b[1;32m      3\u001b[0m \u001b[0mpredictors\u001b[0m\u001b[0;34m[\u001b[0m\u001b[0;34m'chest_pain'\u001b[0m\u001b[0;34m]\u001b[0m \u001b[0;34m=\u001b[0m \u001b[0mpreprocessing\u001b[0m\u001b[0;34m.\u001b[0m\u001b[0mscale\u001b[0m\u001b[0;34m(\u001b[0m\u001b[0mpredictors\u001b[0m\u001b[0;34m[\u001b[0m\u001b[0;34m'rest_bp'\u001b[0m\u001b[0;34m]\u001b[0m\u001b[0;34m.\u001b[0m\u001b[0mastype\u001b[0m\u001b[0;34m(\u001b[0m\u001b[0;34m'float64'\u001b[0m\u001b[0;34m)\u001b[0m\u001b[0;34m)\u001b[0m\u001b[0;34m\u001b[0m\u001b[0m\n\u001b[1;32m      4\u001b[0m \u001b[0mpredictors\u001b[0m\u001b[0;34m[\u001b[0m\u001b[0;34m'cholesterol'\u001b[0m\u001b[0;34m]\u001b[0m \u001b[0;34m=\u001b[0m \u001b[0mpreprocessing\u001b[0m\u001b[0;34m.\u001b[0m\u001b[0mscale\u001b[0m\u001b[0;34m(\u001b[0m\u001b[0mpredictors\u001b[0m\u001b[0;34m[\u001b[0m\u001b[0;34m'cholesterol'\u001b[0m\u001b[0;34m]\u001b[0m\u001b[0;34m.\u001b[0m\u001b[0mastype\u001b[0m\u001b[0;34m(\u001b[0m\u001b[0;34m'float64'\u001b[0m\u001b[0;34m)\u001b[0m\u001b[0;34m)\u001b[0m\u001b[0;34m\u001b[0m\u001b[0m\n\u001b[1;32m      5\u001b[0m \u001b[0mpredictors\u001b[0m\u001b[0;34m[\u001b[0m\u001b[0;34m'fasting_bs'\u001b[0m\u001b[0;34m]\u001b[0m \u001b[0;34m=\u001b[0m \u001b[0mpreprocessing\u001b[0m\u001b[0;34m.\u001b[0m\u001b[0mscale\u001b[0m\u001b[0;34m(\u001b[0m\u001b[0mpredictors\u001b[0m\u001b[0;34m[\u001b[0m\u001b[0;34m'fasting_bs'\u001b[0m\u001b[0;34m]\u001b[0m\u001b[0;34m.\u001b[0m\u001b[0mastype\u001b[0m\u001b[0;34m(\u001b[0m\u001b[0;34m'float64'\u001b[0m\u001b[0;34m)\u001b[0m\u001b[0;34m)\u001b[0m\u001b[0;34m\u001b[0m\u001b[0m\n",
      "\u001b[0;32m//anaconda/lib/python3.6/site-packages/pandas/core/frame.py\u001b[0m in \u001b[0;36m__getitem__\u001b[0;34m(self, key)\u001b[0m\n\u001b[1;32m   2057\u001b[0m             \u001b[0;32mreturn\u001b[0m \u001b[0mself\u001b[0m\u001b[0;34m.\u001b[0m\u001b[0m_getitem_multilevel\u001b[0m\u001b[0;34m(\u001b[0m\u001b[0mkey\u001b[0m\u001b[0;34m)\u001b[0m\u001b[0;34m\u001b[0m\u001b[0m\n\u001b[1;32m   2058\u001b[0m         \u001b[0;32melse\u001b[0m\u001b[0;34m:\u001b[0m\u001b[0;34m\u001b[0m\u001b[0m\n\u001b[0;32m-> 2059\u001b[0;31m             \u001b[0;32mreturn\u001b[0m \u001b[0mself\u001b[0m\u001b[0;34m.\u001b[0m\u001b[0m_getitem_column\u001b[0m\u001b[0;34m(\u001b[0m\u001b[0mkey\u001b[0m\u001b[0;34m)\u001b[0m\u001b[0;34m\u001b[0m\u001b[0m\n\u001b[0m\u001b[1;32m   2060\u001b[0m \u001b[0;34m\u001b[0m\u001b[0m\n\u001b[1;32m   2061\u001b[0m     \u001b[0;32mdef\u001b[0m \u001b[0m_getitem_column\u001b[0m\u001b[0;34m(\u001b[0m\u001b[0mself\u001b[0m\u001b[0;34m,\u001b[0m \u001b[0mkey\u001b[0m\u001b[0;34m)\u001b[0m\u001b[0;34m:\u001b[0m\u001b[0;34m\u001b[0m\u001b[0m\n",
      "\u001b[0;32m//anaconda/lib/python3.6/site-packages/pandas/core/frame.py\u001b[0m in \u001b[0;36m_getitem_column\u001b[0;34m(self, key)\u001b[0m\n\u001b[1;32m   2064\u001b[0m         \u001b[0;31m# get column\u001b[0m\u001b[0;34m\u001b[0m\u001b[0;34m\u001b[0m\u001b[0m\n\u001b[1;32m   2065\u001b[0m         \u001b[0;32mif\u001b[0m \u001b[0mself\u001b[0m\u001b[0;34m.\u001b[0m\u001b[0mcolumns\u001b[0m\u001b[0;34m.\u001b[0m\u001b[0mis_unique\u001b[0m\u001b[0;34m:\u001b[0m\u001b[0;34m\u001b[0m\u001b[0m\n\u001b[0;32m-> 2066\u001b[0;31m             \u001b[0;32mreturn\u001b[0m \u001b[0mself\u001b[0m\u001b[0;34m.\u001b[0m\u001b[0m_get_item_cache\u001b[0m\u001b[0;34m(\u001b[0m\u001b[0mkey\u001b[0m\u001b[0;34m)\u001b[0m\u001b[0;34m\u001b[0m\u001b[0m\n\u001b[0m\u001b[1;32m   2067\u001b[0m \u001b[0;34m\u001b[0m\u001b[0m\n\u001b[1;32m   2068\u001b[0m         \u001b[0;31m# duplicate columns & possible reduce dimensionality\u001b[0m\u001b[0;34m\u001b[0m\u001b[0;34m\u001b[0m\u001b[0m\n",
      "\u001b[0;32m//anaconda/lib/python3.6/site-packages/pandas/core/generic.py\u001b[0m in \u001b[0;36m_get_item_cache\u001b[0;34m(self, item)\u001b[0m\n\u001b[1;32m   1384\u001b[0m         \u001b[0mres\u001b[0m \u001b[0;34m=\u001b[0m \u001b[0mcache\u001b[0m\u001b[0;34m.\u001b[0m\u001b[0mget\u001b[0m\u001b[0;34m(\u001b[0m\u001b[0mitem\u001b[0m\u001b[0;34m)\u001b[0m\u001b[0;34m\u001b[0m\u001b[0m\n\u001b[1;32m   1385\u001b[0m         \u001b[0;32mif\u001b[0m \u001b[0mres\u001b[0m \u001b[0;32mis\u001b[0m \u001b[0;32mNone\u001b[0m\u001b[0;34m:\u001b[0m\u001b[0;34m\u001b[0m\u001b[0m\n\u001b[0;32m-> 1386\u001b[0;31m             \u001b[0mvalues\u001b[0m \u001b[0;34m=\u001b[0m \u001b[0mself\u001b[0m\u001b[0;34m.\u001b[0m\u001b[0m_data\u001b[0m\u001b[0;34m.\u001b[0m\u001b[0mget\u001b[0m\u001b[0;34m(\u001b[0m\u001b[0mitem\u001b[0m\u001b[0;34m)\u001b[0m\u001b[0;34m\u001b[0m\u001b[0m\n\u001b[0m\u001b[1;32m   1387\u001b[0m             \u001b[0mres\u001b[0m \u001b[0;34m=\u001b[0m \u001b[0mself\u001b[0m\u001b[0;34m.\u001b[0m\u001b[0m_box_item_values\u001b[0m\u001b[0;34m(\u001b[0m\u001b[0mitem\u001b[0m\u001b[0;34m,\u001b[0m \u001b[0mvalues\u001b[0m\u001b[0;34m)\u001b[0m\u001b[0;34m\u001b[0m\u001b[0m\n\u001b[1;32m   1388\u001b[0m             \u001b[0mcache\u001b[0m\u001b[0;34m[\u001b[0m\u001b[0mitem\u001b[0m\u001b[0;34m]\u001b[0m \u001b[0;34m=\u001b[0m \u001b[0mres\u001b[0m\u001b[0;34m\u001b[0m\u001b[0m\n",
      "\u001b[0;32m//anaconda/lib/python3.6/site-packages/pandas/core/internals.py\u001b[0m in \u001b[0;36mget\u001b[0;34m(self, item, fastpath)\u001b[0m\n\u001b[1;32m   3541\u001b[0m \u001b[0;34m\u001b[0m\u001b[0m\n\u001b[1;32m   3542\u001b[0m             \u001b[0;32mif\u001b[0m \u001b[0;32mnot\u001b[0m \u001b[0misnull\u001b[0m\u001b[0;34m(\u001b[0m\u001b[0mitem\u001b[0m\u001b[0;34m)\u001b[0m\u001b[0;34m:\u001b[0m\u001b[0;34m\u001b[0m\u001b[0m\n\u001b[0;32m-> 3543\u001b[0;31m                 \u001b[0mloc\u001b[0m \u001b[0;34m=\u001b[0m \u001b[0mself\u001b[0m\u001b[0;34m.\u001b[0m\u001b[0mitems\u001b[0m\u001b[0;34m.\u001b[0m\u001b[0mget_loc\u001b[0m\u001b[0;34m(\u001b[0m\u001b[0mitem\u001b[0m\u001b[0;34m)\u001b[0m\u001b[0;34m\u001b[0m\u001b[0m\n\u001b[0m\u001b[1;32m   3544\u001b[0m             \u001b[0;32melse\u001b[0m\u001b[0;34m:\u001b[0m\u001b[0;34m\u001b[0m\u001b[0m\n\u001b[1;32m   3545\u001b[0m                 \u001b[0mindexer\u001b[0m \u001b[0;34m=\u001b[0m \u001b[0mnp\u001b[0m\u001b[0;34m.\u001b[0m\u001b[0marange\u001b[0m\u001b[0;34m(\u001b[0m\u001b[0mlen\u001b[0m\u001b[0;34m(\u001b[0m\u001b[0mself\u001b[0m\u001b[0;34m.\u001b[0m\u001b[0mitems\u001b[0m\u001b[0;34m)\u001b[0m\u001b[0;34m)\u001b[0m\u001b[0;34m[\u001b[0m\u001b[0misnull\u001b[0m\u001b[0;34m(\u001b[0m\u001b[0mself\u001b[0m\u001b[0;34m.\u001b[0m\u001b[0mitems\u001b[0m\u001b[0;34m)\u001b[0m\u001b[0;34m]\u001b[0m\u001b[0;34m\u001b[0m\u001b[0m\n",
      "\u001b[0;32m//anaconda/lib/python3.6/site-packages/pandas/indexes/base.py\u001b[0m in \u001b[0;36mget_loc\u001b[0;34m(self, key, method, tolerance)\u001b[0m\n\u001b[1;32m   2134\u001b[0m                 \u001b[0;32mreturn\u001b[0m \u001b[0mself\u001b[0m\u001b[0;34m.\u001b[0m\u001b[0m_engine\u001b[0m\u001b[0;34m.\u001b[0m\u001b[0mget_loc\u001b[0m\u001b[0;34m(\u001b[0m\u001b[0mkey\u001b[0m\u001b[0;34m)\u001b[0m\u001b[0;34m\u001b[0m\u001b[0m\n\u001b[1;32m   2135\u001b[0m             \u001b[0;32mexcept\u001b[0m \u001b[0mKeyError\u001b[0m\u001b[0;34m:\u001b[0m\u001b[0;34m\u001b[0m\u001b[0m\n\u001b[0;32m-> 2136\u001b[0;31m                 \u001b[0;32mreturn\u001b[0m \u001b[0mself\u001b[0m\u001b[0;34m.\u001b[0m\u001b[0m_engine\u001b[0m\u001b[0;34m.\u001b[0m\u001b[0mget_loc\u001b[0m\u001b[0;34m(\u001b[0m\u001b[0mself\u001b[0m\u001b[0;34m.\u001b[0m\u001b[0m_maybe_cast_indexer\u001b[0m\u001b[0;34m(\u001b[0m\u001b[0mkey\u001b[0m\u001b[0;34m)\u001b[0m\u001b[0;34m)\u001b[0m\u001b[0;34m\u001b[0m\u001b[0m\n\u001b[0m\u001b[1;32m   2137\u001b[0m \u001b[0;34m\u001b[0m\u001b[0m\n\u001b[1;32m   2138\u001b[0m         \u001b[0mindexer\u001b[0m \u001b[0;34m=\u001b[0m \u001b[0mself\u001b[0m\u001b[0;34m.\u001b[0m\u001b[0mget_indexer\u001b[0m\u001b[0;34m(\u001b[0m\u001b[0;34m[\u001b[0m\u001b[0mkey\u001b[0m\u001b[0;34m]\u001b[0m\u001b[0;34m,\u001b[0m \u001b[0mmethod\u001b[0m\u001b[0;34m=\u001b[0m\u001b[0mmethod\u001b[0m\u001b[0;34m,\u001b[0m \u001b[0mtolerance\u001b[0m\u001b[0;34m=\u001b[0m\u001b[0mtolerance\u001b[0m\u001b[0;34m)\u001b[0m\u001b[0;34m\u001b[0m\u001b[0m\n",
      "\u001b[0;32mpandas/index.pyx\u001b[0m in \u001b[0;36mpandas.index.IndexEngine.get_loc (pandas/index.c:4433)\u001b[0;34m()\u001b[0m\n",
      "\u001b[0;32mpandas/index.pyx\u001b[0m in \u001b[0;36mpandas.index.IndexEngine.get_loc (pandas/index.c:4279)\u001b[0;34m()\u001b[0m\n",
      "\u001b[0;32mpandas/src/hashtable_class_helper.pxi\u001b[0m in \u001b[0;36mpandas.hashtable.PyObjectHashTable.get_item (pandas/hashtable.c:13742)\u001b[0;34m()\u001b[0m\n",
      "\u001b[0;32mpandas/src/hashtable_class_helper.pxi\u001b[0m in \u001b[0;36mpandas.hashtable.PyObjectHashTable.get_item (pandas/hashtable.c:13696)\u001b[0;34m()\u001b[0m\n",
      "\u001b[0;31mKeyError\u001b[0m: 'sex'"
     ]
    }
   ],
   "source": [
    "predictors['age'] = preprocessing.scale(predictors['age'].astype('float64'))\n",
    "predictors['sex'] = preprocessing.scale(predictors['sex'].astype('float64'))\n",
    "predictors['chest_pain'] = preprocessing.scale(predictors['rest_bp'].astype('float64'))\n",
    "predictors['cholesterol'] = preprocessing.scale(predictors['cholesterol'].astype('float64'))\n",
    "predictors['fasting_bs'] = preprocessing.scale(predictors['fasting_bs'].astype('float64'))\n",
    "predictors['rest_ecg'] = preprocessing.scale(predictors['rest_ecg'].astype('float64'))\n",
    "predictors['max_heart_rate'] = preprocessing.scale(predictors['max_heart_rate'].astype('float64'))\n",
    "predictors['exercise_angina'] = preprocessing.scale(predictors['exercise_angina'].astype('float64'))\n",
    "predictors['st_depression'] = preprocessing.scale(predictors['st_depression'].astype('float64'))"
   ]
  },
  {
   "cell_type": "code",
   "execution_count": null,
   "metadata": {
    "collapsed": false
   },
   "outputs": [],
   "source": [
    "#split data into train and test sets\n",
    "pred_train, pred_test, tar_train, tar_test = train_test_split(predictors, target, \n",
    "                                                             test_size=.3, random_state=123)"
   ]
  },
  {
   "cell_type": "code",
   "execution_count": null,
   "metadata": {
    "collapsed": true
   },
   "outputs": [],
   "source": [
    "#specify lasso regression model\n",
    "model = LassoLarsCV(cv=10, precompute=False).fit(pred_train, tar_train)"
   ]
  },
  {
   "cell_type": "code",
   "execution_count": null,
   "metadata": {
    "collapsed": false
   },
   "outputs": [],
   "source": [
    "dict(zip(predictors.columns, model.coef_))"
   ]
  },
  {
   "cell_type": "code",
   "execution_count": null,
   "metadata": {
    "collapsed": false
   },
   "outputs": [],
   "source": [
    "#plot coefficient regression\n",
    "m_log_alphas = -np.log10(model.alphas_)\n",
    "ax = plt.gca()\n",
    "plt.plot(m_log_alphas, model.coef_path_.T)\n",
    "plt.axvline(-np.log10(model.alpha_), linestyle='--', color='k', label = 'alpha CV')\n",
    "plt.ylabel('Regression Coefficients')\n",
    "plt.xlabel('-log(alpha)')\n",
    "plt.title('Regression Coefficients Progression for Lasso Paths')"
   ]
  },
  {
   "cell_type": "code",
   "execution_count": null,
   "metadata": {
    "collapsed": false
   },
   "outputs": [],
   "source": [
    "#plot mean squared error for each fold\n",
    "m_log_alphascv = -np.log10(model.cv_alphas_)\n",
    "plt.figure()\n",
    "plt.plot(m_log_alphascv, model.cv_mse_path_, ':')\n",
    "plt.plot(m_log_alphascv, model.cv_mse_path_.mean(axis=-1), 'k', label = 'Average across the folds',\n",
    "         linewidth=2)\n",
    "plt.axvline(-np.log10(model.alpha_), linestyle='--', color='k',\n",
    "            label='alpha CV')\n",
    "plt.legend()\n",
    "plt.xlabel('-log(alpha)')\n",
    "plt.ylabel('Mean squared error')\n",
    "plt.title('Mean squared error on each fold')"
   ]
  },
  {
   "cell_type": "code",
   "execution_count": null,
   "metadata": {
    "collapsed": false
   },
   "outputs": [],
   "source": [
    "# MSE from training and test data\n",
    "from sklearn.metrics import mean_squared_error\n",
    "train_error = mean_squared_error(tar_train, model.predict(pred_train))\n",
    "test_error = mean_squared_error(tar_test, model.predict(pred_test))\n",
    "print ('training data MSE')\n",
    "print(train_error)\n",
    "print ('test data MSE')\n",
    "print(test_error)"
   ]
  },
  {
   "cell_type": "code",
   "execution_count": null,
   "metadata": {
    "collapsed": false
   },
   "outputs": [],
   "source": [
    "# R-square from training and test data\n",
    "rsquared_train=model.score(pred_train,tar_train)\n",
    "rsquared_test=model.score(pred_test,tar_test)\n",
    "print ('training data R-square')\n",
    "print(rsquared_train)\n",
    "print ('test data R-square')\n",
    "print(rsquared_test)"
   ]
  },
  {
   "cell_type": "code",
   "execution_count": null,
   "metadata": {
    "collapsed": true
   },
   "outputs": [],
   "source": [
    "groupby()....size()\n",
    "groupby().size()*100/len(data)"
   ]
  }
 ],
 "metadata": {
  "kernelspec": {
   "display_name": "Python 3",
   "language": "python",
   "name": "python3"
  },
  "language_info": {
   "codemirror_mode": {
    "name": "ipython",
    "version": 3
   },
   "file_extension": ".py",
   "mimetype": "text/x-python",
   "name": "python",
   "nbconvert_exporter": "python",
   "pygments_lexer": "ipython3",
   "version": "3.6.0"
  }
 },
 "nbformat": 4,
 "nbformat_minor": 2
}
